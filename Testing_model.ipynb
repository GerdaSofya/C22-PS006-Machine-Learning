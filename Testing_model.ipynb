{
  "cells": [
    {
      "cell_type": "code",
      "execution_count": 2,
      "metadata": {
        "colab": {
          "base_uri": "https://localhost:8080/"
        },
        "id": "L7Y0LJ4Q3Gsr",
        "outputId": "3b63e719-c8a8-4ffb-b19a-153ccc954766"
      },
      "outputs": [
        {
          "name": "stdout",
          "output_type": "stream",
          "text": [
            "/usr/local/lib/python3.7/dist-packages/gdown/cli.py:131: FutureWarning: Option `--id` was deprecated in version 4.3.1 and will be removed in 5.0. You don't need to pass it anymore to use a file ID.\n",
            "  category=FutureWarning,\n",
            "Downloading...\n",
            "From: https://drive.google.com/uc?id=1GsadHhrnXjMbJy0lnP2uwamK0T_blXIT\n",
            "To: /content/model_busaha.tflite\n",
            "100% 45.7k/45.7k [00:00<00:00, 39.1MB/s]\n"
          ]
        }
      ],
      "source": [
        "import numpy as np\n",
        "import tensorflow as tf\n",
        "from sklearn.preprocessing import normalize\n",
        "\n",
        "!gdown --id 1GsadHhrnXjMbJy0lnP2uwamK0T_blXIT\n",
        "\n",
        "path = \"/content/model_busaha.tflite\"\n",
        "# Load TFLite model and allocate tensors.\n",
        "interpreter = tf.lite.Interpreter(model_path=path)\n",
        "interpreter.allocate_tensors()\n",
        "\n",
        "# Get input and output tensors.\n",
        "input_details = interpreter.get_input_details()\n",
        "output_details = interpreter.get_output_details()"
      ]
    },
    {
      "cell_type": "code",
      "execution_count": 1,
      "metadata": {
        "id": "2q3HxVnlHLEy"
      },
      "outputs": [],
      "source": [
        "# declaring fetures\n",
        "peternak = [25000000, 1, 1, 1, 1, 1, 1, 1, 1000, 0, 0, 0, 0, 0, 0, 0]\n",
        "toserba = [10000000, 1, 1, 1, 1, 0, 1, 0, 0, 0, 0, 0, 0, 1, 1, 0]\n",
        "kuliner = [25000000, 1, 2, 0, 1, 0, 1, 0, 0, 1, 0, 0, 0, 0, 0, 0]"
      ]
    },
    {
      "cell_type": "code",
      "execution_count": 32,
      "metadata": {
        "id": "CHXp7HxkHWH6"
      },
      "outputs": [],
      "source": [
        "# take shape of features\n",
        "input_shape = input_details[0]['shape']\n",
        "\n",
        "# normalize input features\n",
        "# you can change feature values by yourself\n",
        "fitur_normalized = normalize([peternak], axis = 0, norm= 'l2')\n",
        "\n",
        "# inputting data\n",
        "input_data = np.array(fitur_normalized, dtype=np.float32)\n",
        "interpreter.set_tensor(input_details[0]['index'], input_data)\n",
        "interpreter.invoke()\n",
        "output_data = interpreter.get_tensor(output_details[0]['index'])"
      ]
    },
    {
      "cell_type": "code",
      "execution_count": 33,
      "metadata": {
        "colab": {
          "base_uri": "https://localhost:8080/"
        },
        "id": "yNrxlEKlRX4V",
        "outputId": "17f68dac-ffe1-43f1-b417-8ee48e946a31"
      },
      "outputs": [
        {
          "name": "stdout",
          "output_type": "stream",
          "text": [
            "[[1.0000000e+00 1.7343213e-17 1.5611617e-31 1.1258484e-32 6.4971297e-23\n",
            "  2.2225165e-17 1.8110519e-20 3.1958051e-29]]\n"
          ]
        }
      ],
      "source": [
        "print(output_data)"
      ]
    },
    {
      "cell_type": "code",
      "execution_count": 34,
      "metadata": {
        "colab": {
          "base_uri": "https://localhost:8080/"
        },
        "id": "m5inGLjkTC2q",
        "outputId": "671871e6-26cb-46b4-f28c-d58d3c1a5932"
      },
      "outputs": [
        {
          "name": "stdout",
          "output_type": "stream",
          "text": [
            "[[0 5 1 6 4 7 2 3]]\n"
          ]
        }
      ],
      "source": [
        "indextion = np.argsort((-output_data), axis = 1)\n",
        "print(indextion)"
      ]
    }
  ],
  "metadata": {
    "colab": {
      "collapsed_sections": [],
      "name": "Testing_model_busaha.ipynb",
      "provenance": []
    },
    "kernelspec": {
      "display_name": "Python 3",
      "name": "python3"
    },
    "language_info": {
      "name": "python"
    }
  },
  "nbformat": 4,
  "nbformat_minor": 0
}
