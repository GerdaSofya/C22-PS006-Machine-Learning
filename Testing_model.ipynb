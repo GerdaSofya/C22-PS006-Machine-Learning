{
  "nbformat": 4,
  "nbformat_minor": 0,
  "metadata": {
    "colab": {
      "name": "Sandbox.ipynb",
      "provenance": [],
      "collapsed_sections": []
    },
    "kernelspec": {
      "name": "python3",
      "display_name": "Python 3"
    },
    "language_info": {
      "name": "python"
    }
  },
  "cells": [
    {
      "cell_type": "code",
      "source": [
        "fitur = [100000, 25000000, 1, 2, 10000000,1,1,0,0,0,0,0,0,1,1,0,0,0,0,0,0]\n",
        "kuliner = [1000000,10000000,1,1,10000000,0,1,0,1,0,0,0,0,1,1,0,0,0,0,0,0]\n",
        "peternak = [100000, 25000000,1,1,10000000,1,1,1,1,1,1,1,1000,0,0,0,0,0,0,0,0]\n",
        "elektronik = [100000,25000000,1,2,10000000,1,1,1,0,0,0,0,0,0,0,0,0,0,0,0,2]\n",
        "Transportasi = [25000000, 100000000, 1, 2, 50000000,0,1,1,1,0,0,0,0,0,0, 0,0,0,0,0,1]"
      ],
      "metadata": {
        "id": "2q3HxVnlHLEy"
      },
      "execution_count": null,
      "outputs": []
    },
    {
      "cell_type": "code",
      "execution_count": null,
      "metadata": {
        "id": "L7Y0LJ4Q3Gsr",
        "colab": {
          "base_uri": "https://localhost:8080/"
        },
        "outputId": "d4b7092d-9256-4eec-b01d-b700fa439eff"
      },
      "outputs": [
        {
          "output_type": "stream",
          "name": "stdout",
          "text": [
            "[[1.0e+05 2.5e+07 1.0e+00 2.0e+00 1.0e+07 1.0e+00 1.0e+00 0.0e+00 0.0e+00\n",
            "  0.0e+00 0.0e+00 0.0e+00 0.0e+00 1.0e+00 1.0e+00 0.0e+00 0.0e+00 0.0e+00\n",
            "  0.0e+00 0.0e+00 0.0e+00]]\n",
            "[[0. 0. 0. 0. 0. 0. 0. 1.]]\n"
          ]
        }
      ],
      "source": [
        "import numpy as np\n",
        "import tensorflow as tf\n",
        "path = \"/content/model_busaha.tflite\"\n",
        "# Load TFLite model and allocate tensors.\n",
        "interpreter = tf.lite.Interpreter(model_path=path)\n",
        "interpreter.allocate_tensors()\n",
        "\n",
        "# Get input and output tensors.\n",
        "input_details = interpreter.get_input_details()\n",
        "output_details = interpreter.get_output_details()\n",
        "\n",
        "# Test model on random input data.\n",
        "input_shape = input_details[0]['shape']\n",
        "# print(input_shape)\n",
        "input_data = np.array([fitur], dtype=np.float32)\n",
        "interpreter.set_tensor(input_details[0]['index'], input_data)\n",
        "\n",
        "interpreter.invoke()\n",
        "\n",
        "# The function `get_tensor()` returns a copy of the tensor data.\n",
        "# Use `tensor()` in order to get a pointer to the tensor.\n",
        "print(input_data)\n",
        "output_data = interpreter.get_tensor(output_details[0]['index'])\n",
        "print(output_data)"
      ]
    },
    {
      "cell_type": "code",
      "source": [
        "from sklearn.preprocessing import normalize\n",
        "fitur_normalized = normalize([fitur], axis = 0)\n",
        "\n",
        "input_data = np.array(fitur_normalized, dtype=np.float32)\n",
        "interpreter.set_tensor(input_details[0]['index'], input_data)\n",
        "\n",
        "interpreter.invoke()\n",
        "\n",
        "output_data = interpreter.get_tensor(output_details[0]['index'])\n",
        "output_data"
      ],
      "metadata": {
        "colab": {
          "base_uri": "https://localhost:8080/"
        },
        "id": "CHXp7HxkHWH6",
        "outputId": "8c5d2b00-b001-40a3-b56e-c8f98fbb900e"
      },
      "execution_count": null,
      "outputs": [
        {
          "output_type": "execute_result",
          "data": {
            "text/plain": [
              "array([[2.0551302e-07, 3.7614964e-02, 9.6237707e-01, 1.7365120e-07,\n",
              "        8.6311090e-11, 2.6622349e-08, 7.5012881e-06, 6.0924137e-09]],\n",
              "      dtype=float32)"
            ]
          },
          "metadata": {},
          "execution_count": 14
        }
      ]
    },
    {
      "cell_type": "code",
      "source": [
        "print(max(output_data[0]))\n",
        "# print(type(output_data[0]))\n",
        "# index =  "
      ],
      "metadata": {
        "colab": {
          "base_uri": "https://localhost:8080/"
        },
        "id": "IAmPgzREIfo-",
        "outputId": "f03e12ab-757f-4b92-ebd1-040552a73226"
      },
      "execution_count": null,
      "outputs": [
        {
          "output_type": "stream",
          "name": "stdout",
          "text": [
            "0.9623771\n"
          ]
        }
      ]
    },
    {
      "cell_type": "code",
      "source": [
        ""
      ],
      "metadata": {
        "id": "m5inGLjkTC2q"
      },
      "execution_count": null,
      "outputs": []
    }
  ]
}