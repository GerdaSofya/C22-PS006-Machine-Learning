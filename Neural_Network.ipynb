{
  "nbformat": 4,
  "nbformat_minor": 0,
  "metadata": {
    "colab": {
      "name": "Neural Network(Fixed).ipynb",
      "provenance": [],
      "collapsed_sections": []
    },
    "kernelspec": {
      "name": "python3",
      "display_name": "Python 3"
    },
    "language_info": {
      "name": "python"
    }
  },
  "cells": [
    {
      "cell_type": "code",
      "execution_count": 1,
      "metadata": {
        "id": "Wf9zoz3c0NX8"
      },
      "outputs": [],
      "source": [
        "import os\n",
        "import numpy as np\n",
        "import pandas as pd\n",
        "import tensorflow as tf\n",
        "import math\n",
        "# import wurlitzer\n",
        "\n",
        "# try:\n",
        "#   from wurlitzer import sys_pipes\n",
        "# except:\n",
        "#   from colabtools.googlelog import CaptureLog as sys_pipes\n",
        "\n",
        "from IPython.core.magic import register_line_magic\n",
        "from IPython.display import Javascript"
      ]
    },
    {
      "cell_type": "markdown",
      "source": [
        "Load Dataset"
      ],
      "metadata": {
        "id": "azqhXWTe1x61"
      }
    },
    {
      "cell_type": "code",
      "source": [
        "file_path = '/content/Busaha_Dataset.csv'\n",
        "try:\n",
        "  df = pd.read_csv(file_path)\n",
        "  print(\"File Loaded!\")\n",
        "except:\n",
        "  !gdown --id 1dz0_0AsxbyNTJUQGWX0ZjTLcPZMfEYS7\n",
        "  try:\n",
        "    df = pd.read_csv(file_path)\n",
        "    print(\"File Loaded!\")\n",
        "  except:\n",
        "    print(\"Something's wrong! check your link!!!\")"
      ],
      "metadata": {
        "colab": {
          "base_uri": "https://localhost:8080/"
        },
        "id": "j9CjMbOd2fZt",
        "outputId": "9a6f87b1-be8b-465e-cd5e-d322dda5abad"
      },
      "execution_count": 2,
      "outputs": [
        {
          "output_type": "stream",
          "name": "stdout",
          "text": [
            "/usr/local/lib/python3.7/dist-packages/gdown/cli.py:131: FutureWarning: Option `--id` was deprecated in version 4.3.1 and will be removed in 5.0. You don't need to pass it anymore to use a file ID.\n",
            "  category=FutureWarning,\n",
            "Downloading...\n",
            "From: https://drive.google.com/uc?id=1dz0_0AsxbyNTJUQGWX0ZjTLcPZMfEYS7\n",
            "To: /content/Busaha_Dataset.csv\n",
            "100% 45.0k/45.0k [00:00<00:00, 44.5MB/s]\n",
            "File Loaded!\n"
          ]
        }
      ]
    },
    {
      "cell_type": "markdown",
      "source": [
        "Checking Dataset"
      ],
      "metadata": {
        "id": "2HmUmE873lEH"
      }
    },
    {
      "cell_type": "code",
      "source": [
        "df.head()"
      ],
      "metadata": {
        "colab": {
          "base_uri": "https://localhost:8080/",
          "height": 404
        },
        "id": "yDMgVu4j3bNn",
        "outputId": "0d93591d-61d5-4042-8b23-a7350118a8f8"
      },
      "execution_count": 3,
      "outputs": [
        {
          "output_type": "execute_result",
          "data": {
            "text/plain": [
              "   Unnamed: 0             jenis_usaha        Modal  modal_minimum  \\\n",
              "0           0            Transportasi       > 25jt     25000000.0   \n",
              "1           1             Perternakan    10 - 25jt     10000000.0   \n",
              "2           2  Toserba/Toko Kelontong  1jt - 10 jt      1000000.0   \n",
              "3           3                 Kuliner  1jt - 10 jt      1000000.0   \n",
              "4           4             Dropshipper  1jt - 10 jt      1000000.0   \n",
              "\n",
              "   modal_maximum tingkat_persaingan  tingkat_persaingan_idx  \\\n",
              "0    100000000.0             Sedang                       1   \n",
              "1     25000000.0             Sedang                       1   \n",
              "2     10000000.0             Sedang                       1   \n",
              "3     10000000.0             Sedang                       1   \n",
              "4     10000000.0             Rendah                       0   \n",
              "\n",
              "           jumlah_pegawai  pegawai_minimum       omset  ...  sosial_media  \\\n",
              "0               2-4 orang                2   > 50 Juta  ...       no_info   \n",
              "1  1 orang (Anda sendiri)                1  10-50 Juta  ...       no_info   \n",
              "2  1 orang (Anda sendiri)                1   < 10 Juta  ...       no_info   \n",
              "3  1 orang (Anda sendiri)                1   < 10 Juta  ...       no_info   \n",
              "4  1 orang (Anda sendiri)                1   < 10 Juta  ...            WA   \n",
              "\n",
              "  sosial_media_idx  barang_toserba  toko_toserba  toko_toserba_idx tipe_toko  \\\n",
              "0                0         no_info       no_info                 0   no_info   \n",
              "1                0         no_info       no_info                 0   no_info   \n",
              "2                0         Sembako          True                 1      Ruko   \n",
              "3                0         no_info       no_info                 0   no_info   \n",
              "4                1         no_info       no_info                 0   no_info   \n",
              "\n",
              "   tipe_toko_idx           usaha_lain tipe_usaha_lain  tipe_usaha_lain_idx  \n",
              "0              0  jasa sewa kendaraan              EX                    1  \n",
              "1              0              no_info         no_info                    0  \n",
              "2              1              no_info         no_info                    0  \n",
              "3              0              no_info         no_info                    0  \n",
              "4              0              no_info         no_info                    0  \n",
              "\n",
              "[5 rows x 46 columns]"
            ],
            "text/html": [
              "\n",
              "  <div id=\"df-bc4c036f-3678-46fd-9836-6b2bb49bd2ad\">\n",
              "    <div class=\"colab-df-container\">\n",
              "      <div>\n",
              "<style scoped>\n",
              "    .dataframe tbody tr th:only-of-type {\n",
              "        vertical-align: middle;\n",
              "    }\n",
              "\n",
              "    .dataframe tbody tr th {\n",
              "        vertical-align: top;\n",
              "    }\n",
              "\n",
              "    .dataframe thead th {\n",
              "        text-align: right;\n",
              "    }\n",
              "</style>\n",
              "<table border=\"1\" class=\"dataframe\">\n",
              "  <thead>\n",
              "    <tr style=\"text-align: right;\">\n",
              "      <th></th>\n",
              "      <th>Unnamed: 0</th>\n",
              "      <th>jenis_usaha</th>\n",
              "      <th>Modal</th>\n",
              "      <th>modal_minimum</th>\n",
              "      <th>modal_maximum</th>\n",
              "      <th>tingkat_persaingan</th>\n",
              "      <th>tingkat_persaingan_idx</th>\n",
              "      <th>jumlah_pegawai</th>\n",
              "      <th>pegawai_minimum</th>\n",
              "      <th>omset</th>\n",
              "      <th>...</th>\n",
              "      <th>sosial_media</th>\n",
              "      <th>sosial_media_idx</th>\n",
              "      <th>barang_toserba</th>\n",
              "      <th>toko_toserba</th>\n",
              "      <th>toko_toserba_idx</th>\n",
              "      <th>tipe_toko</th>\n",
              "      <th>tipe_toko_idx</th>\n",
              "      <th>usaha_lain</th>\n",
              "      <th>tipe_usaha_lain</th>\n",
              "      <th>tipe_usaha_lain_idx</th>\n",
              "    </tr>\n",
              "  </thead>\n",
              "  <tbody>\n",
              "    <tr>\n",
              "      <th>0</th>\n",
              "      <td>0</td>\n",
              "      <td>Transportasi</td>\n",
              "      <td>&gt; 25jt</td>\n",
              "      <td>25000000.0</td>\n",
              "      <td>100000000.0</td>\n",
              "      <td>Sedang</td>\n",
              "      <td>1</td>\n",
              "      <td>2-4 orang</td>\n",
              "      <td>2</td>\n",
              "      <td>&gt; 50 Juta</td>\n",
              "      <td>...</td>\n",
              "      <td>no_info</td>\n",
              "      <td>0</td>\n",
              "      <td>no_info</td>\n",
              "      <td>no_info</td>\n",
              "      <td>0</td>\n",
              "      <td>no_info</td>\n",
              "      <td>0</td>\n",
              "      <td>jasa sewa kendaraan</td>\n",
              "      <td>EX</td>\n",
              "      <td>1</td>\n",
              "    </tr>\n",
              "    <tr>\n",
              "      <th>1</th>\n",
              "      <td>1</td>\n",
              "      <td>Perternakan</td>\n",
              "      <td>10 - 25jt</td>\n",
              "      <td>10000000.0</td>\n",
              "      <td>25000000.0</td>\n",
              "      <td>Sedang</td>\n",
              "      <td>1</td>\n",
              "      <td>1 orang (Anda sendiri)</td>\n",
              "      <td>1</td>\n",
              "      <td>10-50 Juta</td>\n",
              "      <td>...</td>\n",
              "      <td>no_info</td>\n",
              "      <td>0</td>\n",
              "      <td>no_info</td>\n",
              "      <td>no_info</td>\n",
              "      <td>0</td>\n",
              "      <td>no_info</td>\n",
              "      <td>0</td>\n",
              "      <td>no_info</td>\n",
              "      <td>no_info</td>\n",
              "      <td>0</td>\n",
              "    </tr>\n",
              "    <tr>\n",
              "      <th>2</th>\n",
              "      <td>2</td>\n",
              "      <td>Toserba/Toko Kelontong</td>\n",
              "      <td>1jt - 10 jt</td>\n",
              "      <td>1000000.0</td>\n",
              "      <td>10000000.0</td>\n",
              "      <td>Sedang</td>\n",
              "      <td>1</td>\n",
              "      <td>1 orang (Anda sendiri)</td>\n",
              "      <td>1</td>\n",
              "      <td>&lt; 10 Juta</td>\n",
              "      <td>...</td>\n",
              "      <td>no_info</td>\n",
              "      <td>0</td>\n",
              "      <td>Sembako</td>\n",
              "      <td>True</td>\n",
              "      <td>1</td>\n",
              "      <td>Ruko</td>\n",
              "      <td>1</td>\n",
              "      <td>no_info</td>\n",
              "      <td>no_info</td>\n",
              "      <td>0</td>\n",
              "    </tr>\n",
              "    <tr>\n",
              "      <th>3</th>\n",
              "      <td>3</td>\n",
              "      <td>Kuliner</td>\n",
              "      <td>1jt - 10 jt</td>\n",
              "      <td>1000000.0</td>\n",
              "      <td>10000000.0</td>\n",
              "      <td>Sedang</td>\n",
              "      <td>1</td>\n",
              "      <td>1 orang (Anda sendiri)</td>\n",
              "      <td>1</td>\n",
              "      <td>&lt; 10 Juta</td>\n",
              "      <td>...</td>\n",
              "      <td>no_info</td>\n",
              "      <td>0</td>\n",
              "      <td>no_info</td>\n",
              "      <td>no_info</td>\n",
              "      <td>0</td>\n",
              "      <td>no_info</td>\n",
              "      <td>0</td>\n",
              "      <td>no_info</td>\n",
              "      <td>no_info</td>\n",
              "      <td>0</td>\n",
              "    </tr>\n",
              "    <tr>\n",
              "      <th>4</th>\n",
              "      <td>4</td>\n",
              "      <td>Dropshipper</td>\n",
              "      <td>1jt - 10 jt</td>\n",
              "      <td>1000000.0</td>\n",
              "      <td>10000000.0</td>\n",
              "      <td>Rendah</td>\n",
              "      <td>0</td>\n",
              "      <td>1 orang (Anda sendiri)</td>\n",
              "      <td>1</td>\n",
              "      <td>&lt; 10 Juta</td>\n",
              "      <td>...</td>\n",
              "      <td>WA</td>\n",
              "      <td>1</td>\n",
              "      <td>no_info</td>\n",
              "      <td>no_info</td>\n",
              "      <td>0</td>\n",
              "      <td>no_info</td>\n",
              "      <td>0</td>\n",
              "      <td>no_info</td>\n",
              "      <td>no_info</td>\n",
              "      <td>0</td>\n",
              "    </tr>\n",
              "  </tbody>\n",
              "</table>\n",
              "<p>5 rows × 46 columns</p>\n",
              "</div>\n",
              "      <button class=\"colab-df-convert\" onclick=\"convertToInteractive('df-bc4c036f-3678-46fd-9836-6b2bb49bd2ad')\"\n",
              "              title=\"Convert this dataframe to an interactive table.\"\n",
              "              style=\"display:none;\">\n",
              "        \n",
              "  <svg xmlns=\"http://www.w3.org/2000/svg\" height=\"24px\"viewBox=\"0 0 24 24\"\n",
              "       width=\"24px\">\n",
              "    <path d=\"M0 0h24v24H0V0z\" fill=\"none\"/>\n",
              "    <path d=\"M18.56 5.44l.94 2.06.94-2.06 2.06-.94-2.06-.94-.94-2.06-.94 2.06-2.06.94zm-11 1L8.5 8.5l.94-2.06 2.06-.94-2.06-.94L8.5 2.5l-.94 2.06-2.06.94zm10 10l.94 2.06.94-2.06 2.06-.94-2.06-.94-.94-2.06-.94 2.06-2.06.94z\"/><path d=\"M17.41 7.96l-1.37-1.37c-.4-.4-.92-.59-1.43-.59-.52 0-1.04.2-1.43.59L10.3 9.45l-7.72 7.72c-.78.78-.78 2.05 0 2.83L4 21.41c.39.39.9.59 1.41.59.51 0 1.02-.2 1.41-.59l7.78-7.78 2.81-2.81c.8-.78.8-2.07 0-2.86zM5.41 20L4 18.59l7.72-7.72 1.47 1.35L5.41 20z\"/>\n",
              "  </svg>\n",
              "      </button>\n",
              "      \n",
              "  <style>\n",
              "    .colab-df-container {\n",
              "      display:flex;\n",
              "      flex-wrap:wrap;\n",
              "      gap: 12px;\n",
              "    }\n",
              "\n",
              "    .colab-df-convert {\n",
              "      background-color: #E8F0FE;\n",
              "      border: none;\n",
              "      border-radius: 50%;\n",
              "      cursor: pointer;\n",
              "      display: none;\n",
              "      fill: #1967D2;\n",
              "      height: 32px;\n",
              "      padding: 0 0 0 0;\n",
              "      width: 32px;\n",
              "    }\n",
              "\n",
              "    .colab-df-convert:hover {\n",
              "      background-color: #E2EBFA;\n",
              "      box-shadow: 0px 1px 2px rgba(60, 64, 67, 0.3), 0px 1px 3px 1px rgba(60, 64, 67, 0.15);\n",
              "      fill: #174EA6;\n",
              "    }\n",
              "\n",
              "    [theme=dark] .colab-df-convert {\n",
              "      background-color: #3B4455;\n",
              "      fill: #D2E3FC;\n",
              "    }\n",
              "\n",
              "    [theme=dark] .colab-df-convert:hover {\n",
              "      background-color: #434B5C;\n",
              "      box-shadow: 0px 1px 3px 1px rgba(0, 0, 0, 0.15);\n",
              "      filter: drop-shadow(0px 1px 2px rgba(0, 0, 0, 0.3));\n",
              "      fill: #FFFFFF;\n",
              "    }\n",
              "  </style>\n",
              "\n",
              "      <script>\n",
              "        const buttonEl =\n",
              "          document.querySelector('#df-bc4c036f-3678-46fd-9836-6b2bb49bd2ad button.colab-df-convert');\n",
              "        buttonEl.style.display =\n",
              "          google.colab.kernel.accessAllowed ? 'block' : 'none';\n",
              "\n",
              "        async function convertToInteractive(key) {\n",
              "          const element = document.querySelector('#df-bc4c036f-3678-46fd-9836-6b2bb49bd2ad');\n",
              "          const dataTable =\n",
              "            await google.colab.kernel.invokeFunction('convertToInteractive',\n",
              "                                                     [key], {});\n",
              "          if (!dataTable) return;\n",
              "\n",
              "          const docLinkHtml = 'Like what you see? Visit the ' +\n",
              "            '<a target=\"_blank\" href=https://colab.research.google.com/notebooks/data_table.ipynb>data table notebook</a>'\n",
              "            + ' to learn more about interactive tables.';\n",
              "          element.innerHTML = '';\n",
              "          dataTable['output_type'] = 'display_data';\n",
              "          await google.colab.output.renderOutput(dataTable, element);\n",
              "          const docLink = document.createElement('div');\n",
              "          docLink.innerHTML = docLinkHtml;\n",
              "          element.appendChild(docLink);\n",
              "        }\n",
              "      </script>\n",
              "    </div>\n",
              "  </div>\n",
              "  "
            ]
          },
          "metadata": {},
          "execution_count": 3
        }
      ]
    },
    {
      "cell_type": "markdown",
      "source": [
        "The dataset doesn't look very good to be a model, so it needs to be preprocessed before being used as a model"
      ],
      "metadata": {
        "id": "HfYnE9aH3oTg"
      }
    },
    {
      "cell_type": "code",
      "source": [
        "# Deleting unused row\n",
        "delrow = [\"Transportasi\", \"Toko Buah\", \"Penggilingan\", \"Alat Kecantikan\", \"Koleksi\",\n",
        "          \"Alat kesehatan\", \"Perseroan Komanditer\", \"Jasa Isi Ulang Air Minum\", \"Jasa Mengajar\", \"Fotocopy\"\n",
        "          ]\n",
        "for row in delrow:\n",
        "  df.drop(df[df['jenis_usaha'] == row].index, inplace = True)"
      ],
      "metadata": {
        "id": "pO4iC63Hs00Q"
      },
      "execution_count": 4,
      "outputs": []
    },
    {
      "cell_type": "code",
      "source": [
        "# Deleting unused column\n",
        "try:\n",
        "  df = df.drop(columns=['Unnamed: 0','Modal','tingkat_persaingan','jumlah_pegawai','omset',\n",
        "                      'target_pasar','lokasi','hewan_ternak','hewan_ternak_sub','lokasi_geografis',\n",
        "                      'mengerti_hewan','luas_lahan','usaha_kuliner','tipe_usaha_kuliner','kemampuan_masak',\n",
        "                      'barang_dropship','penyimpanan_barang','biaya_internet','sosial_media','barang_toserba',\n",
        "                      'toko_toserba','tipe_toko','usaha_lain','tipe_usaha_lain'])\n",
        "  print(\"Columns Dropped!\")\n",
        "except:\n",
        "  print(\"Columns Already Dropped!\")"
      ],
      "metadata": {
        "colab": {
          "base_uri": "https://localhost:8080/"
        },
        "id": "ZYC6W-zJ3jo3",
        "outputId": "e58188e6-0eb7-45bf-d8b6-e70978b2195f"
      },
      "execution_count": 5,
      "outputs": [
        {
          "output_type": "stream",
          "name": "stdout",
          "text": [
            "Columns Dropped!\n"
          ]
        }
      ]
    },
    {
      "cell_type": "code",
      "source": [
        "df.head()"
      ],
      "metadata": {
        "colab": {
          "base_uri": "https://localhost:8080/",
          "height": 317
        },
        "id": "6oUDK52F4JMj",
        "outputId": "1e87e611-1095-4570-9f67-26079727e47e"
      },
      "execution_count": 6,
      "outputs": [
        {
          "output_type": "execute_result",
          "data": {
            "text/plain": [
              "              jenis_usaha  modal_minimum  modal_maximum  \\\n",
              "1             Perternakan     10000000.0     25000000.0   \n",
              "2  Toserba/Toko Kelontong      1000000.0     10000000.0   \n",
              "3                 Kuliner      1000000.0     10000000.0   \n",
              "4             Dropshipper      1000000.0     10000000.0   \n",
              "5             Dropshipper      1000000.0     10000000.0   \n",
              "\n",
              "   tingkat_persaingan_idx  pegawai_minimum  omset_minimum  tp_b  tp_m  tp_a  \\\n",
              "1                       1                1     25000000.0     1     1     1   \n",
              "2                       1                1      1000000.0     1     1     0   \n",
              "3                       1                1      1000000.0     0     1     0   \n",
              "4                       0                1      1000000.0     1     0     0   \n",
              "5                       2                1      1000000.0     1     1     0   \n",
              "\n",
              "   lokasi_idx  ...  mengerti_hewan_idx  lahan_minimum  tipe_usaha_kuliner_idx  \\\n",
              "1           1  ...                   1         1000.0                       0   \n",
              "2           1  ...                   0            0.0                       0   \n",
              "3           1  ...                   0            0.0                       1   \n",
              "4           0  ...                   0            0.0                       0   \n",
              "5           0  ...                   0            0.0                       0   \n",
              "\n",
              "   kemampuan_masak_idx  penyimpanan_barang_idx  internet_minimum  \\\n",
              "1                    0                       0                 0   \n",
              "2                    0                       0                 0   \n",
              "3                    1                       0                 0   \n",
              "4                    0                       1            100000   \n",
              "5                    0                       1            300000   \n",
              "\n",
              "   sosial_media_idx  toko_toserba_idx  tipe_toko_idx  tipe_usaha_lain_idx  \n",
              "1                 0                 0              0                    0  \n",
              "2                 0                 1              1                    0  \n",
              "3                 0                 0              0                    0  \n",
              "4                 1                 0              0                    0  \n",
              "5                 2                 0              0                    0  \n",
              "\n",
              "[5 rows x 22 columns]"
            ],
            "text/html": [
              "\n",
              "  <div id=\"df-0c72b115-bff0-4790-bc83-7c6edf930775\">\n",
              "    <div class=\"colab-df-container\">\n",
              "      <div>\n",
              "<style scoped>\n",
              "    .dataframe tbody tr th:only-of-type {\n",
              "        vertical-align: middle;\n",
              "    }\n",
              "\n",
              "    .dataframe tbody tr th {\n",
              "        vertical-align: top;\n",
              "    }\n",
              "\n",
              "    .dataframe thead th {\n",
              "        text-align: right;\n",
              "    }\n",
              "</style>\n",
              "<table border=\"1\" class=\"dataframe\">\n",
              "  <thead>\n",
              "    <tr style=\"text-align: right;\">\n",
              "      <th></th>\n",
              "      <th>jenis_usaha</th>\n",
              "      <th>modal_minimum</th>\n",
              "      <th>modal_maximum</th>\n",
              "      <th>tingkat_persaingan_idx</th>\n",
              "      <th>pegawai_minimum</th>\n",
              "      <th>omset_minimum</th>\n",
              "      <th>tp_b</th>\n",
              "      <th>tp_m</th>\n",
              "      <th>tp_a</th>\n",
              "      <th>lokasi_idx</th>\n",
              "      <th>...</th>\n",
              "      <th>mengerti_hewan_idx</th>\n",
              "      <th>lahan_minimum</th>\n",
              "      <th>tipe_usaha_kuliner_idx</th>\n",
              "      <th>kemampuan_masak_idx</th>\n",
              "      <th>penyimpanan_barang_idx</th>\n",
              "      <th>internet_minimum</th>\n",
              "      <th>sosial_media_idx</th>\n",
              "      <th>toko_toserba_idx</th>\n",
              "      <th>tipe_toko_idx</th>\n",
              "      <th>tipe_usaha_lain_idx</th>\n",
              "    </tr>\n",
              "  </thead>\n",
              "  <tbody>\n",
              "    <tr>\n",
              "      <th>1</th>\n",
              "      <td>Perternakan</td>\n",
              "      <td>10000000.0</td>\n",
              "      <td>25000000.0</td>\n",
              "      <td>1</td>\n",
              "      <td>1</td>\n",
              "      <td>25000000.0</td>\n",
              "      <td>1</td>\n",
              "      <td>1</td>\n",
              "      <td>1</td>\n",
              "      <td>1</td>\n",
              "      <td>...</td>\n",
              "      <td>1</td>\n",
              "      <td>1000.0</td>\n",
              "      <td>0</td>\n",
              "      <td>0</td>\n",
              "      <td>0</td>\n",
              "      <td>0</td>\n",
              "      <td>0</td>\n",
              "      <td>0</td>\n",
              "      <td>0</td>\n",
              "      <td>0</td>\n",
              "    </tr>\n",
              "    <tr>\n",
              "      <th>2</th>\n",
              "      <td>Toserba/Toko Kelontong</td>\n",
              "      <td>1000000.0</td>\n",
              "      <td>10000000.0</td>\n",
              "      <td>1</td>\n",
              "      <td>1</td>\n",
              "      <td>1000000.0</td>\n",
              "      <td>1</td>\n",
              "      <td>1</td>\n",
              "      <td>0</td>\n",
              "      <td>1</td>\n",
              "      <td>...</td>\n",
              "      <td>0</td>\n",
              "      <td>0.0</td>\n",
              "      <td>0</td>\n",
              "      <td>0</td>\n",
              "      <td>0</td>\n",
              "      <td>0</td>\n",
              "      <td>0</td>\n",
              "      <td>1</td>\n",
              "      <td>1</td>\n",
              "      <td>0</td>\n",
              "    </tr>\n",
              "    <tr>\n",
              "      <th>3</th>\n",
              "      <td>Kuliner</td>\n",
              "      <td>1000000.0</td>\n",
              "      <td>10000000.0</td>\n",
              "      <td>1</td>\n",
              "      <td>1</td>\n",
              "      <td>1000000.0</td>\n",
              "      <td>0</td>\n",
              "      <td>1</td>\n",
              "      <td>0</td>\n",
              "      <td>1</td>\n",
              "      <td>...</td>\n",
              "      <td>0</td>\n",
              "      <td>0.0</td>\n",
              "      <td>1</td>\n",
              "      <td>1</td>\n",
              "      <td>0</td>\n",
              "      <td>0</td>\n",
              "      <td>0</td>\n",
              "      <td>0</td>\n",
              "      <td>0</td>\n",
              "      <td>0</td>\n",
              "    </tr>\n",
              "    <tr>\n",
              "      <th>4</th>\n",
              "      <td>Dropshipper</td>\n",
              "      <td>1000000.0</td>\n",
              "      <td>10000000.0</td>\n",
              "      <td>0</td>\n",
              "      <td>1</td>\n",
              "      <td>1000000.0</td>\n",
              "      <td>1</td>\n",
              "      <td>0</td>\n",
              "      <td>0</td>\n",
              "      <td>0</td>\n",
              "      <td>...</td>\n",
              "      <td>0</td>\n",
              "      <td>0.0</td>\n",
              "      <td>0</td>\n",
              "      <td>0</td>\n",
              "      <td>1</td>\n",
              "      <td>100000</td>\n",
              "      <td>1</td>\n",
              "      <td>0</td>\n",
              "      <td>0</td>\n",
              "      <td>0</td>\n",
              "    </tr>\n",
              "    <tr>\n",
              "      <th>5</th>\n",
              "      <td>Dropshipper</td>\n",
              "      <td>1000000.0</td>\n",
              "      <td>10000000.0</td>\n",
              "      <td>2</td>\n",
              "      <td>1</td>\n",
              "      <td>1000000.0</td>\n",
              "      <td>1</td>\n",
              "      <td>1</td>\n",
              "      <td>0</td>\n",
              "      <td>0</td>\n",
              "      <td>...</td>\n",
              "      <td>0</td>\n",
              "      <td>0.0</td>\n",
              "      <td>0</td>\n",
              "      <td>0</td>\n",
              "      <td>1</td>\n",
              "      <td>300000</td>\n",
              "      <td>2</td>\n",
              "      <td>0</td>\n",
              "      <td>0</td>\n",
              "      <td>0</td>\n",
              "    </tr>\n",
              "  </tbody>\n",
              "</table>\n",
              "<p>5 rows × 22 columns</p>\n",
              "</div>\n",
              "      <button class=\"colab-df-convert\" onclick=\"convertToInteractive('df-0c72b115-bff0-4790-bc83-7c6edf930775')\"\n",
              "              title=\"Convert this dataframe to an interactive table.\"\n",
              "              style=\"display:none;\">\n",
              "        \n",
              "  <svg xmlns=\"http://www.w3.org/2000/svg\" height=\"24px\"viewBox=\"0 0 24 24\"\n",
              "       width=\"24px\">\n",
              "    <path d=\"M0 0h24v24H0V0z\" fill=\"none\"/>\n",
              "    <path d=\"M18.56 5.44l.94 2.06.94-2.06 2.06-.94-2.06-.94-.94-2.06-.94 2.06-2.06.94zm-11 1L8.5 8.5l.94-2.06 2.06-.94-2.06-.94L8.5 2.5l-.94 2.06-2.06.94zm10 10l.94 2.06.94-2.06 2.06-.94-2.06-.94-.94-2.06-.94 2.06-2.06.94z\"/><path d=\"M17.41 7.96l-1.37-1.37c-.4-.4-.92-.59-1.43-.59-.52 0-1.04.2-1.43.59L10.3 9.45l-7.72 7.72c-.78.78-.78 2.05 0 2.83L4 21.41c.39.39.9.59 1.41.59.51 0 1.02-.2 1.41-.59l7.78-7.78 2.81-2.81c.8-.78.8-2.07 0-2.86zM5.41 20L4 18.59l7.72-7.72 1.47 1.35L5.41 20z\"/>\n",
              "  </svg>\n",
              "      </button>\n",
              "      \n",
              "  <style>\n",
              "    .colab-df-container {\n",
              "      display:flex;\n",
              "      flex-wrap:wrap;\n",
              "      gap: 12px;\n",
              "    }\n",
              "\n",
              "    .colab-df-convert {\n",
              "      background-color: #E8F0FE;\n",
              "      border: none;\n",
              "      border-radius: 50%;\n",
              "      cursor: pointer;\n",
              "      display: none;\n",
              "      fill: #1967D2;\n",
              "      height: 32px;\n",
              "      padding: 0 0 0 0;\n",
              "      width: 32px;\n",
              "    }\n",
              "\n",
              "    .colab-df-convert:hover {\n",
              "      background-color: #E2EBFA;\n",
              "      box-shadow: 0px 1px 2px rgba(60, 64, 67, 0.3), 0px 1px 3px 1px rgba(60, 64, 67, 0.15);\n",
              "      fill: #174EA6;\n",
              "    }\n",
              "\n",
              "    [theme=dark] .colab-df-convert {\n",
              "      background-color: #3B4455;\n",
              "      fill: #D2E3FC;\n",
              "    }\n",
              "\n",
              "    [theme=dark] .colab-df-convert:hover {\n",
              "      background-color: #434B5C;\n",
              "      box-shadow: 0px 1px 3px 1px rgba(0, 0, 0, 0.15);\n",
              "      filter: drop-shadow(0px 1px 2px rgba(0, 0, 0, 0.3));\n",
              "      fill: #FFFFFF;\n",
              "    }\n",
              "  </style>\n",
              "\n",
              "      <script>\n",
              "        const buttonEl =\n",
              "          document.querySelector('#df-0c72b115-bff0-4790-bc83-7c6edf930775 button.colab-df-convert');\n",
              "        buttonEl.style.display =\n",
              "          google.colab.kernel.accessAllowed ? 'block' : 'none';\n",
              "\n",
              "        async function convertToInteractive(key) {\n",
              "          const element = document.querySelector('#df-0c72b115-bff0-4790-bc83-7c6edf930775');\n",
              "          const dataTable =\n",
              "            await google.colab.kernel.invokeFunction('convertToInteractive',\n",
              "                                                     [key], {});\n",
              "          if (!dataTable) return;\n",
              "\n",
              "          const docLinkHtml = 'Like what you see? Visit the ' +\n",
              "            '<a target=\"_blank\" href=https://colab.research.google.com/notebooks/data_table.ipynb>data table notebook</a>'\n",
              "            + ' to learn more about interactive tables.';\n",
              "          element.innerHTML = '';\n",
              "          dataTable['output_type'] = 'display_data';\n",
              "          await google.colab.output.renderOutput(dataTable, element);\n",
              "          const docLink = document.createElement('div');\n",
              "          docLink.innerHTML = docLinkHtml;\n",
              "          element.appendChild(docLink);\n",
              "        }\n",
              "      </script>\n",
              "    </div>\n",
              "  </div>\n",
              "  "
            ]
          },
          "metadata": {},
          "execution_count": 6
        }
      ]
    },
    {
      "cell_type": "markdown",
      "source": [
        "Indexing Label"
      ],
      "metadata": {
        "id": "bVoVAygrGve4"
      }
    },
    {
      "cell_type": "code",
      "source": [
        "label = \"jenis_usaha\"\n",
        "classes = [0]"
      ],
      "metadata": {
        "id": "tqidi_3yGSjk"
      },
      "execution_count": 7,
      "outputs": []
    },
    {
      "cell_type": "code",
      "source": [
        "if type(classes[0]) is int:\n",
        "  classes = df[label].unique().tolist()\n",
        "  df[label] = df[label].map(classes.index)\n",
        "  print(f\"Label classes: {classes}\")\n",
        "else:\n",
        "  print(\"Label classes Already indexed!\")\n",
        "  print(f\"Label classes: {classes}\")"
      ],
      "metadata": {
        "colab": {
          "base_uri": "https://localhost:8080/"
        },
        "id": "QHFvTLOKGYKM",
        "outputId": "c75cc459-5a75-4fb4-b670-56f461020b1a"
      },
      "execution_count": 8,
      "outputs": [
        {
          "output_type": "stream",
          "name": "stdout",
          "text": [
            "Label classes: ['Perternakan', 'Toserba/Toko Kelontong', 'Kuliner', 'Dropshipper', 'Barang Digital', 'Elektronik', 'Pakaian', 'Kosmetik']\n"
          ]
        }
      ]
    },
    {
      "cell_type": "code",
      "source": [
        "# # Inappropriate data normalization\n",
        "# from sklearn.preprocessing import normalize\n",
        "# df_to_normalize = df[['modal_minimum', 'modal_maximum', 'omset_minimum']]\n",
        "# df[['modal_minimum', 'modal_maximum', 'omset_minimum']] = normalize(df_to_normalize, axis=0)\n",
        "print(len(classes))"
      ],
      "metadata": {
        "id": "rSR2GVIy41_E",
        "colab": {
          "base_uri": "https://localhost:8080/"
        },
        "outputId": "b23cd2bb-7692-483e-dcdd-dfd6e6c3abdd"
      },
      "execution_count": 9,
      "outputs": [
        {
          "output_type": "stream",
          "name": "stdout",
          "text": [
            "8\n"
          ]
        }
      ]
    },
    {
      "cell_type": "code",
      "source": [
        "df.head()"
      ],
      "metadata": {
        "colab": {
          "base_uri": "https://localhost:8080/",
          "height": 299
        },
        "id": "Ap3RTWrA55J1",
        "outputId": "95aaa46f-96b5-4dd9-b0ef-6ec2c9c8b9ee"
      },
      "execution_count": 10,
      "outputs": [
        {
          "output_type": "execute_result",
          "data": {
            "text/plain": [
              "   jenis_usaha  modal_minimum  modal_maximum  tingkat_persaingan_idx  \\\n",
              "1            0     10000000.0     25000000.0                       1   \n",
              "2            1      1000000.0     10000000.0                       1   \n",
              "3            2      1000000.0     10000000.0                       1   \n",
              "4            3      1000000.0     10000000.0                       0   \n",
              "5            3      1000000.0     10000000.0                       2   \n",
              "\n",
              "   pegawai_minimum  omset_minimum  tp_b  tp_m  tp_a  lokasi_idx  ...  \\\n",
              "1                1     25000000.0     1     1     1           1  ...   \n",
              "2                1      1000000.0     1     1     0           1  ...   \n",
              "3                1      1000000.0     0     1     0           1  ...   \n",
              "4                1      1000000.0     1     0     0           0  ...   \n",
              "5                1      1000000.0     1     1     0           0  ...   \n",
              "\n",
              "   mengerti_hewan_idx  lahan_minimum  tipe_usaha_kuliner_idx  \\\n",
              "1                   1         1000.0                       0   \n",
              "2                   0            0.0                       0   \n",
              "3                   0            0.0                       1   \n",
              "4                   0            0.0                       0   \n",
              "5                   0            0.0                       0   \n",
              "\n",
              "   kemampuan_masak_idx  penyimpanan_barang_idx  internet_minimum  \\\n",
              "1                    0                       0                 0   \n",
              "2                    0                       0                 0   \n",
              "3                    1                       0                 0   \n",
              "4                    0                       1            100000   \n",
              "5                    0                       1            300000   \n",
              "\n",
              "   sosial_media_idx  toko_toserba_idx  tipe_toko_idx  tipe_usaha_lain_idx  \n",
              "1                 0                 0              0                    0  \n",
              "2                 0                 1              1                    0  \n",
              "3                 0                 0              0                    0  \n",
              "4                 1                 0              0                    0  \n",
              "5                 2                 0              0                    0  \n",
              "\n",
              "[5 rows x 22 columns]"
            ],
            "text/html": [
              "\n",
              "  <div id=\"df-2730ad2b-4df6-48ab-a264-dc0e5349efa2\">\n",
              "    <div class=\"colab-df-container\">\n",
              "      <div>\n",
              "<style scoped>\n",
              "    .dataframe tbody tr th:only-of-type {\n",
              "        vertical-align: middle;\n",
              "    }\n",
              "\n",
              "    .dataframe tbody tr th {\n",
              "        vertical-align: top;\n",
              "    }\n",
              "\n",
              "    .dataframe thead th {\n",
              "        text-align: right;\n",
              "    }\n",
              "</style>\n",
              "<table border=\"1\" class=\"dataframe\">\n",
              "  <thead>\n",
              "    <tr style=\"text-align: right;\">\n",
              "      <th></th>\n",
              "      <th>jenis_usaha</th>\n",
              "      <th>modal_minimum</th>\n",
              "      <th>modal_maximum</th>\n",
              "      <th>tingkat_persaingan_idx</th>\n",
              "      <th>pegawai_minimum</th>\n",
              "      <th>omset_minimum</th>\n",
              "      <th>tp_b</th>\n",
              "      <th>tp_m</th>\n",
              "      <th>tp_a</th>\n",
              "      <th>lokasi_idx</th>\n",
              "      <th>...</th>\n",
              "      <th>mengerti_hewan_idx</th>\n",
              "      <th>lahan_minimum</th>\n",
              "      <th>tipe_usaha_kuliner_idx</th>\n",
              "      <th>kemampuan_masak_idx</th>\n",
              "      <th>penyimpanan_barang_idx</th>\n",
              "      <th>internet_minimum</th>\n",
              "      <th>sosial_media_idx</th>\n",
              "      <th>toko_toserba_idx</th>\n",
              "      <th>tipe_toko_idx</th>\n",
              "      <th>tipe_usaha_lain_idx</th>\n",
              "    </tr>\n",
              "  </thead>\n",
              "  <tbody>\n",
              "    <tr>\n",
              "      <th>1</th>\n",
              "      <td>0</td>\n",
              "      <td>10000000.0</td>\n",
              "      <td>25000000.0</td>\n",
              "      <td>1</td>\n",
              "      <td>1</td>\n",
              "      <td>25000000.0</td>\n",
              "      <td>1</td>\n",
              "      <td>1</td>\n",
              "      <td>1</td>\n",
              "      <td>1</td>\n",
              "      <td>...</td>\n",
              "      <td>1</td>\n",
              "      <td>1000.0</td>\n",
              "      <td>0</td>\n",
              "      <td>0</td>\n",
              "      <td>0</td>\n",
              "      <td>0</td>\n",
              "      <td>0</td>\n",
              "      <td>0</td>\n",
              "      <td>0</td>\n",
              "      <td>0</td>\n",
              "    </tr>\n",
              "    <tr>\n",
              "      <th>2</th>\n",
              "      <td>1</td>\n",
              "      <td>1000000.0</td>\n",
              "      <td>10000000.0</td>\n",
              "      <td>1</td>\n",
              "      <td>1</td>\n",
              "      <td>1000000.0</td>\n",
              "      <td>1</td>\n",
              "      <td>1</td>\n",
              "      <td>0</td>\n",
              "      <td>1</td>\n",
              "      <td>...</td>\n",
              "      <td>0</td>\n",
              "      <td>0.0</td>\n",
              "      <td>0</td>\n",
              "      <td>0</td>\n",
              "      <td>0</td>\n",
              "      <td>0</td>\n",
              "      <td>0</td>\n",
              "      <td>1</td>\n",
              "      <td>1</td>\n",
              "      <td>0</td>\n",
              "    </tr>\n",
              "    <tr>\n",
              "      <th>3</th>\n",
              "      <td>2</td>\n",
              "      <td>1000000.0</td>\n",
              "      <td>10000000.0</td>\n",
              "      <td>1</td>\n",
              "      <td>1</td>\n",
              "      <td>1000000.0</td>\n",
              "      <td>0</td>\n",
              "      <td>1</td>\n",
              "      <td>0</td>\n",
              "      <td>1</td>\n",
              "      <td>...</td>\n",
              "      <td>0</td>\n",
              "      <td>0.0</td>\n",
              "      <td>1</td>\n",
              "      <td>1</td>\n",
              "      <td>0</td>\n",
              "      <td>0</td>\n",
              "      <td>0</td>\n",
              "      <td>0</td>\n",
              "      <td>0</td>\n",
              "      <td>0</td>\n",
              "    </tr>\n",
              "    <tr>\n",
              "      <th>4</th>\n",
              "      <td>3</td>\n",
              "      <td>1000000.0</td>\n",
              "      <td>10000000.0</td>\n",
              "      <td>0</td>\n",
              "      <td>1</td>\n",
              "      <td>1000000.0</td>\n",
              "      <td>1</td>\n",
              "      <td>0</td>\n",
              "      <td>0</td>\n",
              "      <td>0</td>\n",
              "      <td>...</td>\n",
              "      <td>0</td>\n",
              "      <td>0.0</td>\n",
              "      <td>0</td>\n",
              "      <td>0</td>\n",
              "      <td>1</td>\n",
              "      <td>100000</td>\n",
              "      <td>1</td>\n",
              "      <td>0</td>\n",
              "      <td>0</td>\n",
              "      <td>0</td>\n",
              "    </tr>\n",
              "    <tr>\n",
              "      <th>5</th>\n",
              "      <td>3</td>\n",
              "      <td>1000000.0</td>\n",
              "      <td>10000000.0</td>\n",
              "      <td>2</td>\n",
              "      <td>1</td>\n",
              "      <td>1000000.0</td>\n",
              "      <td>1</td>\n",
              "      <td>1</td>\n",
              "      <td>0</td>\n",
              "      <td>0</td>\n",
              "      <td>...</td>\n",
              "      <td>0</td>\n",
              "      <td>0.0</td>\n",
              "      <td>0</td>\n",
              "      <td>0</td>\n",
              "      <td>1</td>\n",
              "      <td>300000</td>\n",
              "      <td>2</td>\n",
              "      <td>0</td>\n",
              "      <td>0</td>\n",
              "      <td>0</td>\n",
              "    </tr>\n",
              "  </tbody>\n",
              "</table>\n",
              "<p>5 rows × 22 columns</p>\n",
              "</div>\n",
              "      <button class=\"colab-df-convert\" onclick=\"convertToInteractive('df-2730ad2b-4df6-48ab-a264-dc0e5349efa2')\"\n",
              "              title=\"Convert this dataframe to an interactive table.\"\n",
              "              style=\"display:none;\">\n",
              "        \n",
              "  <svg xmlns=\"http://www.w3.org/2000/svg\" height=\"24px\"viewBox=\"0 0 24 24\"\n",
              "       width=\"24px\">\n",
              "    <path d=\"M0 0h24v24H0V0z\" fill=\"none\"/>\n",
              "    <path d=\"M18.56 5.44l.94 2.06.94-2.06 2.06-.94-2.06-.94-.94-2.06-.94 2.06-2.06.94zm-11 1L8.5 8.5l.94-2.06 2.06-.94-2.06-.94L8.5 2.5l-.94 2.06-2.06.94zm10 10l.94 2.06.94-2.06 2.06-.94-2.06-.94-.94-2.06-.94 2.06-2.06.94z\"/><path d=\"M17.41 7.96l-1.37-1.37c-.4-.4-.92-.59-1.43-.59-.52 0-1.04.2-1.43.59L10.3 9.45l-7.72 7.72c-.78.78-.78 2.05 0 2.83L4 21.41c.39.39.9.59 1.41.59.51 0 1.02-.2 1.41-.59l7.78-7.78 2.81-2.81c.8-.78.8-2.07 0-2.86zM5.41 20L4 18.59l7.72-7.72 1.47 1.35L5.41 20z\"/>\n",
              "  </svg>\n",
              "      </button>\n",
              "      \n",
              "  <style>\n",
              "    .colab-df-container {\n",
              "      display:flex;\n",
              "      flex-wrap:wrap;\n",
              "      gap: 12px;\n",
              "    }\n",
              "\n",
              "    .colab-df-convert {\n",
              "      background-color: #E8F0FE;\n",
              "      border: none;\n",
              "      border-radius: 50%;\n",
              "      cursor: pointer;\n",
              "      display: none;\n",
              "      fill: #1967D2;\n",
              "      height: 32px;\n",
              "      padding: 0 0 0 0;\n",
              "      width: 32px;\n",
              "    }\n",
              "\n",
              "    .colab-df-convert:hover {\n",
              "      background-color: #E2EBFA;\n",
              "      box-shadow: 0px 1px 2px rgba(60, 64, 67, 0.3), 0px 1px 3px 1px rgba(60, 64, 67, 0.15);\n",
              "      fill: #174EA6;\n",
              "    }\n",
              "\n",
              "    [theme=dark] .colab-df-convert {\n",
              "      background-color: #3B4455;\n",
              "      fill: #D2E3FC;\n",
              "    }\n",
              "\n",
              "    [theme=dark] .colab-df-convert:hover {\n",
              "      background-color: #434B5C;\n",
              "      box-shadow: 0px 1px 3px 1px rgba(0, 0, 0, 0.15);\n",
              "      filter: drop-shadow(0px 1px 2px rgba(0, 0, 0, 0.3));\n",
              "      fill: #FFFFFF;\n",
              "    }\n",
              "  </style>\n",
              "\n",
              "      <script>\n",
              "        const buttonEl =\n",
              "          document.querySelector('#df-2730ad2b-4df6-48ab-a264-dc0e5349efa2 button.colab-df-convert');\n",
              "        buttonEl.style.display =\n",
              "          google.colab.kernel.accessAllowed ? 'block' : 'none';\n",
              "\n",
              "        async function convertToInteractive(key) {\n",
              "          const element = document.querySelector('#df-2730ad2b-4df6-48ab-a264-dc0e5349efa2');\n",
              "          const dataTable =\n",
              "            await google.colab.kernel.invokeFunction('convertToInteractive',\n",
              "                                                     [key], {});\n",
              "          if (!dataTable) return;\n",
              "\n",
              "          const docLinkHtml = 'Like what you see? Visit the ' +\n",
              "            '<a target=\"_blank\" href=https://colab.research.google.com/notebooks/data_table.ipynb>data table notebook</a>'\n",
              "            + ' to learn more about interactive tables.';\n",
              "          element.innerHTML = '';\n",
              "          dataTable['output_type'] = 'display_data';\n",
              "          await google.colab.output.renderOutput(dataTable, element);\n",
              "          const docLink = document.createElement('div');\n",
              "          docLink.innerHTML = docLinkHtml;\n",
              "          element.appendChild(docLink);\n",
              "        }\n",
              "      </script>\n",
              "    </div>\n",
              "  </div>\n",
              "  "
            ]
          },
          "metadata": {},
          "execution_count": 10
        }
      ]
    },
    {
      "cell_type": "code",
      "source": [
        "# # Randomize data\n",
        "# random = df.sample(frac=1, random_state=25)\n",
        "# # separating labels and features\n",
        "# X = random.drop(\"jenis_usaha\", axis=1).values\n",
        "# y = random.jenis_usaha.values"
      ],
      "metadata": {
        "id": "HnNg89d2IDW-"
      },
      "execution_count": 11,
      "outputs": []
    },
    {
      "cell_type": "code",
      "source": [
        "# separating labels and features\n",
        "X = df.drop(\"jenis_usaha\", axis=1).values\n",
        "y = df.jenis_usaha.values"
      ],
      "metadata": {
        "id": "mPa1fKke6u2Y"
      },
      "execution_count": 12,
      "outputs": []
    },
    {
      "cell_type": "code",
      "source": [
        "# this is for all normalization\n",
        "from sklearn.preprocessing import normalize\n",
        "X_normalized = normalize(X, axis = 0)"
      ],
      "metadata": {
        "id": "WVZHjFABaSnL"
      },
      "execution_count": 13,
      "outputs": []
    },
    {
      "cell_type": "code",
      "source": [
        "# this is for all normalization\n",
        "\n",
        "total_length=len(df)\n",
        "train_length=int(0.7*total_length)\n",
        "test_length=int(0.3*total_length)\n",
        "\n",
        "X_train=X_normalized[:train_length]\n",
        "X_test=X_normalized[train_length:]\n",
        "y_train=y[:train_length]\n",
        "y_test=y[train_length:]\n",
        "\n",
        "print(\"Length of train set x:\",X_train.shape[0],\"y:\",y_train.shape[0])\n",
        "print(\"Length of test set x:\",X_test.shape[0],\"y:\",y_test.shape[0])"
      ],
      "metadata": {
        "colab": {
          "base_uri": "https://localhost:8080/"
        },
        "id": "TBd8q-GkaZBc",
        "outputId": "94cd5679-3be1-4296-c7a6-55cff640617e"
      },
      "execution_count": 14,
      "outputs": [
        {
          "output_type": "stream",
          "name": "stdout",
          "text": [
            "Length of train set x: 86 y: 86\n",
            "Length of test set x: 37 y: 37\n"
          ]
        }
      ]
    },
    {
      "cell_type": "code",
      "source": [
        "# # Separating training data and testing data\n",
        "# total_length=len(df)\n",
        "# train_length=int(0.8*total_length)\n",
        "# test_length=int(0.2*total_length)\n",
        "\n",
        "# X_train=X[:train_length]\n",
        "# X_test=X[train_length:]\n",
        "# y_train=y[:train_length]\n",
        "# y_test=y[train_length:]\n",
        "\n",
        "# print(\"Length of train set x:\",X_train.shape[0],\"y:\",y_train.shape[0])\n",
        "# print(\"Length of test set x:\",X_test.shape[0],\"y:\",y_test.shape[0])"
      ],
      "metadata": {
        "id": "HlVQ6aPS7OJc"
      },
      "execution_count": 15,
      "outputs": []
    },
    {
      "cell_type": "code",
      "source": [
        "from keras.utils import np_utils\n",
        "y_train=np_utils.to_categorical(y_train,num_classes=len(classes))\n",
        "y_test=np_utils.to_categorical(y_test,num_classes=len(classes))\n",
        "print(\"Shape of y_train\",y_train.shape)\n",
        "print(\"Shape of y_test\",y_test.shape)"
      ],
      "metadata": {
        "colab": {
          "base_uri": "https://localhost:8080/"
        },
        "id": "FZZ6p9JA8oly",
        "outputId": "ec692836-7722-4ec5-95f7-cc1b06248ada"
      },
      "execution_count": 16,
      "outputs": [
        {
          "output_type": "stream",
          "name": "stdout",
          "text": [
            "Shape of y_train (86, 8)\n",
            "Shape of y_test (37, 8)\n"
          ]
        }
      ]
    },
    {
      "cell_type": "code",
      "source": [
        "# from keras.models import Sequential \n",
        "# from keras.layers import Dense,Activation,Dropout \n",
        "\n",
        "# shape = X_train.shape[1]\n",
        "\n",
        "# model=Sequential()\n",
        "# model.add(Dense(shape*18,input_dim=X_train.shape[1],activation='relu'))\n",
        "# model.add(Dense(shape*15,activation='relu'))\n",
        "# model.add(Dense(shape*12,activation='relu'))\n",
        "# model.add(Dense(shape*9,activation='relu'))\n",
        "# model.add(Dropout(0.2))\n",
        "# model.add(Dense(18,activation='softmax'))\n",
        "# model.compile(loss='categorical_crossentropy',optimizer='adam',metrics=['accuracy'])"
      ],
      "metadata": {
        "id": "4_KBtiw0KHea"
      },
      "execution_count": 17,
      "outputs": []
    },
    {
      "cell_type": "code",
      "source": [
        "from keras.models import Sequential \n",
        "from keras.layers import Dense,Activation,Dropout \n",
        "\n",
        "shape = X_train.shape[1]\n",
        "\n",
        "model=Sequential()\n",
        "model.add(Dense(128,input_dim=X_train.shape[1],activation='relu'))\n",
        "# model.add(Dense(256,activation='relu'))\n",
        "model.add(Dense(64,activation='relu'))\n",
        "model.add(Dropout(0.2))\n",
        "model.add(Dense(len(classes),activation='softmax'))\n",
        "model.compile(loss='categorical_crossentropy',optimizer='adam',metrics=['accuracy'])"
      ],
      "metadata": {
        "id": "1ER-8S8D91HW"
      },
      "execution_count": 18,
      "outputs": []
    },
    {
      "cell_type": "code",
      "source": [
        "class cb(tf.keras.callbacks.Callback): \n",
        "  def on_epoch_end(self, epoch, logs={}):\n",
        "    if(logs.get('accuracy') > 0.9 and logs.get('val_loss') < 0.55 and logs.get('loss') < 0.55):\n",
        "      # print(\"\\nAkurasi telah mencapai di atas 97%, training berhenti\")\n",
        "      self.model.stop_training = True #training akan berhenti ketika accuracy dan val_accuracy telah mencapai >= 97%\n",
        "\n",
        "callbacks = cb()"
      ],
      "metadata": {
        "id": "W9r6EvUMLtCs"
      },
      "execution_count": 19,
      "outputs": []
    },
    {
      "cell_type": "code",
      "source": [
        "model.fit(X_train,y_train,validation_data=(X_test,y_test),batch_size=20,epochs=100,verbose=1, callbacks=[callbacks])"
      ],
      "metadata": {
        "colab": {
          "base_uri": "https://localhost:8080/"
        },
        "id": "eJV-iQBhHejY",
        "outputId": "9a688ae9-b0d1-47d2-ec85-96a9becac5a5"
      },
      "execution_count": 20,
      "outputs": [
        {
          "output_type": "stream",
          "name": "stdout",
          "text": [
            "Epoch 1/100\n",
            "5/5 [==============================] - 1s 97ms/step - loss: 2.0743 - accuracy: 0.1395 - val_loss: 2.0485 - val_accuracy: 0.5405\n",
            "Epoch 2/100\n",
            "5/5 [==============================] - 0s 20ms/step - loss: 2.0395 - accuracy: 0.6047 - val_loss: 2.0093 - val_accuracy: 0.9459\n",
            "Epoch 3/100\n",
            "5/5 [==============================] - 0s 19ms/step - loss: 2.0095 - accuracy: 0.6279 - val_loss: 1.9748 - val_accuracy: 0.9459\n",
            "Epoch 4/100\n",
            "5/5 [==============================] - 0s 18ms/step - loss: 1.9749 - accuracy: 0.6279 - val_loss: 1.9375 - val_accuracy: 0.7568\n",
            "Epoch 5/100\n",
            "5/5 [==============================] - 0s 22ms/step - loss: 1.9319 - accuracy: 0.6744 - val_loss: 1.8917 - val_accuracy: 0.9459\n",
            "Epoch 6/100\n",
            "5/5 [==============================] - 0s 24ms/step - loss: 1.8899 - accuracy: 0.6860 - val_loss: 1.8373 - val_accuracy: 0.8378\n",
            "Epoch 7/100\n",
            "5/5 [==============================] - 0s 25ms/step - loss: 1.8437 - accuracy: 0.6860 - val_loss: 1.7719 - val_accuracy: 0.7838\n",
            "Epoch 8/100\n",
            "5/5 [==============================] - 0s 32ms/step - loss: 1.7802 - accuracy: 0.7209 - val_loss: 1.6981 - val_accuracy: 0.7838\n",
            "Epoch 9/100\n",
            "5/5 [==============================] - 0s 19ms/step - loss: 1.7271 - accuracy: 0.7093 - val_loss: 1.6168 - val_accuracy: 0.7297\n",
            "Epoch 10/100\n",
            "5/5 [==============================] - 0s 29ms/step - loss: 1.6448 - accuracy: 0.6977 - val_loss: 1.5362 - val_accuracy: 0.7568\n",
            "Epoch 11/100\n",
            "5/5 [==============================] - 0s 28ms/step - loss: 1.5783 - accuracy: 0.7326 - val_loss: 1.4256 - val_accuracy: 1.0000\n",
            "Epoch 12/100\n",
            "5/5 [==============================] - 0s 22ms/step - loss: 1.4889 - accuracy: 0.7093 - val_loss: 1.3118 - val_accuracy: 1.0000\n",
            "Epoch 13/100\n",
            "5/5 [==============================] - 0s 20ms/step - loss: 1.4273 - accuracy: 0.7442 - val_loss: 1.2016 - val_accuracy: 1.0000\n",
            "Epoch 14/100\n",
            "5/5 [==============================] - 0s 27ms/step - loss: 1.3348 - accuracy: 0.7093 - val_loss: 1.0846 - val_accuracy: 1.0000\n",
            "Epoch 15/100\n",
            "5/5 [==============================] - 0s 34ms/step - loss: 1.2473 - accuracy: 0.7093 - val_loss: 0.9799 - val_accuracy: 1.0000\n",
            "Epoch 16/100\n",
            "5/5 [==============================] - 0s 24ms/step - loss: 1.1580 - accuracy: 0.7442 - val_loss: 0.9017 - val_accuracy: 1.0000\n",
            "Epoch 17/100\n",
            "5/5 [==============================] - 0s 23ms/step - loss: 1.1118 - accuracy: 0.7326 - val_loss: 0.8049 - val_accuracy: 1.0000\n",
            "Epoch 18/100\n",
            "5/5 [==============================] - 0s 21ms/step - loss: 1.0333 - accuracy: 0.7442 - val_loss: 0.6981 - val_accuracy: 1.0000\n",
            "Epoch 19/100\n",
            "5/5 [==============================] - 0s 27ms/step - loss: 0.9665 - accuracy: 0.7791 - val_loss: 0.6197 - val_accuracy: 1.0000\n",
            "Epoch 20/100\n",
            "5/5 [==============================] - 0s 17ms/step - loss: 0.9272 - accuracy: 0.8140 - val_loss: 0.5510 - val_accuracy: 1.0000\n",
            "Epoch 21/100\n",
            "5/5 [==============================] - 0s 18ms/step - loss: 0.8867 - accuracy: 0.7791 - val_loss: 0.4866 - val_accuracy: 1.0000\n",
            "Epoch 22/100\n",
            "5/5 [==============================] - 0s 19ms/step - loss: 0.8217 - accuracy: 0.7907 - val_loss: 0.4187 - val_accuracy: 1.0000\n",
            "Epoch 23/100\n",
            "5/5 [==============================] - 0s 29ms/step - loss: 0.7802 - accuracy: 0.7791 - val_loss: 0.3541 - val_accuracy: 1.0000\n",
            "Epoch 24/100\n",
            "5/5 [==============================] - 0s 24ms/step - loss: 0.7413 - accuracy: 0.8023 - val_loss: 0.2941 - val_accuracy: 1.0000\n",
            "Epoch 25/100\n",
            "5/5 [==============================] - 0s 21ms/step - loss: 0.7291 - accuracy: 0.7907 - val_loss: 0.2572 - val_accuracy: 1.0000\n",
            "Epoch 26/100\n",
            "5/5 [==============================] - 0s 20ms/step - loss: 0.6990 - accuracy: 0.8140 - val_loss: 0.2323 - val_accuracy: 1.0000\n",
            "Epoch 27/100\n",
            "5/5 [==============================] - 0s 16ms/step - loss: 0.6780 - accuracy: 0.8372 - val_loss: 0.1998 - val_accuracy: 1.0000\n",
            "Epoch 28/100\n",
            "5/5 [==============================] - 0s 20ms/step - loss: 0.6626 - accuracy: 0.8023 - val_loss: 0.1752 - val_accuracy: 1.0000\n",
            "Epoch 29/100\n",
            "5/5 [==============================] - 0s 21ms/step - loss: 0.6350 - accuracy: 0.8140 - val_loss: 0.1528 - val_accuracy: 1.0000\n",
            "Epoch 30/100\n",
            "5/5 [==============================] - 0s 19ms/step - loss: 0.6116 - accuracy: 0.7907 - val_loss: 0.1303 - val_accuracy: 1.0000\n",
            "Epoch 31/100\n",
            "5/5 [==============================] - 0s 18ms/step - loss: 0.5985 - accuracy: 0.8372 - val_loss: 0.1139 - val_accuracy: 1.0000\n",
            "Epoch 32/100\n",
            "5/5 [==============================] - 0s 14ms/step - loss: 0.6118 - accuracy: 0.7907 - val_loss: 0.0986 - val_accuracy: 1.0000\n",
            "Epoch 33/100\n",
            "5/5 [==============================] - 0s 28ms/step - loss: 0.5819 - accuracy: 0.8140 - val_loss: 0.0875 - val_accuracy: 1.0000\n",
            "Epoch 34/100\n",
            "5/5 [==============================] - 0s 26ms/step - loss: 0.5779 - accuracy: 0.8372 - val_loss: 0.0780 - val_accuracy: 1.0000\n",
            "Epoch 35/100\n",
            "5/5 [==============================] - 0s 20ms/step - loss: 0.5593 - accuracy: 0.8256 - val_loss: 0.0704 - val_accuracy: 1.0000\n",
            "Epoch 36/100\n",
            "5/5 [==============================] - 0s 20ms/step - loss: 0.5397 - accuracy: 0.8256 - val_loss: 0.0639 - val_accuracy: 1.0000\n",
            "Epoch 37/100\n",
            "5/5 [==============================] - 0s 16ms/step - loss: 0.5302 - accuracy: 0.8140 - val_loss: 0.0601 - val_accuracy: 1.0000\n",
            "Epoch 38/100\n",
            "5/5 [==============================] - 0s 22ms/step - loss: 0.5154 - accuracy: 0.8372 - val_loss: 0.0562 - val_accuracy: 1.0000\n",
            "Epoch 39/100\n",
            "5/5 [==============================] - 0s 19ms/step - loss: 0.5296 - accuracy: 0.8372 - val_loss: 0.0512 - val_accuracy: 1.0000\n",
            "Epoch 40/100\n",
            "5/5 [==============================] - 0s 20ms/step - loss: 0.5134 - accuracy: 0.7907 - val_loss: 0.0421 - val_accuracy: 1.0000\n",
            "Epoch 41/100\n",
            "5/5 [==============================] - 0s 20ms/step - loss: 0.4743 - accuracy: 0.8488 - val_loss: 0.0366 - val_accuracy: 1.0000\n",
            "Epoch 42/100\n",
            "5/5 [==============================] - 0s 21ms/step - loss: 0.4891 - accuracy: 0.8488 - val_loss: 0.0338 - val_accuracy: 1.0000\n",
            "Epoch 43/100\n",
            "5/5 [==============================] - 0s 21ms/step - loss: 0.4805 - accuracy: 0.8256 - val_loss: 0.0310 - val_accuracy: 1.0000\n",
            "Epoch 44/100\n",
            "5/5 [==============================] - 0s 17ms/step - loss: 0.5075 - accuracy: 0.8140 - val_loss: 0.0284 - val_accuracy: 1.0000\n",
            "Epoch 45/100\n",
            "5/5 [==============================] - 0s 22ms/step - loss: 0.4764 - accuracy: 0.8256 - val_loss: 0.0273 - val_accuracy: 1.0000\n",
            "Epoch 46/100\n",
            "5/5 [==============================] - 0s 27ms/step - loss: 0.4435 - accuracy: 0.8372 - val_loss: 0.0274 - val_accuracy: 1.0000\n",
            "Epoch 47/100\n",
            "5/5 [==============================] - 0s 24ms/step - loss: 0.4817 - accuracy: 0.8372 - val_loss: 0.0273 - val_accuracy: 1.0000\n",
            "Epoch 48/100\n",
            "5/5 [==============================] - 0s 26ms/step - loss: 0.4645 - accuracy: 0.8256 - val_loss: 0.0280 - val_accuracy: 1.0000\n",
            "Epoch 49/100\n",
            "5/5 [==============================] - 0s 21ms/step - loss: 0.4547 - accuracy: 0.8256 - val_loss: 0.0257 - val_accuracy: 1.0000\n",
            "Epoch 50/100\n",
            "5/5 [==============================] - 0s 19ms/step - loss: 0.4543 - accuracy: 0.8140 - val_loss: 0.0228 - val_accuracy: 1.0000\n",
            "Epoch 51/100\n",
            "5/5 [==============================] - 0s 24ms/step - loss: 0.4536 - accuracy: 0.8372 - val_loss: 0.0212 - val_accuracy: 1.0000\n",
            "Epoch 52/100\n",
            "5/5 [==============================] - 0s 39ms/step - loss: 0.4482 - accuracy: 0.8488 - val_loss: 0.0203 - val_accuracy: 1.0000\n",
            "Epoch 53/100\n",
            "5/5 [==============================] - 0s 26ms/step - loss: 0.4439 - accuracy: 0.8488 - val_loss: 0.0186 - val_accuracy: 1.0000\n",
            "Epoch 54/100\n",
            "5/5 [==============================] - 0s 43ms/step - loss: 0.4373 - accuracy: 0.8488 - val_loss: 0.0167 - val_accuracy: 1.0000\n",
            "Epoch 55/100\n",
            "5/5 [==============================] - 0s 30ms/step - loss: 0.4316 - accuracy: 0.8372 - val_loss: 0.0155 - val_accuracy: 1.0000\n",
            "Epoch 56/100\n",
            "5/5 [==============================] - 0s 18ms/step - loss: 0.3972 - accuracy: 0.8721 - val_loss: 0.0156 - val_accuracy: 1.0000\n",
            "Epoch 57/100\n",
            "5/5 [==============================] - 0s 27ms/step - loss: 0.4239 - accuracy: 0.8953 - val_loss: 0.0156 - val_accuracy: 1.0000\n",
            "Epoch 58/100\n",
            "5/5 [==============================] - 0s 23ms/step - loss: 0.4316 - accuracy: 0.8721 - val_loss: 0.0155 - val_accuracy: 1.0000\n",
            "Epoch 59/100\n",
            "5/5 [==============================] - 0s 25ms/step - loss: 0.4354 - accuracy: 0.8372 - val_loss: 0.0152 - val_accuracy: 1.0000\n",
            "Epoch 60/100\n",
            "5/5 [==============================] - 0s 22ms/step - loss: 0.4021 - accuracy: 0.8256 - val_loss: 0.0137 - val_accuracy: 1.0000\n",
            "Epoch 61/100\n",
            "5/5 [==============================] - 0s 18ms/step - loss: 0.4108 - accuracy: 0.8488 - val_loss: 0.0122 - val_accuracy: 1.0000\n",
            "Epoch 62/100\n",
            "5/5 [==============================] - 0s 25ms/step - loss: 0.3694 - accuracy: 0.9070 - val_loss: 0.0114 - val_accuracy: 1.0000\n"
          ]
        },
        {
          "output_type": "execute_result",
          "data": {
            "text/plain": [
              "<keras.callbacks.History at 0x7f5d50c09ed0>"
            ]
          },
          "metadata": {},
          "execution_count": 20
        }
      ]
    },
    {
      "cell_type": "code",
      "source": [
        "fitur = [100000, 25000000, 1, 2, 10000000,1,1,0,0,0,0,0,0,1,1,0,0,0,0,0,0]\n",
        "kuliner = [1000000,10000000,1,1,10000000,0,1,0,1,0,0,0,0,1,1,0,0,0,0,0,0]\n",
        "peternak = [100000, 25000000,1,1,10000000,1,1,1,1,1,1,1,1000,0,0,0,0,0,0,0,0]\n",
        "elektronik = [100000,25000000,1,2,10000000,1,1,1,0,0,0,0,0,0,0,0,0,0,0,0,2]\n",
        "Transportasi = [25000000, 100000000, 1, 2, 50000000,0,1,1,1,0,0,0,0,0,0, 0,0,0,0,0,1]"
      ],
      "metadata": {
        "id": "tPUBCM5aInBD"
      },
      "execution_count": 21,
      "outputs": []
    },
    {
      "cell_type": "code",
      "source": [
        "fitur_normalized = normalize([fitur], axis = 0)\n",
        "prediction = model.predict([fitur_normalized])\n",
        "\n",
        "clas = np.argmax(prediction, axis = 1)\n",
        "clas1 = np.argsort(clas)\n",
        "print(clas)\n",
        "indextion = np.argsort((-prediction), axis = 1)[0,:3]\n",
        "top1, top2, top3 = indextion\n",
        "indextion0 = np.argsort((-prediction), axis = 1)[0]\n",
        "indextion1 = np.argmax(prediction, axis = 1)\n",
        "indextion2 = np.argmin(prediction)\n",
        "print(f\"top 3 prediksi adalah : {indextion}\")\n",
        "print(f\"keseluruhan prediksi adalah : {indextion0}\")\n",
        "print(f\"prediksi paling mendekati adalah : {indextion1}\")\n",
        "print(f\"prediksi paling tidak mendekati adalah : {indextion2}\")\n",
        "print(f\"label top 3 prediksi adalah : {classes[top1]}, {classes[top2]}, {classes[top3]}\")"
      ],
      "metadata": {
        "colab": {
          "base_uri": "https://localhost:8080/"
        },
        "id": "7Jn3cV95Im3F",
        "outputId": "b5a80159-d5cb-43fe-998d-5d58a3723056"
      },
      "execution_count": 22,
      "outputs": [
        {
          "output_type": "stream",
          "name": "stdout",
          "text": [
            "[2]\n",
            "top 3 prediksi adalah : [2 1 6]\n",
            "keseluruhan prediksi adalah : [2 1 6 5 7 4 3 0]\n",
            "prediksi paling mendekati adalah : [2]\n",
            "prediksi paling tidak mendekati adalah : 0\n",
            "label top 3 prediksi adalah : Kuliner, Toserba/Toko Kelontong, Pakaian\n"
          ]
        }
      ]
    },
    {
      "cell_type": "code",
      "source": [
        "fitur_normalized = normalize([kuliner], axis = 0)\n",
        "prediction = model.predict([fitur_normalized])\n",
        "\n",
        "clas = np.argmax(prediction, axis = 1)\n",
        "clas1 = np.argsort(clas)\n",
        "print(clas)\n",
        "indextion = np.argsort((-prediction), axis = 1)[0,:3]\n",
        "top1, top2, top3 = indextion\n",
        "indextion0 = np.argsort((-prediction), axis = 1)[0]\n",
        "indextion1 = np.argmax(prediction, axis = 1)\n",
        "indextion2 = np.argmin(prediction)\n",
        "print(f\"top 3 prediksi adalah : {indextion}\")\n",
        "print(f\"keseluruhan prediksi adalah : {indextion0}\")\n",
        "print(f\"prediksi paling mendekati adalah : {indextion1}\")\n",
        "print(f\"prediksi paling tidak mendekati adalah : {indextion2}\")\n",
        "print(f\"label top 3 prediksi adalah : {classes[top1]}, {classes[top2]}, {classes[top3]}\")"
      ],
      "metadata": {
        "colab": {
          "base_uri": "https://localhost:8080/"
        },
        "id": "vOkFxbR8JPq5",
        "outputId": "af2296cf-24ae-4905-f5f0-0413ca8bfce5"
      },
      "execution_count": 23,
      "outputs": [
        {
          "output_type": "stream",
          "name": "stdout",
          "text": [
            "[2]\n",
            "top 3 prediksi adalah : [2 1 5]\n",
            "keseluruhan prediksi adalah : [2 1 5 6 7 3 4 0]\n",
            "prediksi paling mendekati adalah : [2]\n",
            "prediksi paling tidak mendekati adalah : 0\n",
            "label top 3 prediksi adalah : Kuliner, Toserba/Toko Kelontong, Elektronik\n"
          ]
        }
      ]
    },
    {
      "cell_type": "code",
      "source": [
        "fitur_normalized = normalize([peternak], axis = 0)\n",
        "prediction = model.predict([fitur_normalized])\n",
        "\n",
        "clas = np.argmax(prediction, axis = 1)\n",
        "clas1 = np.argsort(clas)\n",
        "print(clas)\n",
        "indextion = np.argsort((-prediction), axis = 1)[0,:3]\n",
        "top1, top2, top3 = indextion\n",
        "indextion0 = np.argsort((-prediction), axis = 1)[0]\n",
        "indextion1 = np.argmax(prediction, axis = 1)\n",
        "indextion2 = np.argmin(prediction)\n",
        "print(f\"top 3 prediksi adalah : {indextion}\")\n",
        "print(f\"keseluruhan prediksi adalah : {indextion0}\")\n",
        "print(f\"prediksi paling mendekati adalah : {indextion1}\")\n",
        "print(f\"prediksi paling tidak mendekati adalah : {indextion2}\")\n",
        "print(f\"label top 3 prediksi adalah : {classes[top1]}, {classes[top2]}, {classes[top3]}\")"
      ],
      "metadata": {
        "colab": {
          "base_uri": "https://localhost:8080/"
        },
        "id": "u6Hz8vVTJGoy",
        "outputId": "a582bacc-d284-444a-be01-0d28e9ad3d61"
      },
      "execution_count": 24,
      "outputs": [
        {
          "output_type": "stream",
          "name": "stdout",
          "text": [
            "[0]\n",
            "top 3 prediksi adalah : [0 1 5]\n",
            "keseluruhan prediksi adalah : [0 1 5 4 7 3 6 2]\n",
            "prediksi paling mendekati adalah : [0]\n",
            "prediksi paling tidak mendekati adalah : 2\n",
            "label top 3 prediksi adalah : Perternakan, Toserba/Toko Kelontong, Elektronik\n"
          ]
        }
      ]
    },
    {
      "cell_type": "code",
      "source": [
        "fitur_normalized = normalize([elektronik], axis = 0)\n",
        "prediction = model.predict([fitur_normalized])\n",
        "\n",
        "clas = np.argmax(prediction, axis = 1)\n",
        "clas1 = np.argsort(clas)\n",
        "print(clas)\n",
        "indextion = np.argsort((-prediction), axis = 1)[0,:3]\n",
        "top1, top2, top3 = indextion\n",
        "indextion0 = np.argsort((-prediction), axis = 1)[0]\n",
        "indextion1 = np.argmax(prediction, axis = 1)\n",
        "indextion2 = np.argmin(prediction)\n",
        "print(f\"top 3 prediksi adalah : {indextion}\")\n",
        "print(f\"keseluruhan prediksi adalah : {indextion0}\")\n",
        "print(f\"prediksi paling mendekati adalah : {indextion1}\")\n",
        "print(f\"prediksi paling tidak mendekati adalah : {indextion2}\")\n",
        "print(f\"label top 3 prediksi adalah : {classes[top1]}, {classes[top2]}, {classes[top3]}\")"
      ],
      "metadata": {
        "colab": {
          "base_uri": "https://localhost:8080/"
        },
        "id": "nvsLWLVqInHj",
        "outputId": "0bba969c-03a5-47c2-e983-33ee976c02b1"
      },
      "execution_count": 25,
      "outputs": [
        {
          "output_type": "stream",
          "name": "stdout",
          "text": [
            "[5]\n",
            "top 3 prediksi adalah : [5 6 7]\n",
            "keseluruhan prediksi adalah : [5 6 7 4 1 0 3 2]\n",
            "prediksi paling mendekati adalah : [5]\n",
            "prediksi paling tidak mendekati adalah : 2\n",
            "label top 3 prediksi adalah : Elektronik, Pakaian, Kosmetik\n"
          ]
        }
      ]
    },
    {
      "cell_type": "code",
      "source": [
        "fitur_normalized = normalize([Transportasi], axis = 0)\n",
        "prediction = model.predict([fitur_normalized])\n",
        "\n",
        "clas = np.argmax(prediction, axis = 1)\n",
        "clas1 = np.argsort(clas)\n",
        "print(clas)\n",
        "indextion = np.argsort((-prediction), axis = 1)[0,:3]\n",
        "top1, top2, top3 = indextion\n",
        "indextion0 = np.argsort((-prediction), axis = 1)[0]\n",
        "indextion1 = np.argmax(prediction, axis = 1)\n",
        "indextion2 = np.argmin(prediction)\n",
        "print(f\"top 3 prediksi adalah : {indextion}\")\n",
        "print(f\"keseluruhan prediksi adalah : {indextion0}\")\n",
        "print(f\"prediksi paling mendekati adalah : {indextion1}\")\n",
        "print(f\"prediksi paling tidak mendekati adalah : {indextion2}\")\n",
        "print(f\"label top 3 prediksi adalah : {classes[top1]}, {classes[top2]}, {classes[top3]}\")"
      ],
      "metadata": {
        "colab": {
          "base_uri": "https://localhost:8080/"
        },
        "id": "136yf0n_Wv-S",
        "outputId": "2024d95e-df45-47a7-b8a2-b4281eb39cb5"
      },
      "execution_count": 26,
      "outputs": [
        {
          "output_type": "stream",
          "name": "stdout",
          "text": [
            "[5]\n",
            "top 3 prediksi adalah : [5 7 6]\n",
            "keseluruhan prediksi adalah : [5 7 6 1 0 4 3 2]\n",
            "prediksi paling mendekati adalah : [5]\n",
            "prediksi paling tidak mendekati adalah : 2\n",
            "label top 3 prediksi adalah : Elektronik, Kosmetik, Pakaian\n"
          ]
        }
      ]
    },
    {
      "cell_type": "code",
      "source": [
        "model.save(\"/content/model\")"
      ],
      "metadata": {
        "colab": {
          "base_uri": "https://localhost:8080/"
        },
        "id": "tUhHf186W8Xr",
        "outputId": "9720b171-7cc4-4fa1-ddcf-b379cc2da5be"
      },
      "execution_count": 27,
      "outputs": [
        {
          "output_type": "stream",
          "name": "stdout",
          "text": [
            "INFO:tensorflow:Assets written to: /content/model/assets\n"
          ]
        }
      ]
    },
    {
      "cell_type": "code",
      "source": [
        "new_model = tf.keras.models.load_model('/content/model')"
      ],
      "metadata": {
        "id": "4A9EklibXB9U"
      },
      "execution_count": 28,
      "outputs": []
    },
    {
      "cell_type": "code",
      "source": [
        "fitur_normalized = normalize([elektronik], axis = 0)\n",
        "pred = new_model.predict([fitur_normalized])\n",
        "np.argmax(pred, axis=1)"
      ],
      "metadata": {
        "colab": {
          "base_uri": "https://localhost:8080/"
        },
        "id": "wulk1zROXDOl",
        "outputId": "6283038d-88d2-4912-f33e-66d02e034262"
      },
      "execution_count": 29,
      "outputs": [
        {
          "output_type": "execute_result",
          "data": {
            "text/plain": [
              "array([5])"
            ]
          },
          "metadata": {},
          "execution_count": 29
        }
      ]
    },
    {
      "cell_type": "code",
      "source": [
        "fitur_normalized = normalize([peternak], axis = 0)\n",
        "pred = new_model.predict([fitur_normalized])\n",
        "np.argmax(pred, axis=1)"
      ],
      "metadata": {
        "id": "PXxraAjaXkwI",
        "colab": {
          "base_uri": "https://localhost:8080/"
        },
        "outputId": "b3235ccf-ca86-4336-a54d-dc26a3a15c23"
      },
      "execution_count": 30,
      "outputs": [
        {
          "output_type": "execute_result",
          "data": {
            "text/plain": [
              "array([0])"
            ]
          },
          "metadata": {},
          "execution_count": 30
        }
      ]
    },
    {
      "cell_type": "code",
      "source": [
        "new_model.evaluate(X_test, y_test)"
      ],
      "metadata": {
        "colab": {
          "base_uri": "https://localhost:8080/"
        },
        "id": "RcgrKC6MXK9t",
        "outputId": "e251e974-a2b5-439f-fb9b-7226c1ad1b5b"
      },
      "execution_count": 31,
      "outputs": [
        {
          "output_type": "stream",
          "name": "stdout",
          "text": [
            "2/2 [==============================] - 0s 13ms/step - loss: 0.0114 - accuracy: 1.0000\n"
          ]
        },
        {
          "output_type": "execute_result",
          "data": {
            "text/plain": [
              "[0.011364714242517948, 1.0]"
            ]
          },
          "metadata": {},
          "execution_count": 31
        }
      ]
    },
    {
      "cell_type": "code",
      "source": [
        "# Convert the model.\n",
        "converter = tf.lite.TFLiteConverter.from_keras_model(model)\n",
        "tflite_model = converter.convert()\n",
        "\n",
        "# Save the model.\n",
        "with open('model_busaha.tflite', 'wb') as f:\n",
        "  f.write(tflite_model)"
      ],
      "metadata": {
        "colab": {
          "base_uri": "https://localhost:8080/"
        },
        "id": "84NSRHomvWLu",
        "outputId": "b0c38d45-9fad-4e3b-ca21-55f6fe1f3af0"
      },
      "execution_count": 32,
      "outputs": [
        {
          "output_type": "stream",
          "name": "stdout",
          "text": [
            "INFO:tensorflow:Assets written to: /tmp/tmp30ggm1pq/assets\n"
          ]
        },
        {
          "output_type": "stream",
          "name": "stderr",
          "text": [
            "WARNING:absl:Buffer deduplication procedure will be skipped when flatbuffer library is not properly loaded\n"
          ]
        }
      ]
    },
    {
      "cell_type": "code",
      "source": [
        ""
      ],
      "metadata": {
        "id": "gnldGL50vzay"
      },
      "execution_count": 32,
      "outputs": []
    }
  ]
}