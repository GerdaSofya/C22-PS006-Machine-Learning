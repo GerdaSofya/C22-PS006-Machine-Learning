{
  "cells": [
    {
      "cell_type": "code",
      "execution_count": 30,
      "metadata": {
        "id": "Wf9zoz3c0NX8"
      },
      "outputs": [],
      "source": [
        "import os\n",
        "import numpy as np\n",
        "import pandas as pd\n",
        "import tensorflow as tf\n",
        "import math\n",
        "from IPython.core.magic import register_line_magic\n",
        "from IPython.display import Javascript"
      ]
    },
    {
      "cell_type": "markdown",
      "metadata": {
        "id": "azqhXWTe1x61"
      },
      "source": [
        "Load Dataset"
      ]
    },
    {
      "cell_type": "code",
      "execution_count": 31,
      "metadata": {
        "colab": {
          "base_uri": "https://localhost:8080/"
        },
        "id": "j9CjMbOd2fZt",
        "outputId": "89c361b9-3d32-433b-fda9-6856f74483bc"
      },
      "outputs": [
        {
          "name": "stdout",
          "output_type": "stream",
          "text": [
            "File Loaded!\n"
          ]
        }
      ],
      "source": [
        "file_path = '/content/Busaha_Dataset.csv'\n",
        "try:\n",
        "  df = pd.read_csv(file_path)\n",
        "  print(\"File Loaded!\")\n",
        "except:\n",
        "  !gdown --id 1n3pwrW7E7Em-9F19BPQ6siZ4CuRsKS82\n",
        "  try:\n",
        "    df = pd.read_csv(file_path)\n",
        "    print(\"File Loaded!\")\n",
        "  except:\n",
        "    print(\"Something's wrong! check your path!!!\")"
      ]
    },
    {
      "cell_type": "markdown",
      "metadata": {
        "id": "2HmUmE873lEH"
      },
      "source": [
        "Checking Dataset"
      ]
    },
    {
      "cell_type": "code",
      "execution_count": 32,
      "metadata": {
        "colab": {
          "base_uri": "https://localhost:8080/",
          "height": 404
        },
        "id": "yDMgVu4j3bNn",
        "outputId": "d8016208-e937-44a8-d68f-43dbce8d586e"
      },
      "outputs": [
        {
          "data": {
            "text/html": [
              "\n",
              "  <div id=\"df-d860414d-099a-4a33-a54c-fcf0b8eb5a86\">\n",
              "    <div class=\"colab-df-container\">\n",
              "      <div>\n",
              "<style scoped>\n",
              "    .dataframe tbody tr th:only-of-type {\n",
              "        vertical-align: middle;\n",
              "    }\n",
              "\n",
              "    .dataframe tbody tr th {\n",
              "        vertical-align: top;\n",
              "    }\n",
              "\n",
              "    .dataframe thead th {\n",
              "        text-align: right;\n",
              "    }\n",
              "</style>\n",
              "<table border=\"1\" class=\"dataframe\">\n",
              "  <thead>\n",
              "    <tr style=\"text-align: right;\">\n",
              "      <th></th>\n",
              "      <th>Unnamed: 0</th>\n",
              "      <th>jenis_usaha</th>\n",
              "      <th>Modal</th>\n",
              "      <th>modal_minimum</th>\n",
              "      <th>modal_maximum</th>\n",
              "      <th>tingkat_persaingan</th>\n",
              "      <th>tingkat_persaingan_idx</th>\n",
              "      <th>jumlah_pegawai</th>\n",
              "      <th>pegawai_minimum</th>\n",
              "      <th>omset</th>\n",
              "      <th>...</th>\n",
              "      <th>sosial_media</th>\n",
              "      <th>sosial_media_idx</th>\n",
              "      <th>barang_toserba</th>\n",
              "      <th>toko_toserba</th>\n",
              "      <th>toko_toserba_idx</th>\n",
              "      <th>tipe_toko</th>\n",
              "      <th>tipe_toko_idx</th>\n",
              "      <th>usaha_lain</th>\n",
              "      <th>tipe_usaha_lain</th>\n",
              "      <th>tipe_usaha_lain_idx</th>\n",
              "    </tr>\n",
              "  </thead>\n",
              "  <tbody>\n",
              "    <tr>\n",
              "      <th>0</th>\n",
              "      <td>0</td>\n",
              "      <td>Transportasi</td>\n",
              "      <td>&gt; 25jt</td>\n",
              "      <td>25000000</td>\n",
              "      <td>100000000</td>\n",
              "      <td>Sedang</td>\n",
              "      <td>1</td>\n",
              "      <td>2-4 orang</td>\n",
              "      <td>2</td>\n",
              "      <td>&gt; 50 Juta</td>\n",
              "      <td>...</td>\n",
              "      <td>no_info</td>\n",
              "      <td>0</td>\n",
              "      <td>no_info</td>\n",
              "      <td>no_info</td>\n",
              "      <td>0</td>\n",
              "      <td>no_info</td>\n",
              "      <td>0</td>\n",
              "      <td>jasa sewa kendaraan</td>\n",
              "      <td>EX</td>\n",
              "      <td>1</td>\n",
              "    </tr>\n",
              "    <tr>\n",
              "      <th>1</th>\n",
              "      <td>1</td>\n",
              "      <td>Perternakan</td>\n",
              "      <td>10 - 25jt</td>\n",
              "      <td>10000000</td>\n",
              "      <td>25000000</td>\n",
              "      <td>Sedang</td>\n",
              "      <td>1</td>\n",
              "      <td>1 orang (Anda sendiri)</td>\n",
              "      <td>1</td>\n",
              "      <td>10-50 Juta</td>\n",
              "      <td>...</td>\n",
              "      <td>no_info</td>\n",
              "      <td>0</td>\n",
              "      <td>no_info</td>\n",
              "      <td>no_info</td>\n",
              "      <td>0</td>\n",
              "      <td>no_info</td>\n",
              "      <td>0</td>\n",
              "      <td>no_info</td>\n",
              "      <td>no_info</td>\n",
              "      <td>0</td>\n",
              "    </tr>\n",
              "    <tr>\n",
              "      <th>2</th>\n",
              "      <td>2</td>\n",
              "      <td>Toserba/Toko Kelontong</td>\n",
              "      <td>1jt - 10 jt</td>\n",
              "      <td>1000000</td>\n",
              "      <td>10000000</td>\n",
              "      <td>Sedang</td>\n",
              "      <td>1</td>\n",
              "      <td>1 orang (Anda sendiri)</td>\n",
              "      <td>1</td>\n",
              "      <td>&lt; 10 Juta</td>\n",
              "      <td>...</td>\n",
              "      <td>no_info</td>\n",
              "      <td>0</td>\n",
              "      <td>Sembako</td>\n",
              "      <td>TRUE</td>\n",
              "      <td>1</td>\n",
              "      <td>Ruko</td>\n",
              "      <td>1</td>\n",
              "      <td>no_info</td>\n",
              "      <td>no_info</td>\n",
              "      <td>0</td>\n",
              "    </tr>\n",
              "    <tr>\n",
              "      <th>3</th>\n",
              "      <td>3</td>\n",
              "      <td>Kuliner</td>\n",
              "      <td>1jt - 10 jt</td>\n",
              "      <td>1000000</td>\n",
              "      <td>10000000</td>\n",
              "      <td>Sedang</td>\n",
              "      <td>1</td>\n",
              "      <td>1 orang (Anda sendiri)</td>\n",
              "      <td>1</td>\n",
              "      <td>&lt; 10 Juta</td>\n",
              "      <td>...</td>\n",
              "      <td>no_info</td>\n",
              "      <td>0</td>\n",
              "      <td>no_info</td>\n",
              "      <td>no_info</td>\n",
              "      <td>0</td>\n",
              "      <td>no_info</td>\n",
              "      <td>0</td>\n",
              "      <td>no_info</td>\n",
              "      <td>no_info</td>\n",
              "      <td>0</td>\n",
              "    </tr>\n",
              "    <tr>\n",
              "      <th>4</th>\n",
              "      <td>4</td>\n",
              "      <td>Dropshipper</td>\n",
              "      <td>1jt - 10 jt</td>\n",
              "      <td>1000000</td>\n",
              "      <td>10000000</td>\n",
              "      <td>Rendah</td>\n",
              "      <td>0</td>\n",
              "      <td>1 orang (Anda sendiri)</td>\n",
              "      <td>1</td>\n",
              "      <td>&lt; 10 Juta</td>\n",
              "      <td>...</td>\n",
              "      <td>WA</td>\n",
              "      <td>1</td>\n",
              "      <td>no_info</td>\n",
              "      <td>no_info</td>\n",
              "      <td>0</td>\n",
              "      <td>no_info</td>\n",
              "      <td>0</td>\n",
              "      <td>no_info</td>\n",
              "      <td>no_info</td>\n",
              "      <td>0</td>\n",
              "    </tr>\n",
              "  </tbody>\n",
              "</table>\n",
              "<p>5 rows × 46 columns</p>\n",
              "</div>\n",
              "      <button class=\"colab-df-convert\" onclick=\"convertToInteractive('df-d860414d-099a-4a33-a54c-fcf0b8eb5a86')\"\n",
              "              title=\"Convert this dataframe to an interactive table.\"\n",
              "              style=\"display:none;\">\n",
              "        \n",
              "  <svg xmlns=\"http://www.w3.org/2000/svg\" height=\"24px\"viewBox=\"0 0 24 24\"\n",
              "       width=\"24px\">\n",
              "    <path d=\"M0 0h24v24H0V0z\" fill=\"none\"/>\n",
              "    <path d=\"M18.56 5.44l.94 2.06.94-2.06 2.06-.94-2.06-.94-.94-2.06-.94 2.06-2.06.94zm-11 1L8.5 8.5l.94-2.06 2.06-.94-2.06-.94L8.5 2.5l-.94 2.06-2.06.94zm10 10l.94 2.06.94-2.06 2.06-.94-2.06-.94-.94-2.06-.94 2.06-2.06.94z\"/><path d=\"M17.41 7.96l-1.37-1.37c-.4-.4-.92-.59-1.43-.59-.52 0-1.04.2-1.43.59L10.3 9.45l-7.72 7.72c-.78.78-.78 2.05 0 2.83L4 21.41c.39.39.9.59 1.41.59.51 0 1.02-.2 1.41-.59l7.78-7.78 2.81-2.81c.8-.78.8-2.07 0-2.86zM5.41 20L4 18.59l7.72-7.72 1.47 1.35L5.41 20z\"/>\n",
              "  </svg>\n",
              "      </button>\n",
              "      \n",
              "  <style>\n",
              "    .colab-df-container {\n",
              "      display:flex;\n",
              "      flex-wrap:wrap;\n",
              "      gap: 12px;\n",
              "    }\n",
              "\n",
              "    .colab-df-convert {\n",
              "      background-color: #E8F0FE;\n",
              "      border: none;\n",
              "      border-radius: 50%;\n",
              "      cursor: pointer;\n",
              "      display: none;\n",
              "      fill: #1967D2;\n",
              "      height: 32px;\n",
              "      padding: 0 0 0 0;\n",
              "      width: 32px;\n",
              "    }\n",
              "\n",
              "    .colab-df-convert:hover {\n",
              "      background-color: #E2EBFA;\n",
              "      box-shadow: 0px 1px 2px rgba(60, 64, 67, 0.3), 0px 1px 3px 1px rgba(60, 64, 67, 0.15);\n",
              "      fill: #174EA6;\n",
              "    }\n",
              "\n",
              "    [theme=dark] .colab-df-convert {\n",
              "      background-color: #3B4455;\n",
              "      fill: #D2E3FC;\n",
              "    }\n",
              "\n",
              "    [theme=dark] .colab-df-convert:hover {\n",
              "      background-color: #434B5C;\n",
              "      box-shadow: 0px 1px 3px 1px rgba(0, 0, 0, 0.15);\n",
              "      filter: drop-shadow(0px 1px 2px rgba(0, 0, 0, 0.3));\n",
              "      fill: #FFFFFF;\n",
              "    }\n",
              "  </style>\n",
              "\n",
              "      <script>\n",
              "        const buttonEl =\n",
              "          document.querySelector('#df-d860414d-099a-4a33-a54c-fcf0b8eb5a86 button.colab-df-convert');\n",
              "        buttonEl.style.display =\n",
              "          google.colab.kernel.accessAllowed ? 'block' : 'none';\n",
              "\n",
              "        async function convertToInteractive(key) {\n",
              "          const element = document.querySelector('#df-d860414d-099a-4a33-a54c-fcf0b8eb5a86');\n",
              "          const dataTable =\n",
              "            await google.colab.kernel.invokeFunction('convertToInteractive',\n",
              "                                                     [key], {});\n",
              "          if (!dataTable) return;\n",
              "\n",
              "          const docLinkHtml = 'Like what you see? Visit the ' +\n",
              "            '<a target=\"_blank\" href=https://colab.research.google.com/notebooks/data_table.ipynb>data table notebook</a>'\n",
              "            + ' to learn more about interactive tables.';\n",
              "          element.innerHTML = '';\n",
              "          dataTable['output_type'] = 'display_data';\n",
              "          await google.colab.output.renderOutput(dataTable, element);\n",
              "          const docLink = document.createElement('div');\n",
              "          docLink.innerHTML = docLinkHtml;\n",
              "          element.appendChild(docLink);\n",
              "        }\n",
              "      </script>\n",
              "    </div>\n",
              "  </div>\n",
              "  "
            ],
            "text/plain": [
              "   Unnamed: 0             jenis_usaha        Modal  modal_minimum  \\\n",
              "0           0            Transportasi       > 25jt       25000000   \n",
              "1           1             Perternakan    10 - 25jt       10000000   \n",
              "2           2  Toserba/Toko Kelontong  1jt - 10 jt        1000000   \n",
              "3           3                 Kuliner  1jt - 10 jt        1000000   \n",
              "4           4             Dropshipper  1jt - 10 jt        1000000   \n",
              "\n",
              "   modal_maximum tingkat_persaingan  tingkat_persaingan_idx  \\\n",
              "0      100000000             Sedang                       1   \n",
              "1       25000000             Sedang                       1   \n",
              "2       10000000             Sedang                       1   \n",
              "3       10000000             Sedang                       1   \n",
              "4       10000000             Rendah                       0   \n",
              "\n",
              "           jumlah_pegawai  pegawai_minimum       omset  ...  sosial_media  \\\n",
              "0               2-4 orang                2   > 50 Juta  ...       no_info   \n",
              "1  1 orang (Anda sendiri)                1  10-50 Juta  ...       no_info   \n",
              "2  1 orang (Anda sendiri)                1   < 10 Juta  ...       no_info   \n",
              "3  1 orang (Anda sendiri)                1   < 10 Juta  ...       no_info   \n",
              "4  1 orang (Anda sendiri)                1   < 10 Juta  ...            WA   \n",
              "\n",
              "  sosial_media_idx  barang_toserba  toko_toserba  toko_toserba_idx tipe_toko  \\\n",
              "0                0         no_info       no_info                 0   no_info   \n",
              "1                0         no_info       no_info                 0   no_info   \n",
              "2                0         Sembako          TRUE                 1      Ruko   \n",
              "3                0         no_info       no_info                 0   no_info   \n",
              "4                1         no_info       no_info                 0   no_info   \n",
              "\n",
              "   tipe_toko_idx           usaha_lain tipe_usaha_lain  tipe_usaha_lain_idx  \n",
              "0              0  jasa sewa kendaraan              EX                    1  \n",
              "1              0              no_info         no_info                    0  \n",
              "2              1              no_info         no_info                    0  \n",
              "3              0              no_info         no_info                    0  \n",
              "4              0              no_info         no_info                    0  \n",
              "\n",
              "[5 rows x 46 columns]"
            ]
          },
          "execution_count": 32,
          "metadata": {},
          "output_type": "execute_result"
        }
      ],
      "source": [
        "df.head()"
      ]
    },
    {
      "cell_type": "markdown",
      "metadata": {
        "id": "HfYnE9aH3oTg"
      },
      "source": [
        "The dataset doesn't look very good to be a model, so it needs to be preprocessed before being used as a model"
      ]
    },
    {
      "cell_type": "code",
      "execution_count": 33,
      "metadata": {
        "id": "pO4iC63Hs00Q"
      },
      "outputs": [],
      "source": [
        "# Deleting unused row\n",
        "delrow = [\"Transportasi\", \"Toko Buah\", \"Penggilingan\", \"Alat Kecantikan\", \"Koleksi\",\n",
        "          \"Alat kesehatan\", \"Perseroan Komanditer\", \"Jasa Isi Ulang Air Minum\", \"Jasa Mengajar\", \"Fotocopy\"\n",
        "          ]\n",
        "for row in delrow:\n",
        "  df.drop(df[df['jenis_usaha'] == row].index, inplace = True)"
      ]
    },
    {
      "cell_type": "code",
      "execution_count": 34,
      "metadata": {
        "colab": {
          "base_uri": "https://localhost:8080/"
        },
        "id": "ZYC6W-zJ3jo3",
        "outputId": "8021f63e-dfc6-477b-e1c4-58c3390a5c7e"
      },
      "outputs": [
        {
          "name": "stdout",
          "output_type": "stream",
          "text": [
            "Columns Dropped!\n"
          ]
        }
      ],
      "source": [
        "# Deleting unused column\n",
        "try:\n",
        "  df = df.drop(columns=['Unnamed: 0','Modal','tingkat_persaingan','jumlah_pegawai','omset',\n",
        "                      'target_pasar','lokasi','hewan_ternak','hewan_ternak_sub','lokasi_geografis',\n",
        "                      'mengerti_hewan','luas_lahan','usaha_kuliner','tipe_usaha_kuliner','kemampuan_masak',\n",
        "                      'barang_dropship','penyimpanan_barang','biaya_internet','sosial_media','barang_toserba',\n",
        "                      'toko_toserba','tipe_toko','usaha_lain','tipe_usaha_lain', 'modal_minimum', 'omset_minimum',\n",
        "                      'hewan_ternak_idx', 'lokasi_geografis_idx', 'tipe_usaha_kuliner_idx'])\n",
        "  print(\"Columns Dropped!\")\n",
        "except:\n",
        "  print(\"Columns Already Dropped!\")"
      ]
    },
    {
      "cell_type": "code",
      "execution_count": 35,
      "metadata": {
        "colab": {
          "base_uri": "https://localhost:8080/",
          "height": 287
        },
        "id": "6oUDK52F4JMj",
        "outputId": "6065d609-0ca7-437d-d610-026a08bb8ca6"
      },
      "outputs": [
        {
          "data": {
            "text/html": [
              "\n",
              "  <div id=\"df-0dae4088-198a-49bc-9a15-17f7548f7cbf\">\n",
              "    <div class=\"colab-df-container\">\n",
              "      <div>\n",
              "<style scoped>\n",
              "    .dataframe tbody tr th:only-of-type {\n",
              "        vertical-align: middle;\n",
              "    }\n",
              "\n",
              "    .dataframe tbody tr th {\n",
              "        vertical-align: top;\n",
              "    }\n",
              "\n",
              "    .dataframe thead th {\n",
              "        text-align: right;\n",
              "    }\n",
              "</style>\n",
              "<table border=\"1\" class=\"dataframe\">\n",
              "  <thead>\n",
              "    <tr style=\"text-align: right;\">\n",
              "      <th></th>\n",
              "      <th>jenis_usaha</th>\n",
              "      <th>modal_maximum</th>\n",
              "      <th>tingkat_persaingan_idx</th>\n",
              "      <th>pegawai_minimum</th>\n",
              "      <th>tp_b</th>\n",
              "      <th>tp_m</th>\n",
              "      <th>tp_a</th>\n",
              "      <th>lokasi_idx</th>\n",
              "      <th>mengerti_hewan_idx</th>\n",
              "      <th>lahan_minimum</th>\n",
              "      <th>kemampuan_masak_idx</th>\n",
              "      <th>penyimpanan_barang_idx</th>\n",
              "      <th>internet_minimum</th>\n",
              "      <th>sosial_media_idx</th>\n",
              "      <th>toko_toserba_idx</th>\n",
              "      <th>tipe_toko_idx</th>\n",
              "      <th>tipe_usaha_lain_idx</th>\n",
              "    </tr>\n",
              "  </thead>\n",
              "  <tbody>\n",
              "    <tr>\n",
              "      <th>1</th>\n",
              "      <td>Perternakan</td>\n",
              "      <td>25000000</td>\n",
              "      <td>1</td>\n",
              "      <td>1</td>\n",
              "      <td>1</td>\n",
              "      <td>1</td>\n",
              "      <td>1</td>\n",
              "      <td>1</td>\n",
              "      <td>1</td>\n",
              "      <td>1000</td>\n",
              "      <td>0</td>\n",
              "      <td>0</td>\n",
              "      <td>0</td>\n",
              "      <td>0</td>\n",
              "      <td>0</td>\n",
              "      <td>0</td>\n",
              "      <td>0</td>\n",
              "    </tr>\n",
              "    <tr>\n",
              "      <th>2</th>\n",
              "      <td>Toserba/Toko Kelontong</td>\n",
              "      <td>10000000</td>\n",
              "      <td>1</td>\n",
              "      <td>1</td>\n",
              "      <td>1</td>\n",
              "      <td>1</td>\n",
              "      <td>0</td>\n",
              "      <td>1</td>\n",
              "      <td>0</td>\n",
              "      <td>0</td>\n",
              "      <td>0</td>\n",
              "      <td>0</td>\n",
              "      <td>0</td>\n",
              "      <td>0</td>\n",
              "      <td>1</td>\n",
              "      <td>1</td>\n",
              "      <td>0</td>\n",
              "    </tr>\n",
              "    <tr>\n",
              "      <th>3</th>\n",
              "      <td>Kuliner</td>\n",
              "      <td>10000000</td>\n",
              "      <td>1</td>\n",
              "      <td>1</td>\n",
              "      <td>0</td>\n",
              "      <td>1</td>\n",
              "      <td>0</td>\n",
              "      <td>1</td>\n",
              "      <td>0</td>\n",
              "      <td>0</td>\n",
              "      <td>1</td>\n",
              "      <td>0</td>\n",
              "      <td>0</td>\n",
              "      <td>0</td>\n",
              "      <td>0</td>\n",
              "      <td>0</td>\n",
              "      <td>0</td>\n",
              "    </tr>\n",
              "    <tr>\n",
              "      <th>4</th>\n",
              "      <td>Dropshipper</td>\n",
              "      <td>10000000</td>\n",
              "      <td>0</td>\n",
              "      <td>1</td>\n",
              "      <td>1</td>\n",
              "      <td>0</td>\n",
              "      <td>0</td>\n",
              "      <td>0</td>\n",
              "      <td>0</td>\n",
              "      <td>0</td>\n",
              "      <td>0</td>\n",
              "      <td>1</td>\n",
              "      <td>100000</td>\n",
              "      <td>1</td>\n",
              "      <td>0</td>\n",
              "      <td>0</td>\n",
              "      <td>0</td>\n",
              "    </tr>\n",
              "    <tr>\n",
              "      <th>5</th>\n",
              "      <td>Dropshipper</td>\n",
              "      <td>10000000</td>\n",
              "      <td>2</td>\n",
              "      <td>1</td>\n",
              "      <td>1</td>\n",
              "      <td>1</td>\n",
              "      <td>0</td>\n",
              "      <td>0</td>\n",
              "      <td>0</td>\n",
              "      <td>0</td>\n",
              "      <td>0</td>\n",
              "      <td>1</td>\n",
              "      <td>300000</td>\n",
              "      <td>1</td>\n",
              "      <td>0</td>\n",
              "      <td>0</td>\n",
              "      <td>0</td>\n",
              "    </tr>\n",
              "  </tbody>\n",
              "</table>\n",
              "</div>\n",
              "      <button class=\"colab-df-convert\" onclick=\"convertToInteractive('df-0dae4088-198a-49bc-9a15-17f7548f7cbf')\"\n",
              "              title=\"Convert this dataframe to an interactive table.\"\n",
              "              style=\"display:none;\">\n",
              "        \n",
              "  <svg xmlns=\"http://www.w3.org/2000/svg\" height=\"24px\"viewBox=\"0 0 24 24\"\n",
              "       width=\"24px\">\n",
              "    <path d=\"M0 0h24v24H0V0z\" fill=\"none\"/>\n",
              "    <path d=\"M18.56 5.44l.94 2.06.94-2.06 2.06-.94-2.06-.94-.94-2.06-.94 2.06-2.06.94zm-11 1L8.5 8.5l.94-2.06 2.06-.94-2.06-.94L8.5 2.5l-.94 2.06-2.06.94zm10 10l.94 2.06.94-2.06 2.06-.94-2.06-.94-.94-2.06-.94 2.06-2.06.94z\"/><path d=\"M17.41 7.96l-1.37-1.37c-.4-.4-.92-.59-1.43-.59-.52 0-1.04.2-1.43.59L10.3 9.45l-7.72 7.72c-.78.78-.78 2.05 0 2.83L4 21.41c.39.39.9.59 1.41.59.51 0 1.02-.2 1.41-.59l7.78-7.78 2.81-2.81c.8-.78.8-2.07 0-2.86zM5.41 20L4 18.59l7.72-7.72 1.47 1.35L5.41 20z\"/>\n",
              "  </svg>\n",
              "      </button>\n",
              "      \n",
              "  <style>\n",
              "    .colab-df-container {\n",
              "      display:flex;\n",
              "      flex-wrap:wrap;\n",
              "      gap: 12px;\n",
              "    }\n",
              "\n",
              "    .colab-df-convert {\n",
              "      background-color: #E8F0FE;\n",
              "      border: none;\n",
              "      border-radius: 50%;\n",
              "      cursor: pointer;\n",
              "      display: none;\n",
              "      fill: #1967D2;\n",
              "      height: 32px;\n",
              "      padding: 0 0 0 0;\n",
              "      width: 32px;\n",
              "    }\n",
              "\n",
              "    .colab-df-convert:hover {\n",
              "      background-color: #E2EBFA;\n",
              "      box-shadow: 0px 1px 2px rgba(60, 64, 67, 0.3), 0px 1px 3px 1px rgba(60, 64, 67, 0.15);\n",
              "      fill: #174EA6;\n",
              "    }\n",
              "\n",
              "    [theme=dark] .colab-df-convert {\n",
              "      background-color: #3B4455;\n",
              "      fill: #D2E3FC;\n",
              "    }\n",
              "\n",
              "    [theme=dark] .colab-df-convert:hover {\n",
              "      background-color: #434B5C;\n",
              "      box-shadow: 0px 1px 3px 1px rgba(0, 0, 0, 0.15);\n",
              "      filter: drop-shadow(0px 1px 2px rgba(0, 0, 0, 0.3));\n",
              "      fill: #FFFFFF;\n",
              "    }\n",
              "  </style>\n",
              "\n",
              "      <script>\n",
              "        const buttonEl =\n",
              "          document.querySelector('#df-0dae4088-198a-49bc-9a15-17f7548f7cbf button.colab-df-convert');\n",
              "        buttonEl.style.display =\n",
              "          google.colab.kernel.accessAllowed ? 'block' : 'none';\n",
              "\n",
              "        async function convertToInteractive(key) {\n",
              "          const element = document.querySelector('#df-0dae4088-198a-49bc-9a15-17f7548f7cbf');\n",
              "          const dataTable =\n",
              "            await google.colab.kernel.invokeFunction('convertToInteractive',\n",
              "                                                     [key], {});\n",
              "          if (!dataTable) return;\n",
              "\n",
              "          const docLinkHtml = 'Like what you see? Visit the ' +\n",
              "            '<a target=\"_blank\" href=https://colab.research.google.com/notebooks/data_table.ipynb>data table notebook</a>'\n",
              "            + ' to learn more about interactive tables.';\n",
              "          element.innerHTML = '';\n",
              "          dataTable['output_type'] = 'display_data';\n",
              "          await google.colab.output.renderOutput(dataTable, element);\n",
              "          const docLink = document.createElement('div');\n",
              "          docLink.innerHTML = docLinkHtml;\n",
              "          element.appendChild(docLink);\n",
              "        }\n",
              "      </script>\n",
              "    </div>\n",
              "  </div>\n",
              "  "
            ],
            "text/plain": [
              "              jenis_usaha  modal_maximum  tingkat_persaingan_idx  \\\n",
              "1             Perternakan       25000000                       1   \n",
              "2  Toserba/Toko Kelontong       10000000                       1   \n",
              "3                 Kuliner       10000000                       1   \n",
              "4             Dropshipper       10000000                       0   \n",
              "5             Dropshipper       10000000                       2   \n",
              "\n",
              "   pegawai_minimum  tp_b  tp_m  tp_a  lokasi_idx  mengerti_hewan_idx  \\\n",
              "1                1     1     1     1           1                   1   \n",
              "2                1     1     1     0           1                   0   \n",
              "3                1     0     1     0           1                   0   \n",
              "4                1     1     0     0           0                   0   \n",
              "5                1     1     1     0           0                   0   \n",
              "\n",
              "   lahan_minimum  kemampuan_masak_idx  penyimpanan_barang_idx  \\\n",
              "1           1000                    0                       0   \n",
              "2              0                    0                       0   \n",
              "3              0                    1                       0   \n",
              "4              0                    0                       1   \n",
              "5              0                    0                       1   \n",
              "\n",
              "   internet_minimum  sosial_media_idx  toko_toserba_idx  tipe_toko_idx  \\\n",
              "1                 0                 0                 0              0   \n",
              "2                 0                 0                 1              1   \n",
              "3                 0                 0                 0              0   \n",
              "4            100000                 1                 0              0   \n",
              "5            300000                 1                 0              0   \n",
              "\n",
              "   tipe_usaha_lain_idx  \n",
              "1                    0  \n",
              "2                    0  \n",
              "3                    0  \n",
              "4                    0  \n",
              "5                    0  "
            ]
          },
          "execution_count": 35,
          "metadata": {},
          "output_type": "execute_result"
        }
      ],
      "source": [
        "df.head()"
      ]
    },
    {
      "cell_type": "markdown",
      "metadata": {
        "id": "bVoVAygrGve4"
      },
      "source": [
        "Indexing Label"
      ]
    },
    {
      "cell_type": "code",
      "execution_count": 36,
      "metadata": {
        "id": "tqidi_3yGSjk"
      },
      "outputs": [],
      "source": [
        "label = \"jenis_usaha\"\n",
        "classes = [0]"
      ]
    },
    {
      "cell_type": "code",
      "execution_count": 37,
      "metadata": {
        "colab": {
          "base_uri": "https://localhost:8080/"
        },
        "id": "QHFvTLOKGYKM",
        "outputId": "437cdc8d-bc14-4ba8-c726-66830de0236c"
      },
      "outputs": [
        {
          "name": "stdout",
          "output_type": "stream",
          "text": [
            "Label classes: ['Perternakan', 'Toserba/Toko Kelontong', 'Kuliner', 'Dropshipper', 'Barang Digital', 'Elektronik', 'Pakaian', 'Kosmetik']\n"
          ]
        }
      ],
      "source": [
        "if type(classes[0]) is int:\n",
        "  classes = df[label].unique().tolist()\n",
        "  df[label] = df[label].map(classes.index)\n",
        "  print(f\"Label classes: {classes}\")\n",
        "else:\n",
        "  print(\"Label classes Already indexed!\")\n",
        "  print(f\"Label classes: {classes}\")"
      ]
    },
    {
      "cell_type": "code",
      "execution_count": 39,
      "metadata": {
        "colab": {
          "base_uri": "https://localhost:8080/",
          "height": 270
        },
        "id": "Ap3RTWrA55J1",
        "outputId": "dcf9ad84-d870-4bec-eaea-3d819cbbf5f8"
      },
      "outputs": [
        {
          "data": {
            "text/html": [
              "\n",
              "  <div id=\"df-e6b3507b-1949-4f7b-9a3f-68c758bddbb1\">\n",
              "    <div class=\"colab-df-container\">\n",
              "      <div>\n",
              "<style scoped>\n",
              "    .dataframe tbody tr th:only-of-type {\n",
              "        vertical-align: middle;\n",
              "    }\n",
              "\n",
              "    .dataframe tbody tr th {\n",
              "        vertical-align: top;\n",
              "    }\n",
              "\n",
              "    .dataframe thead th {\n",
              "        text-align: right;\n",
              "    }\n",
              "</style>\n",
              "<table border=\"1\" class=\"dataframe\">\n",
              "  <thead>\n",
              "    <tr style=\"text-align: right;\">\n",
              "      <th></th>\n",
              "      <th>jenis_usaha</th>\n",
              "      <th>modal_maximum</th>\n",
              "      <th>tingkat_persaingan_idx</th>\n",
              "      <th>pegawai_minimum</th>\n",
              "      <th>tp_b</th>\n",
              "      <th>tp_m</th>\n",
              "      <th>tp_a</th>\n",
              "      <th>lokasi_idx</th>\n",
              "      <th>mengerti_hewan_idx</th>\n",
              "      <th>lahan_minimum</th>\n",
              "      <th>kemampuan_masak_idx</th>\n",
              "      <th>penyimpanan_barang_idx</th>\n",
              "      <th>internet_minimum</th>\n",
              "      <th>sosial_media_idx</th>\n",
              "      <th>toko_toserba_idx</th>\n",
              "      <th>tipe_toko_idx</th>\n",
              "      <th>tipe_usaha_lain_idx</th>\n",
              "    </tr>\n",
              "  </thead>\n",
              "  <tbody>\n",
              "    <tr>\n",
              "      <th>1</th>\n",
              "      <td>0</td>\n",
              "      <td>25000000</td>\n",
              "      <td>1</td>\n",
              "      <td>1</td>\n",
              "      <td>1</td>\n",
              "      <td>1</td>\n",
              "      <td>1</td>\n",
              "      <td>1</td>\n",
              "      <td>1</td>\n",
              "      <td>1000</td>\n",
              "      <td>0</td>\n",
              "      <td>0</td>\n",
              "      <td>0</td>\n",
              "      <td>0</td>\n",
              "      <td>0</td>\n",
              "      <td>0</td>\n",
              "      <td>0</td>\n",
              "    </tr>\n",
              "    <tr>\n",
              "      <th>2</th>\n",
              "      <td>1</td>\n",
              "      <td>10000000</td>\n",
              "      <td>1</td>\n",
              "      <td>1</td>\n",
              "      <td>1</td>\n",
              "      <td>1</td>\n",
              "      <td>0</td>\n",
              "      <td>1</td>\n",
              "      <td>0</td>\n",
              "      <td>0</td>\n",
              "      <td>0</td>\n",
              "      <td>0</td>\n",
              "      <td>0</td>\n",
              "      <td>0</td>\n",
              "      <td>1</td>\n",
              "      <td>1</td>\n",
              "      <td>0</td>\n",
              "    </tr>\n",
              "    <tr>\n",
              "      <th>3</th>\n",
              "      <td>2</td>\n",
              "      <td>10000000</td>\n",
              "      <td>1</td>\n",
              "      <td>1</td>\n",
              "      <td>0</td>\n",
              "      <td>1</td>\n",
              "      <td>0</td>\n",
              "      <td>1</td>\n",
              "      <td>0</td>\n",
              "      <td>0</td>\n",
              "      <td>1</td>\n",
              "      <td>0</td>\n",
              "      <td>0</td>\n",
              "      <td>0</td>\n",
              "      <td>0</td>\n",
              "      <td>0</td>\n",
              "      <td>0</td>\n",
              "    </tr>\n",
              "    <tr>\n",
              "      <th>4</th>\n",
              "      <td>3</td>\n",
              "      <td>10000000</td>\n",
              "      <td>0</td>\n",
              "      <td>1</td>\n",
              "      <td>1</td>\n",
              "      <td>0</td>\n",
              "      <td>0</td>\n",
              "      <td>0</td>\n",
              "      <td>0</td>\n",
              "      <td>0</td>\n",
              "      <td>0</td>\n",
              "      <td>1</td>\n",
              "      <td>100000</td>\n",
              "      <td>1</td>\n",
              "      <td>0</td>\n",
              "      <td>0</td>\n",
              "      <td>0</td>\n",
              "    </tr>\n",
              "    <tr>\n",
              "      <th>5</th>\n",
              "      <td>3</td>\n",
              "      <td>10000000</td>\n",
              "      <td>2</td>\n",
              "      <td>1</td>\n",
              "      <td>1</td>\n",
              "      <td>1</td>\n",
              "      <td>0</td>\n",
              "      <td>0</td>\n",
              "      <td>0</td>\n",
              "      <td>0</td>\n",
              "      <td>0</td>\n",
              "      <td>1</td>\n",
              "      <td>300000</td>\n",
              "      <td>1</td>\n",
              "      <td>0</td>\n",
              "      <td>0</td>\n",
              "      <td>0</td>\n",
              "    </tr>\n",
              "  </tbody>\n",
              "</table>\n",
              "</div>\n",
              "      <button class=\"colab-df-convert\" onclick=\"convertToInteractive('df-e6b3507b-1949-4f7b-9a3f-68c758bddbb1')\"\n",
              "              title=\"Convert this dataframe to an interactive table.\"\n",
              "              style=\"display:none;\">\n",
              "        \n",
              "  <svg xmlns=\"http://www.w3.org/2000/svg\" height=\"24px\"viewBox=\"0 0 24 24\"\n",
              "       width=\"24px\">\n",
              "    <path d=\"M0 0h24v24H0V0z\" fill=\"none\"/>\n",
              "    <path d=\"M18.56 5.44l.94 2.06.94-2.06 2.06-.94-2.06-.94-.94-2.06-.94 2.06-2.06.94zm-11 1L8.5 8.5l.94-2.06 2.06-.94-2.06-.94L8.5 2.5l-.94 2.06-2.06.94zm10 10l.94 2.06.94-2.06 2.06-.94-2.06-.94-.94-2.06-.94 2.06-2.06.94z\"/><path d=\"M17.41 7.96l-1.37-1.37c-.4-.4-.92-.59-1.43-.59-.52 0-1.04.2-1.43.59L10.3 9.45l-7.72 7.72c-.78.78-.78 2.05 0 2.83L4 21.41c.39.39.9.59 1.41.59.51 0 1.02-.2 1.41-.59l7.78-7.78 2.81-2.81c.8-.78.8-2.07 0-2.86zM5.41 20L4 18.59l7.72-7.72 1.47 1.35L5.41 20z\"/>\n",
              "  </svg>\n",
              "      </button>\n",
              "      \n",
              "  <style>\n",
              "    .colab-df-container {\n",
              "      display:flex;\n",
              "      flex-wrap:wrap;\n",
              "      gap: 12px;\n",
              "    }\n",
              "\n",
              "    .colab-df-convert {\n",
              "      background-color: #E8F0FE;\n",
              "      border: none;\n",
              "      border-radius: 50%;\n",
              "      cursor: pointer;\n",
              "      display: none;\n",
              "      fill: #1967D2;\n",
              "      height: 32px;\n",
              "      padding: 0 0 0 0;\n",
              "      width: 32px;\n",
              "    }\n",
              "\n",
              "    .colab-df-convert:hover {\n",
              "      background-color: #E2EBFA;\n",
              "      box-shadow: 0px 1px 2px rgba(60, 64, 67, 0.3), 0px 1px 3px 1px rgba(60, 64, 67, 0.15);\n",
              "      fill: #174EA6;\n",
              "    }\n",
              "\n",
              "    [theme=dark] .colab-df-convert {\n",
              "      background-color: #3B4455;\n",
              "      fill: #D2E3FC;\n",
              "    }\n",
              "\n",
              "    [theme=dark] .colab-df-convert:hover {\n",
              "      background-color: #434B5C;\n",
              "      box-shadow: 0px 1px 3px 1px rgba(0, 0, 0, 0.15);\n",
              "      filter: drop-shadow(0px 1px 2px rgba(0, 0, 0, 0.3));\n",
              "      fill: #FFFFFF;\n",
              "    }\n",
              "  </style>\n",
              "\n",
              "      <script>\n",
              "        const buttonEl =\n",
              "          document.querySelector('#df-e6b3507b-1949-4f7b-9a3f-68c758bddbb1 button.colab-df-convert');\n",
              "        buttonEl.style.display =\n",
              "          google.colab.kernel.accessAllowed ? 'block' : 'none';\n",
              "\n",
              "        async function convertToInteractive(key) {\n",
              "          const element = document.querySelector('#df-e6b3507b-1949-4f7b-9a3f-68c758bddbb1');\n",
              "          const dataTable =\n",
              "            await google.colab.kernel.invokeFunction('convertToInteractive',\n",
              "                                                     [key], {});\n",
              "          if (!dataTable) return;\n",
              "\n",
              "          const docLinkHtml = 'Like what you see? Visit the ' +\n",
              "            '<a target=\"_blank\" href=https://colab.research.google.com/notebooks/data_table.ipynb>data table notebook</a>'\n",
              "            + ' to learn more about interactive tables.';\n",
              "          element.innerHTML = '';\n",
              "          dataTable['output_type'] = 'display_data';\n",
              "          await google.colab.output.renderOutput(dataTable, element);\n",
              "          const docLink = document.createElement('div');\n",
              "          docLink.innerHTML = docLinkHtml;\n",
              "          element.appendChild(docLink);\n",
              "        }\n",
              "      </script>\n",
              "    </div>\n",
              "  </div>\n",
              "  "
            ],
            "text/plain": [
              "   jenis_usaha  modal_maximum  tingkat_persaingan_idx  pegawai_minimum  tp_b  \\\n",
              "1            0       25000000                       1                1     1   \n",
              "2            1       10000000                       1                1     1   \n",
              "3            2       10000000                       1                1     0   \n",
              "4            3       10000000                       0                1     1   \n",
              "5            3       10000000                       2                1     1   \n",
              "\n",
              "   tp_m  tp_a  lokasi_idx  mengerti_hewan_idx  lahan_minimum  \\\n",
              "1     1     1           1                   1           1000   \n",
              "2     1     0           1                   0              0   \n",
              "3     1     0           1                   0              0   \n",
              "4     0     0           0                   0              0   \n",
              "5     1     0           0                   0              0   \n",
              "\n",
              "   kemampuan_masak_idx  penyimpanan_barang_idx  internet_minimum  \\\n",
              "1                    0                       0                 0   \n",
              "2                    0                       0                 0   \n",
              "3                    1                       0                 0   \n",
              "4                    0                       1            100000   \n",
              "5                    0                       1            300000   \n",
              "\n",
              "   sosial_media_idx  toko_toserba_idx  tipe_toko_idx  tipe_usaha_lain_idx  \n",
              "1                 0                 0              0                    0  \n",
              "2                 0                 1              1                    0  \n",
              "3                 0                 0              0                    0  \n",
              "4                 1                 0              0                    0  \n",
              "5                 1                 0              0                    0  "
            ]
          },
          "execution_count": 39,
          "metadata": {},
          "output_type": "execute_result"
        }
      ],
      "source": [
        "df.head()"
      ]
    },
    {
      "cell_type": "code",
      "execution_count": 41,
      "metadata": {
        "id": "10Ba1ORgEpku"
      },
      "outputs": [],
      "source": [
        "# # Randomize data\n",
        "# random = df.sample(frac=1, random_state=30)\n",
        "# # separating labels and features\n",
        "# X = random.drop(\"jenis_usaha\", axis=1).values\n",
        "# y = random.jenis_usaha.values"
      ]
    },
    {
      "cell_type": "code",
      "execution_count": 42,
      "metadata": {
        "id": "mPa1fKke6u2Y"
      },
      "outputs": [],
      "source": [
        "# separating labels and features without randomize\n",
        "X = df.drop(\"jenis_usaha\", axis=1).values\n",
        "y = df.jenis_usaha.values"
      ]
    },
    {
      "cell_type": "code",
      "execution_count": 43,
      "metadata": {
        "id": "WVZHjFABaSnL"
      },
      "outputs": [],
      "source": [
        "# normalization\n",
        "from sklearn.preprocessing import normalize\n",
        "X_normalized = normalize(X, axis = 0, norm='l2')"
      ]
    },
    {
      "cell_type": "code",
      "execution_count": 44,
      "metadata": {
        "colab": {
          "base_uri": "https://localhost:8080/"
        },
        "id": "TBd8q-GkaZBc",
        "outputId": "626fc7a9-ddbf-4f16-9362-2d7edc9660f7"
      },
      "outputs": [
        {
          "name": "stdout",
          "output_type": "stream",
          "text": [
            "Length of train set x: 86 y: 86\n",
            "Length of test set x: 37 y: 37\n"
          ]
        }
      ],
      "source": [
        "# splitting data\n",
        "total_length=len(df)\n",
        "train_length=int(0.7*total_length)\n",
        "test_length=int(0.3*total_length)\n",
        "\n",
        "X_train=X_normalized[:train_length]\n",
        "X_test=X_normalized[train_length:]\n",
        "y_train=y[:train_length]\n",
        "y_test=y[train_length:]\n",
        "\n",
        "print(\"Length of train set x:\",X_train.shape[0],\"y:\",y_train.shape[0])\n",
        "print(\"Length of test set x:\",X_test.shape[0],\"y:\",y_test.shape[0])"
      ]
    },
    {
      "cell_type": "code",
      "execution_count": 45,
      "metadata": {
        "colab": {
          "base_uri": "https://localhost:8080/"
        },
        "id": "FZZ6p9JA8oly",
        "outputId": "6a03a15e-f526-4579-fa3d-3bfef3f6eb79"
      },
      "outputs": [
        {
          "name": "stdout",
          "output_type": "stream",
          "text": [
            "Shape of y_train (86, 8)\n",
            "Shape of y_test (37, 8)\n"
          ]
        }
      ],
      "source": [
        "from keras.utils import np_utils\n",
        "y_train=np_utils.to_categorical(y_train,num_classes=len(classes))\n",
        "y_test=np_utils.to_categorical(y_test,num_classes=len(classes))\n",
        "print(\"Shape of y_train\",y_train.shape)\n",
        "print(\"Shape of y_test\",y_test.shape)"
      ]
    },
    {
      "cell_type": "code",
      "execution_count": 46,
      "metadata": {
        "id": "1ER-8S8D91HW"
      },
      "outputs": [],
      "source": [
        "from keras.models import Sequential \n",
        "from keras.layers import Dense,Activation,Dropout \n",
        "\n",
        "shape = X_train.shape[1]\n",
        "\n",
        "model=Sequential()\n",
        "model.add(Dense(128,input_dim=X_train.shape[1],activation='relu'))\n",
        "model.add(Dense(64,activation='relu'))\n",
        "model.add(Dropout(0.2))\n",
        "model.add(Dense(len(classes),activation='softmax'))\n",
        "model.compile(loss='categorical_crossentropy',optimizer='adam',metrics=['accuracy'])"
      ]
    },
    {
      "cell_type": "code",
      "execution_count": 47,
      "metadata": {
        "id": "W9r6EvUMLtCs"
      },
      "outputs": [],
      "source": [
        "class cb(tf.keras.callbacks.Callback): \n",
        "  def on_epoch_end(self, epoch, logs={}):\n",
        "    if(logs.get('accuracy') > 0.90 and logs.get('val_loss') < 0.4 and logs.get('loss') < 0.4 and logs.get('val_accuracy') > 0.80):\n",
        "      self.model.stop_training = True\n",
        "\n",
        "callbacks = cb()"
      ]
    },
    {
      "cell_type": "code",
      "execution_count": 48,
      "metadata": {
        "colab": {
          "base_uri": "https://localhost:8080/"
        },
        "id": "eJV-iQBhHejY",
        "outputId": "b7e575b9-4770-4e6d-999b-d11138ecb141"
      },
      "outputs": [
        {
          "name": "stdout",
          "output_type": "stream",
          "text": [
            "Epoch 1/500\n",
            "5/5 [==============================] - 1s 86ms/step - loss: 2.0633 - accuracy: 0.2442 - val_loss: 2.0285 - val_accuracy: 0.5676\n",
            "Epoch 2/500\n",
            "5/5 [==============================] - 0s 8ms/step - loss: 2.0286 - accuracy: 0.4070 - val_loss: 1.9957 - val_accuracy: 0.1622\n",
            "Epoch 3/500\n",
            "5/5 [==============================] - 0s 8ms/step - loss: 1.9899 - accuracy: 0.3953 - val_loss: 1.9535 - val_accuracy: 0.1892\n",
            "Epoch 4/500\n",
            "5/5 [==============================] - 0s 7ms/step - loss: 1.9519 - accuracy: 0.4070 - val_loss: 1.9108 - val_accuracy: 0.1351\n",
            "Epoch 5/500\n",
            "5/5 [==============================] - 0s 7ms/step - loss: 1.9110 - accuracy: 0.3837 - val_loss: 1.8596 - val_accuracy: 0.1351\n",
            "Epoch 6/500\n",
            "5/5 [==============================] - 0s 7ms/step - loss: 1.8638 - accuracy: 0.3953 - val_loss: 1.8047 - val_accuracy: 0.1622\n",
            "Epoch 7/500\n",
            "5/5 [==============================] - 0s 7ms/step - loss: 1.8174 - accuracy: 0.4186 - val_loss: 1.7482 - val_accuracy: 0.1622\n",
            "Epoch 8/500\n",
            "5/5 [==============================] - 0s 8ms/step - loss: 1.7549 - accuracy: 0.3953 - val_loss: 1.6811 - val_accuracy: 0.1622\n",
            "Epoch 9/500\n",
            "5/5 [==============================] - 0s 7ms/step - loss: 1.6880 - accuracy: 0.3953 - val_loss: 1.6204 - val_accuracy: 0.1622\n",
            "Epoch 10/500\n",
            "5/5 [==============================] - 0s 12ms/step - loss: 1.6320 - accuracy: 0.3953 - val_loss: 1.5531 - val_accuracy: 0.1622\n",
            "Epoch 11/500\n",
            "5/5 [==============================] - 0s 9ms/step - loss: 1.5813 - accuracy: 0.3837 - val_loss: 1.4701 - val_accuracy: 0.1892\n",
            "Epoch 12/500\n",
            "5/5 [==============================] - 0s 7ms/step - loss: 1.5003 - accuracy: 0.4419 - val_loss: 1.3843 - val_accuracy: 0.3784\n",
            "Epoch 13/500\n",
            "5/5 [==============================] - 0s 10ms/step - loss: 1.4579 - accuracy: 0.4535 - val_loss: 1.2788 - val_accuracy: 0.7838\n",
            "Epoch 14/500\n",
            "5/5 [==============================] - 0s 8ms/step - loss: 1.3840 - accuracy: 0.5814 - val_loss: 1.1943 - val_accuracy: 0.8108\n",
            "Epoch 15/500\n",
            "5/5 [==============================] - 0s 9ms/step - loss: 1.3024 - accuracy: 0.5814 - val_loss: 1.1134 - val_accuracy: 1.0000\n",
            "Epoch 16/500\n",
            "5/5 [==============================] - 0s 8ms/step - loss: 1.2549 - accuracy: 0.6512 - val_loss: 1.0148 - val_accuracy: 1.0000\n",
            "Epoch 17/500\n",
            "5/5 [==============================] - 0s 8ms/step - loss: 1.2075 - accuracy: 0.7326 - val_loss: 0.9290 - val_accuracy: 1.0000\n",
            "Epoch 18/500\n",
            "5/5 [==============================] - 0s 8ms/step - loss: 1.1336 - accuracy: 0.7558 - val_loss: 0.8361 - val_accuracy: 1.0000\n",
            "Epoch 19/500\n",
            "5/5 [==============================] - 0s 8ms/step - loss: 1.0979 - accuracy: 0.7093 - val_loss: 0.7596 - val_accuracy: 1.0000\n",
            "Epoch 20/500\n",
            "5/5 [==============================] - 0s 8ms/step - loss: 1.0227 - accuracy: 0.7442 - val_loss: 0.6801 - val_accuracy: 1.0000\n",
            "Epoch 21/500\n",
            "5/5 [==============================] - 0s 9ms/step - loss: 1.0039 - accuracy: 0.7442 - val_loss: 0.6196 - val_accuracy: 1.0000\n",
            "Epoch 22/500\n",
            "5/5 [==============================] - 0s 8ms/step - loss: 0.9705 - accuracy: 0.7558 - val_loss: 0.5659 - val_accuracy: 1.0000\n",
            "Epoch 23/500\n",
            "5/5 [==============================] - 0s 8ms/step - loss: 0.9413 - accuracy: 0.7558 - val_loss: 0.5143 - val_accuracy: 1.0000\n",
            "Epoch 24/500\n",
            "5/5 [==============================] - 0s 8ms/step - loss: 0.8918 - accuracy: 0.7442 - val_loss: 0.4695 - val_accuracy: 1.0000\n",
            "Epoch 25/500\n",
            "5/5 [==============================] - 0s 8ms/step - loss: 0.8416 - accuracy: 0.7907 - val_loss: 0.4190 - val_accuracy: 1.0000\n",
            "Epoch 26/500\n",
            "5/5 [==============================] - 0s 8ms/step - loss: 0.8154 - accuracy: 0.7674 - val_loss: 0.3719 - val_accuracy: 1.0000\n",
            "Epoch 27/500\n",
            "5/5 [==============================] - 0s 7ms/step - loss: 0.8151 - accuracy: 0.7674 - val_loss: 0.3353 - val_accuracy: 1.0000\n",
            "Epoch 28/500\n",
            "5/5 [==============================] - 0s 8ms/step - loss: 0.7990 - accuracy: 0.7558 - val_loss: 0.2932 - val_accuracy: 1.0000\n",
            "Epoch 29/500\n",
            "5/5 [==============================] - 0s 9ms/step - loss: 0.7384 - accuracy: 0.8140 - val_loss: 0.2594 - val_accuracy: 1.0000\n",
            "Epoch 30/500\n",
            "5/5 [==============================] - 0s 8ms/step - loss: 0.7416 - accuracy: 0.7907 - val_loss: 0.2203 - val_accuracy: 1.0000\n",
            "Epoch 31/500\n",
            "5/5 [==============================] - 0s 8ms/step - loss: 0.7040 - accuracy: 0.8256 - val_loss: 0.1909 - val_accuracy: 1.0000\n",
            "Epoch 32/500\n",
            "5/5 [==============================] - 0s 8ms/step - loss: 0.7117 - accuracy: 0.7791 - val_loss: 0.1777 - val_accuracy: 1.0000\n",
            "Epoch 33/500\n",
            "5/5 [==============================] - 0s 8ms/step - loss: 0.6739 - accuracy: 0.7907 - val_loss: 0.1643 - val_accuracy: 1.0000\n",
            "Epoch 34/500\n",
            "5/5 [==============================] - 0s 8ms/step - loss: 0.6815 - accuracy: 0.7674 - val_loss: 0.1555 - val_accuracy: 1.0000\n",
            "Epoch 35/500\n",
            "5/5 [==============================] - 0s 8ms/step - loss: 0.6587 - accuracy: 0.8256 - val_loss: 0.1411 - val_accuracy: 1.0000\n",
            "Epoch 36/500\n",
            "5/5 [==============================] - 0s 8ms/step - loss: 0.6277 - accuracy: 0.7907 - val_loss: 0.1265 - val_accuracy: 1.0000\n",
            "Epoch 37/500\n",
            "5/5 [==============================] - 0s 8ms/step - loss: 0.6343 - accuracy: 0.7791 - val_loss: 0.1089 - val_accuracy: 1.0000\n",
            "Epoch 38/500\n",
            "5/5 [==============================] - 0s 9ms/step - loss: 0.6120 - accuracy: 0.8372 - val_loss: 0.0977 - val_accuracy: 1.0000\n",
            "Epoch 39/500\n",
            "5/5 [==============================] - 0s 8ms/step - loss: 0.6075 - accuracy: 0.8023 - val_loss: 0.0949 - val_accuracy: 1.0000\n",
            "Epoch 40/500\n",
            "5/5 [==============================] - 0s 10ms/step - loss: 0.6072 - accuracy: 0.7907 - val_loss: 0.0922 - val_accuracy: 1.0000\n",
            "Epoch 41/500\n",
            "5/5 [==============================] - 0s 8ms/step - loss: 0.6040 - accuracy: 0.8372 - val_loss: 0.0870 - val_accuracy: 1.0000\n",
            "Epoch 42/500\n",
            "5/5 [==============================] - 0s 7ms/step - loss: 0.5583 - accuracy: 0.8140 - val_loss: 0.0807 - val_accuracy: 1.0000\n",
            "Epoch 43/500\n",
            "5/5 [==============================] - 0s 7ms/step - loss: 0.5807 - accuracy: 0.7907 - val_loss: 0.0704 - val_accuracy: 1.0000\n",
            "Epoch 44/500\n",
            "5/5 [==============================] - 0s 7ms/step - loss: 0.5620 - accuracy: 0.8488 - val_loss: 0.0594 - val_accuracy: 1.0000\n",
            "Epoch 45/500\n",
            "5/5 [==============================] - 0s 8ms/step - loss: 0.5584 - accuracy: 0.8023 - val_loss: 0.0561 - val_accuracy: 1.0000\n",
            "Epoch 46/500\n",
            "5/5 [==============================] - 0s 9ms/step - loss: 0.5693 - accuracy: 0.8023 - val_loss: 0.0551 - val_accuracy: 1.0000\n",
            "Epoch 47/500\n",
            "5/5 [==============================] - 0s 8ms/step - loss: 0.5622 - accuracy: 0.7907 - val_loss: 0.0567 - val_accuracy: 1.0000\n",
            "Epoch 48/500\n",
            "5/5 [==============================] - 0s 8ms/step - loss: 0.5550 - accuracy: 0.8140 - val_loss: 0.0560 - val_accuracy: 1.0000\n",
            "Epoch 49/500\n",
            "5/5 [==============================] - 0s 7ms/step - loss: 0.5265 - accuracy: 0.8372 - val_loss: 0.0508 - val_accuracy: 1.0000\n",
            "Epoch 50/500\n",
            "5/5 [==============================] - 0s 8ms/step - loss: 0.5420 - accuracy: 0.8256 - val_loss: 0.0456 - val_accuracy: 1.0000\n",
            "Epoch 51/500\n",
            "5/5 [==============================] - 0s 8ms/step - loss: 0.5385 - accuracy: 0.8372 - val_loss: 0.0408 - val_accuracy: 1.0000\n",
            "Epoch 52/500\n",
            "5/5 [==============================] - 0s 7ms/step - loss: 0.5497 - accuracy: 0.8023 - val_loss: 0.0386 - val_accuracy: 1.0000\n",
            "Epoch 53/500\n",
            "5/5 [==============================] - 0s 8ms/step - loss: 0.4931 - accuracy: 0.8256 - val_loss: 0.0371 - val_accuracy: 1.0000\n",
            "Epoch 54/500\n",
            "5/5 [==============================] - 0s 9ms/step - loss: 0.5286 - accuracy: 0.8140 - val_loss: 0.0362 - val_accuracy: 1.0000\n",
            "Epoch 55/500\n",
            "5/5 [==============================] - 0s 8ms/step - loss: 0.5125 - accuracy: 0.8256 - val_loss: 0.0321 - val_accuracy: 1.0000\n",
            "Epoch 56/500\n",
            "5/5 [==============================] - 0s 8ms/step - loss: 0.5608 - accuracy: 0.7791 - val_loss: 0.0300 - val_accuracy: 1.0000\n",
            "Epoch 57/500\n",
            "5/5 [==============================] - 0s 7ms/step - loss: 0.4683 - accuracy: 0.8256 - val_loss: 0.0300 - val_accuracy: 1.0000\n",
            "Epoch 58/500\n",
            "5/5 [==============================] - 0s 7ms/step - loss: 0.4993 - accuracy: 0.8256 - val_loss: 0.0289 - val_accuracy: 1.0000\n",
            "Epoch 59/500\n",
            "5/5 [==============================] - 0s 8ms/step - loss: 0.4843 - accuracy: 0.8372 - val_loss: 0.0277 - val_accuracy: 1.0000\n",
            "Epoch 60/500\n",
            "5/5 [==============================] - 0s 9ms/step - loss: 0.4957 - accuracy: 0.8372 - val_loss: 0.0260 - val_accuracy: 1.0000\n",
            "Epoch 61/500\n",
            "5/5 [==============================] - 0s 8ms/step - loss: 0.5008 - accuracy: 0.8023 - val_loss: 0.0252 - val_accuracy: 1.0000\n",
            "Epoch 62/500\n",
            "5/5 [==============================] - 0s 8ms/step - loss: 0.4759 - accuracy: 0.8372 - val_loss: 0.0228 - val_accuracy: 1.0000\n",
            "Epoch 63/500\n",
            "5/5 [==============================] - 0s 9ms/step - loss: 0.4741 - accuracy: 0.8372 - val_loss: 0.0212 - val_accuracy: 1.0000\n",
            "Epoch 64/500\n",
            "5/5 [==============================] - 0s 13ms/step - loss: 0.4962 - accuracy: 0.8256 - val_loss: 0.0216 - val_accuracy: 1.0000\n",
            "Epoch 65/500\n",
            "5/5 [==============================] - 0s 8ms/step - loss: 0.4693 - accuracy: 0.8372 - val_loss: 0.0213 - val_accuracy: 1.0000\n",
            "Epoch 66/500\n",
            "5/5 [==============================] - 0s 7ms/step - loss: 0.4702 - accuracy: 0.8372 - val_loss: 0.0204 - val_accuracy: 1.0000\n",
            "Epoch 67/500\n",
            "5/5 [==============================] - 0s 8ms/step - loss: 0.4871 - accuracy: 0.8140 - val_loss: 0.0208 - val_accuracy: 1.0000\n",
            "Epoch 68/500\n",
            "5/5 [==============================] - 0s 8ms/step - loss: 0.4652 - accuracy: 0.8372 - val_loss: 0.0184 - val_accuracy: 1.0000\n",
            "Epoch 69/500\n",
            "5/5 [==============================] - 0s 8ms/step - loss: 0.4399 - accuracy: 0.8140 - val_loss: 0.0164 - val_accuracy: 1.0000\n",
            "Epoch 70/500\n",
            "5/5 [==============================] - 0s 9ms/step - loss: 0.4189 - accuracy: 0.8488 - val_loss: 0.0155 - val_accuracy: 1.0000\n",
            "Epoch 71/500\n",
            "5/5 [==============================] - 0s 8ms/step - loss: 0.4451 - accuracy: 0.8256 - val_loss: 0.0148 - val_accuracy: 1.0000\n",
            "Epoch 72/500\n",
            "5/5 [==============================] - 0s 7ms/step - loss: 0.4543 - accuracy: 0.8023 - val_loss: 0.0147 - val_accuracy: 1.0000\n",
            "Epoch 73/500\n",
            "5/5 [==============================] - 0s 8ms/step - loss: 0.4482 - accuracy: 0.8140 - val_loss: 0.0157 - val_accuracy: 1.0000\n",
            "Epoch 74/500\n",
            "5/5 [==============================] - 0s 8ms/step - loss: 0.4469 - accuracy: 0.8488 - val_loss: 0.0154 - val_accuracy: 1.0000\n",
            "Epoch 75/500\n",
            "5/5 [==============================] - 0s 7ms/step - loss: 0.4333 - accuracy: 0.8256 - val_loss: 0.0146 - val_accuracy: 1.0000\n",
            "Epoch 76/500\n",
            "5/5 [==============================] - 0s 13ms/step - loss: 0.4369 - accuracy: 0.8372 - val_loss: 0.0136 - val_accuracy: 1.0000\n",
            "Epoch 77/500\n",
            "5/5 [==============================] - 0s 8ms/step - loss: 0.4397 - accuracy: 0.8256 - val_loss: 0.0130 - val_accuracy: 1.0000\n",
            "Epoch 78/500\n",
            "5/5 [==============================] - 0s 7ms/step - loss: 0.4871 - accuracy: 0.8256 - val_loss: 0.0120 - val_accuracy: 1.0000\n",
            "Epoch 79/500\n",
            "5/5 [==============================] - 0s 8ms/step - loss: 0.4131 - accuracy: 0.8605 - val_loss: 0.0118 - val_accuracy: 1.0000\n",
            "Epoch 80/500\n",
            "5/5 [==============================] - 0s 8ms/step - loss: 0.4509 - accuracy: 0.8372 - val_loss: 0.0116 - val_accuracy: 1.0000\n",
            "Epoch 81/500\n",
            "5/5 [==============================] - 0s 8ms/step - loss: 0.3854 - accuracy: 0.8721 - val_loss: 0.0117 - val_accuracy: 1.0000\n",
            "Epoch 82/500\n",
            "5/5 [==============================] - 0s 8ms/step - loss: 0.3986 - accuracy: 0.8372 - val_loss: 0.0117 - val_accuracy: 1.0000\n",
            "Epoch 83/500\n",
            "5/5 [==============================] - 0s 8ms/step - loss: 0.4217 - accuracy: 0.8837 - val_loss: 0.0112 - val_accuracy: 1.0000\n",
            "Epoch 84/500\n",
            "5/5 [==============================] - 0s 8ms/step - loss: 0.4366 - accuracy: 0.8256 - val_loss: 0.0106 - val_accuracy: 1.0000\n",
            "Epoch 85/500\n",
            "5/5 [==============================] - 0s 8ms/step - loss: 0.4404 - accuracy: 0.8372 - val_loss: 0.0098 - val_accuracy: 1.0000\n",
            "Epoch 86/500\n",
            "5/5 [==============================] - 0s 9ms/step - loss: 0.3990 - accuracy: 0.8488 - val_loss: 0.0093 - val_accuracy: 1.0000\n",
            "Epoch 87/500\n",
            "5/5 [==============================] - 0s 8ms/step - loss: 0.4254 - accuracy: 0.8605 - val_loss: 0.0090 - val_accuracy: 1.0000\n",
            "Epoch 88/500\n",
            "5/5 [==============================] - 0s 9ms/step - loss: 0.4061 - accuracy: 0.8488 - val_loss: 0.0087 - val_accuracy: 1.0000\n",
            "Epoch 89/500\n",
            "5/5 [==============================] - 0s 9ms/step - loss: 0.4230 - accuracy: 0.8256 - val_loss: 0.0086 - val_accuracy: 1.0000\n",
            "Epoch 90/500\n",
            "5/5 [==============================] - 0s 7ms/step - loss: 0.4362 - accuracy: 0.8488 - val_loss: 0.0083 - val_accuracy: 1.0000\n",
            "Epoch 91/500\n",
            "5/5 [==============================] - 0s 8ms/step - loss: 0.3973 - accuracy: 0.8605 - val_loss: 0.0078 - val_accuracy: 1.0000\n",
            "Epoch 92/500\n",
            "5/5 [==============================] - 0s 8ms/step - loss: 0.3902 - accuracy: 0.8488 - val_loss: 0.0078 - val_accuracy: 1.0000\n",
            "Epoch 93/500\n",
            "5/5 [==============================] - 0s 8ms/step - loss: 0.4072 - accuracy: 0.8023 - val_loss: 0.0072 - val_accuracy: 1.0000\n",
            "Epoch 94/500\n",
            "5/5 [==============================] - 0s 8ms/step - loss: 0.4055 - accuracy: 0.8140 - val_loss: 0.0069 - val_accuracy: 1.0000\n",
            "Epoch 95/500\n",
            "5/5 [==============================] - 0s 8ms/step - loss: 0.4130 - accuracy: 0.8372 - val_loss: 0.0065 - val_accuracy: 1.0000\n",
            "Epoch 96/500\n",
            "5/5 [==============================] - 0s 8ms/step - loss: 0.4106 - accuracy: 0.8256 - val_loss: 0.0057 - val_accuracy: 1.0000\n",
            "Epoch 97/500\n",
            "5/5 [==============================] - 0s 10ms/step - loss: 0.3645 - accuracy: 0.8605 - val_loss: 0.0056 - val_accuracy: 1.0000\n",
            "Epoch 98/500\n",
            "5/5 [==============================] - 0s 10ms/step - loss: 0.4216 - accuracy: 0.8488 - val_loss: 0.0059 - val_accuracy: 1.0000\n",
            "Epoch 99/500\n",
            "5/5 [==============================] - 0s 10ms/step - loss: 0.4072 - accuracy: 0.8256 - val_loss: 0.0060 - val_accuracy: 1.0000\n",
            "Epoch 100/500\n",
            "5/5 [==============================] - 0s 8ms/step - loss: 0.4047 - accuracy: 0.8256 - val_loss: 0.0060 - val_accuracy: 1.0000\n",
            "Epoch 101/500\n",
            "5/5 [==============================] - 0s 13ms/step - loss: 0.3977 - accuracy: 0.8953 - val_loss: 0.0055 - val_accuracy: 1.0000\n",
            "Epoch 102/500\n",
            "5/5 [==============================] - 0s 27ms/step - loss: 0.4277 - accuracy: 0.8372 - val_loss: 0.0054 - val_accuracy: 1.0000\n",
            "Epoch 103/500\n",
            "5/5 [==============================] - 0s 12ms/step - loss: 0.4082 - accuracy: 0.8140 - val_loss: 0.0058 - val_accuracy: 1.0000\n",
            "Epoch 104/500\n",
            "5/5 [==============================] - 0s 13ms/step - loss: 0.3695 - accuracy: 0.8953 - val_loss: 0.0059 - val_accuracy: 1.0000\n",
            "Epoch 105/500\n",
            "5/5 [==============================] - 0s 10ms/step - loss: 0.3871 - accuracy: 0.8837 - val_loss: 0.0060 - val_accuracy: 1.0000\n",
            "Epoch 106/500\n",
            "5/5 [==============================] - 0s 8ms/step - loss: 0.4254 - accuracy: 0.8140 - val_loss: 0.0056 - val_accuracy: 1.0000\n",
            "Epoch 107/500\n",
            "5/5 [==============================] - 0s 7ms/step - loss: 0.3869 - accuracy: 0.8372 - val_loss: 0.0056 - val_accuracy: 1.0000\n",
            "Epoch 108/500\n",
            "5/5 [==============================] - 0s 8ms/step - loss: 0.3811 - accuracy: 0.8837 - val_loss: 0.0053 - val_accuracy: 1.0000\n",
            "Epoch 109/500\n",
            "5/5 [==============================] - 0s 9ms/step - loss: 0.3800 - accuracy: 0.8721 - val_loss: 0.0049 - val_accuracy: 1.0000\n",
            "Epoch 110/500\n",
            "5/5 [==============================] - 0s 8ms/step - loss: 0.3740 - accuracy: 0.8488 - val_loss: 0.0046 - val_accuracy: 1.0000\n",
            "Epoch 111/500\n",
            "5/5 [==============================] - 0s 8ms/step - loss: 0.3540 - accuracy: 0.8488 - val_loss: 0.0044 - val_accuracy: 1.0000\n",
            "Epoch 112/500\n",
            "5/5 [==============================] - 0s 8ms/step - loss: 0.3782 - accuracy: 0.8605 - val_loss: 0.0043 - val_accuracy: 1.0000\n",
            "Epoch 113/500\n",
            "5/5 [==============================] - 0s 8ms/step - loss: 0.3774 - accuracy: 0.8721 - val_loss: 0.0042 - val_accuracy: 1.0000\n",
            "Epoch 114/500\n",
            "5/5 [==============================] - 0s 8ms/step - loss: 0.3409 - accuracy: 0.8837 - val_loss: 0.0042 - val_accuracy: 1.0000\n",
            "Epoch 115/500\n",
            "5/5 [==============================] - 0s 9ms/step - loss: 0.3911 - accuracy: 0.8721 - val_loss: 0.0043 - val_accuracy: 1.0000\n",
            "Epoch 116/500\n",
            "5/5 [==============================] - 0s 8ms/step - loss: 0.3783 - accuracy: 0.8605 - val_loss: 0.0044 - val_accuracy: 1.0000\n",
            "Epoch 117/500\n",
            "5/5 [==============================] - 0s 9ms/step - loss: 0.3438 - accuracy: 0.8953 - val_loss: 0.0041 - val_accuracy: 1.0000\n",
            "Epoch 118/500\n",
            "5/5 [==============================] - 0s 8ms/step - loss: 0.3663 - accuracy: 0.8721 - val_loss: 0.0038 - val_accuracy: 1.0000\n",
            "Epoch 119/500\n",
            "5/5 [==============================] - 0s 8ms/step - loss: 0.3773 - accuracy: 0.8837 - val_loss: 0.0038 - val_accuracy: 1.0000\n",
            "Epoch 120/500\n",
            "5/5 [==============================] - 0s 8ms/step - loss: 0.3460 - accuracy: 0.8605 - val_loss: 0.0038 - val_accuracy: 1.0000\n",
            "Epoch 121/500\n",
            "5/5 [==============================] - 0s 8ms/step - loss: 0.3444 - accuracy: 0.8837 - val_loss: 0.0037 - val_accuracy: 1.0000\n",
            "Epoch 122/500\n",
            "5/5 [==============================] - 0s 8ms/step - loss: 0.3763 - accuracy: 0.8953 - val_loss: 0.0036 - val_accuracy: 1.0000\n",
            "Epoch 123/500\n",
            "5/5 [==============================] - 0s 8ms/step - loss: 0.3554 - accuracy: 0.8837 - val_loss: 0.0033 - val_accuracy: 1.0000\n",
            "Epoch 124/500\n",
            "5/5 [==============================] - 0s 9ms/step - loss: 0.3477 - accuracy: 0.8837 - val_loss: 0.0031 - val_accuracy: 1.0000\n",
            "Epoch 125/500\n",
            "5/5 [==============================] - 0s 8ms/step - loss: 0.3542 - accuracy: 0.8837 - val_loss: 0.0030 - val_accuracy: 1.0000\n",
            "Epoch 126/500\n",
            "5/5 [==============================] - 0s 8ms/step - loss: 0.3455 - accuracy: 0.8837 - val_loss: 0.0031 - val_accuracy: 1.0000\n",
            "Epoch 127/500\n",
            "5/5 [==============================] - 0s 9ms/step - loss: 0.3528 - accuracy: 0.8721 - val_loss: 0.0032 - val_accuracy: 1.0000\n",
            "Epoch 128/500\n",
            "5/5 [==============================] - 0s 10ms/step - loss: 0.3608 - accuracy: 0.8837 - val_loss: 0.0033 - val_accuracy: 1.0000\n",
            "Epoch 129/500\n",
            "5/5 [==============================] - 0s 8ms/step - loss: 0.3808 - accuracy: 0.8256 - val_loss: 0.0032 - val_accuracy: 1.0000\n",
            "Epoch 130/500\n",
            "5/5 [==============================] - 0s 8ms/step - loss: 0.3072 - accuracy: 0.9070 - val_loss: 0.0033 - val_accuracy: 1.0000\n"
          ]
        },
        {
          "data": {
            "text/plain": [
              "<keras.callbacks.History at 0x7f58b02bea50>"
            ]
          },
          "execution_count": 48,
          "metadata": {},
          "output_type": "execute_result"
        }
      ],
      "source": [
        "model.fit(X_train,y_train,validation_data=(X_test,y_test),batch_size=20,epochs=500,verbose=1, callbacks=[callbacks])"
      ]
    },
    {
      "cell_type": "code",
      "execution_count": 49,
      "metadata": {
        "id": "tPUBCM5aInBD"
      },
      "outputs": [],
      "source": [
        "peternak = [25000000, 1, 1, 1, 1, 1, 1, 1, 1000, 0, 0, 0, 0, 0, 0, 0]\n",
        "toserba = [10000000, 1, 1, 1, 1, 0, 1, 0, 0, 0, 0, 0, 0, 1, 1, 0]\n",
        "kuliner = [25000000, 1, 2, 0, 1, 0, 1, 0, 0, 1, 0, 0, 0, 0, 0, 0]"
      ]
    },
    {
      "cell_type": "code",
      "execution_count": 50,
      "metadata": {
        "colab": {
          "base_uri": "https://localhost:8080/"
        },
        "id": "7Jn3cV95Im3F",
        "outputId": "4904db3f-c99a-48d6-8e38-e754d298ac67"
      },
      "outputs": [
        {
          "name": "stdout",
          "output_type": "stream",
          "text": [
            "[0]\n",
            "top 3 prediksi adalah : [0 5 1]\n",
            "keseluruhan prediksi adalah : [0 5 1 6 4 7 2 3]\n",
            "prediksi paling mendekati adalah : [0]\n",
            "prediksi paling tidak mendekati adalah : 3\n",
            "label top 3 prediksi adalah : Perternakan, Elektronik, Toserba/Toko Kelontong\n"
          ]
        }
      ],
      "source": [
        "fitur_normalized = normalize([peternak], axis = 0)\n",
        "prediction = model.predict([fitur_normalized])\n",
        "\n",
        "clas = np.argmax(prediction, axis = 1)\n",
        "clas1 = np.argsort(clas)\n",
        "print(clas)\n",
        "indextion = np.argsort((-prediction), axis = 1)[0,:3]\n",
        "top1, top2, top3 = indextion\n",
        "indextion0 = np.argsort((-prediction), axis = 1)[0]\n",
        "indextion1 = np.argmax(prediction, axis = 1)\n",
        "indextion2 = np.argmin(prediction)\n",
        "print(f\"top 3 prediksi adalah : {indextion}\")\n",
        "print(f\"keseluruhan prediksi adalah : {indextion0}\")\n",
        "print(f\"prediksi paling mendekati adalah : {indextion1}\")\n",
        "print(f\"prediksi paling tidak mendekati adalah : {indextion2}\")\n",
        "print(f\"label top 3 prediksi adalah : {classes[top1]}, {classes[top2]}, {classes[top3]}\")"
      ]
    },
    {
      "cell_type": "code",
      "execution_count": 51,
      "metadata": {
        "colab": {
          "base_uri": "https://localhost:8080/"
        },
        "id": "vOkFxbR8JPq5",
        "outputId": "0df8dcb9-95b6-453c-c2a8-e808892639b4"
      },
      "outputs": [
        {
          "name": "stdout",
          "output_type": "stream",
          "text": [
            "[1]\n",
            "top 3 prediksi adalah : [1 6 0]\n",
            "keseluruhan prediksi adalah : [1 6 0 2 7 5 3 4]\n",
            "prediksi paling mendekati adalah : [1]\n",
            "prediksi paling tidak mendekati adalah : 4\n",
            "label top 3 prediksi adalah : Toserba/Toko Kelontong, Pakaian, Perternakan\n"
          ]
        }
      ],
      "source": [
        "fitur_normalized = normalize([toserba], axis = 0)\n",
        "prediction = model.predict([fitur_normalized])\n",
        "\n",
        "clas = np.argmax(prediction, axis = 1)\n",
        "clas1 = np.argsort(clas)\n",
        "print(clas)\n",
        "indextion = np.argsort((-prediction), axis = 1)[0,:3]\n",
        "top1, top2, top3 = indextion\n",
        "indextion0 = np.argsort((-prediction), axis = 1)[0]\n",
        "indextion1 = np.argmax(prediction, axis = 1)\n",
        "indextion2 = np.argmin(prediction)\n",
        "print(f\"top 3 prediksi adalah : {indextion}\")\n",
        "print(f\"keseluruhan prediksi adalah : {indextion0}\")\n",
        "print(f\"prediksi paling mendekati adalah : {indextion1}\")\n",
        "print(f\"prediksi paling tidak mendekati adalah : {indextion2}\")\n",
        "print(f\"label top 3 prediksi adalah : {classes[top1]}, {classes[top2]}, {classes[top3]}\")"
      ]
    },
    {
      "cell_type": "code",
      "execution_count": 52,
      "metadata": {
        "colab": {
          "base_uri": "https://localhost:8080/"
        },
        "id": "u6Hz8vVTJGoy",
        "outputId": "b846f6de-68bd-4a06-9d07-045d16fe6e21"
      },
      "outputs": [
        {
          "name": "stdout",
          "output_type": "stream",
          "text": [
            "[2]\n",
            "top 3 prediksi adalah : [2 1 6]\n",
            "keseluruhan prediksi adalah : [2 1 6 7 0 5 3 4]\n",
            "prediksi paling mendekati adalah : [2]\n",
            "prediksi paling tidak mendekati adalah : 4\n",
            "label top 3 prediksi adalah : Kuliner, Toserba/Toko Kelontong, Pakaian\n"
          ]
        }
      ],
      "source": [
        "fitur_normalized = normalize([kuliner], axis = 0)\n",
        "prediction = model.predict([fitur_normalized])\n",
        "\n",
        "clas = np.argmax(prediction, axis = 1)\n",
        "clas1 = np.argsort(clas)\n",
        "print(clas)\n",
        "indextion = np.argsort((-prediction), axis = 1)[0,:3]\n",
        "top1, top2, top3 = indextion\n",
        "indextion0 = np.argsort((-prediction), axis = 1)[0]\n",
        "indextion1 = np.argmax(prediction, axis = 1)\n",
        "indextion2 = np.argmin(prediction)\n",
        "print(f\"top 3 prediksi adalah : {indextion}\")\n",
        "print(f\"keseluruhan prediksi adalah : {indextion0}\")\n",
        "print(f\"prediksi paling mendekati adalah : {indextion1}\")\n",
        "print(f\"prediksi paling tidak mendekati adalah : {indextion2}\")\n",
        "print(f\"label top 3 prediksi adalah : {classes[top1]}, {classes[top2]}, {classes[top3]}\")"
      ]
    },
    {
      "cell_type": "code",
      "execution_count": 53,
      "metadata": {
        "id": "tUhHf186W8Xr"
      },
      "outputs": [],
      "source": [
        "model.save(\"/content/model.h5\")"
      ]
    },
    {
      "cell_type": "code",
      "execution_count": 54,
      "metadata": {
        "id": "4A9EklibXB9U"
      },
      "outputs": [],
      "source": [
        "new_model = tf.keras.models.load_model('/content/model.h5')"
      ]
    },
    {
      "cell_type": "code",
      "execution_count": 55,
      "metadata": {
        "colab": {
          "base_uri": "https://localhost:8080/"
        },
        "id": "wulk1zROXDOl",
        "outputId": "96be05f3-8351-4012-c366-27ee2f7afbc4"
      },
      "outputs": [
        {
          "data": {
            "text/plain": [
              "array([2])"
            ]
          },
          "execution_count": 55,
          "metadata": {},
          "output_type": "execute_result"
        }
      ],
      "source": [
        "fitur_normalized = normalize([kuliner], axis = 0)\n",
        "pred = new_model.predict([fitur_normalized])\n",
        "np.argmax(pred, axis=1)"
      ]
    },
    {
      "cell_type": "code",
      "execution_count": 56,
      "metadata": {
        "colab": {
          "base_uri": "https://localhost:8080/"
        },
        "id": "PXxraAjaXkwI",
        "outputId": "f441a950-f01d-4258-8df3-aa2ff6d69372"
      },
      "outputs": [
        {
          "data": {
            "text/plain": [
              "array([0])"
            ]
          },
          "execution_count": 56,
          "metadata": {},
          "output_type": "execute_result"
        }
      ],
      "source": [
        "fitur_normalized = normalize([peternak], axis = 0)\n",
        "pred = new_model.predict([fitur_normalized])\n",
        "np.argmax(pred, axis=1)"
      ]
    },
    {
      "cell_type": "code",
      "execution_count": 57,
      "metadata": {
        "colab": {
          "base_uri": "https://localhost:8080/"
        },
        "id": "RcgrKC6MXK9t",
        "outputId": "29b2ce22-a0c9-4ade-bfce-00cc3eb78108"
      },
      "outputs": [
        {
          "name": "stdout",
          "output_type": "stream",
          "text": [
            "2/2 [==============================] - 0s 7ms/step - loss: 0.0033 - accuracy: 1.0000\n"
          ]
        },
        {
          "data": {
            "text/plain": [
              "[0.003302990924566984, 1.0]"
            ]
          },
          "execution_count": 57,
          "metadata": {},
          "output_type": "execute_result"
        }
      ],
      "source": [
        "new_model.evaluate(X_test, y_test)"
      ]
    },
    {
      "cell_type": "code",
      "execution_count": 58,
      "metadata": {
        "colab": {
          "base_uri": "https://localhost:8080/"
        },
        "id": "84NSRHomvWLu",
        "outputId": "a2f0a4c8-6026-460f-f412-6548cf281d09"
      },
      "outputs": [
        {
          "name": "stdout",
          "output_type": "stream",
          "text": [
            "INFO:tensorflow:Assets written to: /tmp/tmppamdxvhe/assets\n"
          ]
        },
        {
          "name": "stderr",
          "output_type": "stream",
          "text": [
            "INFO:tensorflow:Assets written to: /tmp/tmppamdxvhe/assets\n",
            "WARNING:absl:Buffer deduplication procedure will be skipped when flatbuffer library is not properly loaded\n"
          ]
        }
      ],
      "source": [
        "# Convert the model.\n",
        "converter = tf.lite.TFLiteConverter.from_keras_model(model)\n",
        "tflite_model = converter.convert()\n",
        "\n",
        "# Save the model.\n",
        "with open('model_busaha.tflite', 'wb') as f:\n",
        "  f.write(tflite_model)"
      ]
    }
  ],
  "metadata": {
    "colab": {
      "collapsed_sections": [],
      "name": "Neural Network(Fixed).ipynb",
      "provenance": []
    },
    "kernelspec": {
      "display_name": "Python 3",
      "name": "python3"
    },
    "language_info": {
      "name": "python"
    }
  },
  "nbformat": 4,
  "nbformat_minor": 0
}
