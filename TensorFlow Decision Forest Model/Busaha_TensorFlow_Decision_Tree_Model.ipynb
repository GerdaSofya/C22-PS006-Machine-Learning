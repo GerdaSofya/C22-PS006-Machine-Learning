{
  "nbformat": 4,
  "nbformat_minor": 0,
  "metadata": {
    "colab": {
      "name": "Busaha-TensorFlow Decision Tree Model.ipynb",
      "provenance": [],
      "collapsed_sections": []
    },
    "kernelspec": {
      "name": "python3",
      "display_name": "Python 3"
    },
    "language_info": {
      "name": "python"
    }
  },
  "cells": [
    {
      "cell_type": "markdown",
      "source": [
        "INSTALL TENSORFLOW-DECISION FOREST"
      ],
      "metadata": {
        "id": "0ijilZEumbif"
      }
    },
    {
      "cell_type": "code",
      "execution_count": 1,
      "metadata": {
        "colab": {
          "base_uri": "https://localhost:8080/"
        },
        "id": "9RqV4ITdG8gT",
        "outputId": "61df2f4c-87b1-4a06-bd80-ec00c9f9cac9"
      },
      "outputs": [
        {
          "output_type": "stream",
          "name": "stdout",
          "text": [
            "\u001b[K     |████████████████████████████████| 15.8 MB 5.3 MB/s \n",
            "\u001b[K     |████████████████████████████████| 511.7 MB 4.7 kB/s \n",
            "\u001b[K     |████████████████████████████████| 438 kB 59.2 MB/s \n",
            "\u001b[K     |████████████████████████████████| 5.8 MB 46.4 MB/s \n",
            "\u001b[K     |████████████████████████████████| 1.6 MB 70.3 MB/s \n",
            "\u001b[?25h"
          ]
        }
      ],
      "source": [
        "!pip install tensorflow_decision_forests -q\n",
        "!pip install wurlitzer -q"
      ]
    },
    {
      "cell_type": "markdown",
      "source": [
        "IMPORT LIBRARIES NEEDED"
      ],
      "metadata": {
        "id": "2CEGZ6hrmlqu"
      }
    },
    {
      "cell_type": "code",
      "source": [
        "import tensorflow_decision_forests as tfdf\n",
        "\n",
        "import os\n",
        "import numpy as np\n",
        "import pandas as pd\n",
        "import tensorflow as tf\n",
        "import math\n",
        "\n",
        "try:\n",
        "  from wurlitzer import sys_pipes\n",
        "except:\n",
        "  from colabtools.googlelog import CaptureLog as sys_pipes\n",
        "\n",
        "from IPython.core.magic import register_line_magic\n",
        "from IPython.display import Javascript"
      ],
      "metadata": {
        "id": "zp-su_YJHPK0"
      },
      "execution_count": 2,
      "outputs": []
    },
    {
      "cell_type": "markdown",
      "source": [
        "DOWNLOAD DATASET"
      ],
      "metadata": {
        "id": "cDvp8LG_mip3"
      }
    },
    {
      "cell_type": "code",
      "source": [
        "!gdown 1dz0_0AsxbyNTJUQGWX0ZjTLcPZMfEYS7\n",
        "df = pd.read_csv('/content/Busaha_Dataset.csv')\n",
        "df.head()"
      ],
      "metadata": {
        "colab": {
          "base_uri": "https://localhost:8080/",
          "height": 473
        },
        "id": "E3sh-mk5ZmSQ",
        "outputId": "a25438a4-b1f7-43ef-b6f6-28f0a7bd1c2c"
      },
      "execution_count": 3,
      "outputs": [
        {
          "output_type": "stream",
          "name": "stdout",
          "text": [
            "Downloading...\n",
            "From: https://drive.google.com/uc?id=1dz0_0AsxbyNTJUQGWX0ZjTLcPZMfEYS7\n",
            "To: /content/Busaha_Dataset.csv\n",
            "\r  0% 0.00/45.0k [00:00<?, ?B/s]\r100% 45.0k/45.0k [00:00<00:00, 41.3MB/s]\n"
          ]
        },
        {
          "output_type": "execute_result",
          "data": {
            "text/plain": [
              "   Unnamed: 0             jenis_usaha        Modal  modal_minimum  \\\n",
              "0           0            Transportasi       > 25jt     25000000.0   \n",
              "1           1             Perternakan    10 - 25jt     10000000.0   \n",
              "2           2  Toserba/Toko Kelontong  1jt - 10 jt      1000000.0   \n",
              "3           3                 Kuliner  1jt - 10 jt      1000000.0   \n",
              "4           4             Dropshipper  1jt - 10 jt      1000000.0   \n",
              "\n",
              "   modal_maximum tingkat_persaingan  tingkat_persaingan_idx  \\\n",
              "0    100000000.0             Sedang                       1   \n",
              "1     25000000.0             Sedang                       1   \n",
              "2     10000000.0             Sedang                       1   \n",
              "3     10000000.0             Sedang                       1   \n",
              "4     10000000.0             Rendah                       0   \n",
              "\n",
              "           jumlah_pegawai  pegawai_minimum       omset  ...  sosial_media  \\\n",
              "0               2-4 orang                2   > 50 Juta  ...       no_info   \n",
              "1  1 orang (Anda sendiri)                1  10-50 Juta  ...       no_info   \n",
              "2  1 orang (Anda sendiri)                1   < 10 Juta  ...       no_info   \n",
              "3  1 orang (Anda sendiri)                1   < 10 Juta  ...       no_info   \n",
              "4  1 orang (Anda sendiri)                1   < 10 Juta  ...            WA   \n",
              "\n",
              "  sosial_media_idx  barang_toserba  toko_toserba  toko_toserba_idx tipe_toko  \\\n",
              "0                0         no_info       no_info                 0   no_info   \n",
              "1                0         no_info       no_info                 0   no_info   \n",
              "2                0         Sembako          True                 1      Ruko   \n",
              "3                0         no_info       no_info                 0   no_info   \n",
              "4                1         no_info       no_info                 0   no_info   \n",
              "\n",
              "   tipe_toko_idx           usaha_lain tipe_usaha_lain  tipe_usaha_lain_idx  \n",
              "0              0  jasa sewa kendaraan              EX                    1  \n",
              "1              0              no_info         no_info                    0  \n",
              "2              1              no_info         no_info                    0  \n",
              "3              0              no_info         no_info                    0  \n",
              "4              0              no_info         no_info                    0  \n",
              "\n",
              "[5 rows x 46 columns]"
            ],
            "text/html": [
              "\n",
              "  <div id=\"df-9e75f91e-f8db-414d-9fa3-d5f076e15e60\">\n",
              "    <div class=\"colab-df-container\">\n",
              "      <div>\n",
              "<style scoped>\n",
              "    .dataframe tbody tr th:only-of-type {\n",
              "        vertical-align: middle;\n",
              "    }\n",
              "\n",
              "    .dataframe tbody tr th {\n",
              "        vertical-align: top;\n",
              "    }\n",
              "\n",
              "    .dataframe thead th {\n",
              "        text-align: right;\n",
              "    }\n",
              "</style>\n",
              "<table border=\"1\" class=\"dataframe\">\n",
              "  <thead>\n",
              "    <tr style=\"text-align: right;\">\n",
              "      <th></th>\n",
              "      <th>Unnamed: 0</th>\n",
              "      <th>jenis_usaha</th>\n",
              "      <th>Modal</th>\n",
              "      <th>modal_minimum</th>\n",
              "      <th>modal_maximum</th>\n",
              "      <th>tingkat_persaingan</th>\n",
              "      <th>tingkat_persaingan_idx</th>\n",
              "      <th>jumlah_pegawai</th>\n",
              "      <th>pegawai_minimum</th>\n",
              "      <th>omset</th>\n",
              "      <th>...</th>\n",
              "      <th>sosial_media</th>\n",
              "      <th>sosial_media_idx</th>\n",
              "      <th>barang_toserba</th>\n",
              "      <th>toko_toserba</th>\n",
              "      <th>toko_toserba_idx</th>\n",
              "      <th>tipe_toko</th>\n",
              "      <th>tipe_toko_idx</th>\n",
              "      <th>usaha_lain</th>\n",
              "      <th>tipe_usaha_lain</th>\n",
              "      <th>tipe_usaha_lain_idx</th>\n",
              "    </tr>\n",
              "  </thead>\n",
              "  <tbody>\n",
              "    <tr>\n",
              "      <th>0</th>\n",
              "      <td>0</td>\n",
              "      <td>Transportasi</td>\n",
              "      <td>&gt; 25jt</td>\n",
              "      <td>25000000.0</td>\n",
              "      <td>100000000.0</td>\n",
              "      <td>Sedang</td>\n",
              "      <td>1</td>\n",
              "      <td>2-4 orang</td>\n",
              "      <td>2</td>\n",
              "      <td>&gt; 50 Juta</td>\n",
              "      <td>...</td>\n",
              "      <td>no_info</td>\n",
              "      <td>0</td>\n",
              "      <td>no_info</td>\n",
              "      <td>no_info</td>\n",
              "      <td>0</td>\n",
              "      <td>no_info</td>\n",
              "      <td>0</td>\n",
              "      <td>jasa sewa kendaraan</td>\n",
              "      <td>EX</td>\n",
              "      <td>1</td>\n",
              "    </tr>\n",
              "    <tr>\n",
              "      <th>1</th>\n",
              "      <td>1</td>\n",
              "      <td>Perternakan</td>\n",
              "      <td>10 - 25jt</td>\n",
              "      <td>10000000.0</td>\n",
              "      <td>25000000.0</td>\n",
              "      <td>Sedang</td>\n",
              "      <td>1</td>\n",
              "      <td>1 orang (Anda sendiri)</td>\n",
              "      <td>1</td>\n",
              "      <td>10-50 Juta</td>\n",
              "      <td>...</td>\n",
              "      <td>no_info</td>\n",
              "      <td>0</td>\n",
              "      <td>no_info</td>\n",
              "      <td>no_info</td>\n",
              "      <td>0</td>\n",
              "      <td>no_info</td>\n",
              "      <td>0</td>\n",
              "      <td>no_info</td>\n",
              "      <td>no_info</td>\n",
              "      <td>0</td>\n",
              "    </tr>\n",
              "    <tr>\n",
              "      <th>2</th>\n",
              "      <td>2</td>\n",
              "      <td>Toserba/Toko Kelontong</td>\n",
              "      <td>1jt - 10 jt</td>\n",
              "      <td>1000000.0</td>\n",
              "      <td>10000000.0</td>\n",
              "      <td>Sedang</td>\n",
              "      <td>1</td>\n",
              "      <td>1 orang (Anda sendiri)</td>\n",
              "      <td>1</td>\n",
              "      <td>&lt; 10 Juta</td>\n",
              "      <td>...</td>\n",
              "      <td>no_info</td>\n",
              "      <td>0</td>\n",
              "      <td>Sembako</td>\n",
              "      <td>True</td>\n",
              "      <td>1</td>\n",
              "      <td>Ruko</td>\n",
              "      <td>1</td>\n",
              "      <td>no_info</td>\n",
              "      <td>no_info</td>\n",
              "      <td>0</td>\n",
              "    </tr>\n",
              "    <tr>\n",
              "      <th>3</th>\n",
              "      <td>3</td>\n",
              "      <td>Kuliner</td>\n",
              "      <td>1jt - 10 jt</td>\n",
              "      <td>1000000.0</td>\n",
              "      <td>10000000.0</td>\n",
              "      <td>Sedang</td>\n",
              "      <td>1</td>\n",
              "      <td>1 orang (Anda sendiri)</td>\n",
              "      <td>1</td>\n",
              "      <td>&lt; 10 Juta</td>\n",
              "      <td>...</td>\n",
              "      <td>no_info</td>\n",
              "      <td>0</td>\n",
              "      <td>no_info</td>\n",
              "      <td>no_info</td>\n",
              "      <td>0</td>\n",
              "      <td>no_info</td>\n",
              "      <td>0</td>\n",
              "      <td>no_info</td>\n",
              "      <td>no_info</td>\n",
              "      <td>0</td>\n",
              "    </tr>\n",
              "    <tr>\n",
              "      <th>4</th>\n",
              "      <td>4</td>\n",
              "      <td>Dropshipper</td>\n",
              "      <td>1jt - 10 jt</td>\n",
              "      <td>1000000.0</td>\n",
              "      <td>10000000.0</td>\n",
              "      <td>Rendah</td>\n",
              "      <td>0</td>\n",
              "      <td>1 orang (Anda sendiri)</td>\n",
              "      <td>1</td>\n",
              "      <td>&lt; 10 Juta</td>\n",
              "      <td>...</td>\n",
              "      <td>WA</td>\n",
              "      <td>1</td>\n",
              "      <td>no_info</td>\n",
              "      <td>no_info</td>\n",
              "      <td>0</td>\n",
              "      <td>no_info</td>\n",
              "      <td>0</td>\n",
              "      <td>no_info</td>\n",
              "      <td>no_info</td>\n",
              "      <td>0</td>\n",
              "    </tr>\n",
              "  </tbody>\n",
              "</table>\n",
              "<p>5 rows × 46 columns</p>\n",
              "</div>\n",
              "      <button class=\"colab-df-convert\" onclick=\"convertToInteractive('df-9e75f91e-f8db-414d-9fa3-d5f076e15e60')\"\n",
              "              title=\"Convert this dataframe to an interactive table.\"\n",
              "              style=\"display:none;\">\n",
              "        \n",
              "  <svg xmlns=\"http://www.w3.org/2000/svg\" height=\"24px\"viewBox=\"0 0 24 24\"\n",
              "       width=\"24px\">\n",
              "    <path d=\"M0 0h24v24H0V0z\" fill=\"none\"/>\n",
              "    <path d=\"M18.56 5.44l.94 2.06.94-2.06 2.06-.94-2.06-.94-.94-2.06-.94 2.06-2.06.94zm-11 1L8.5 8.5l.94-2.06 2.06-.94-2.06-.94L8.5 2.5l-.94 2.06-2.06.94zm10 10l.94 2.06.94-2.06 2.06-.94-2.06-.94-.94-2.06-.94 2.06-2.06.94z\"/><path d=\"M17.41 7.96l-1.37-1.37c-.4-.4-.92-.59-1.43-.59-.52 0-1.04.2-1.43.59L10.3 9.45l-7.72 7.72c-.78.78-.78 2.05 0 2.83L4 21.41c.39.39.9.59 1.41.59.51 0 1.02-.2 1.41-.59l7.78-7.78 2.81-2.81c.8-.78.8-2.07 0-2.86zM5.41 20L4 18.59l7.72-7.72 1.47 1.35L5.41 20z\"/>\n",
              "  </svg>\n",
              "      </button>\n",
              "      \n",
              "  <style>\n",
              "    .colab-df-container {\n",
              "      display:flex;\n",
              "      flex-wrap:wrap;\n",
              "      gap: 12px;\n",
              "    }\n",
              "\n",
              "    .colab-df-convert {\n",
              "      background-color: #E8F0FE;\n",
              "      border: none;\n",
              "      border-radius: 50%;\n",
              "      cursor: pointer;\n",
              "      display: none;\n",
              "      fill: #1967D2;\n",
              "      height: 32px;\n",
              "      padding: 0 0 0 0;\n",
              "      width: 32px;\n",
              "    }\n",
              "\n",
              "    .colab-df-convert:hover {\n",
              "      background-color: #E2EBFA;\n",
              "      box-shadow: 0px 1px 2px rgba(60, 64, 67, 0.3), 0px 1px 3px 1px rgba(60, 64, 67, 0.15);\n",
              "      fill: #174EA6;\n",
              "    }\n",
              "\n",
              "    [theme=dark] .colab-df-convert {\n",
              "      background-color: #3B4455;\n",
              "      fill: #D2E3FC;\n",
              "    }\n",
              "\n",
              "    [theme=dark] .colab-df-convert:hover {\n",
              "      background-color: #434B5C;\n",
              "      box-shadow: 0px 1px 3px 1px rgba(0, 0, 0, 0.15);\n",
              "      filter: drop-shadow(0px 1px 2px rgba(0, 0, 0, 0.3));\n",
              "      fill: #FFFFFF;\n",
              "    }\n",
              "  </style>\n",
              "\n",
              "      <script>\n",
              "        const buttonEl =\n",
              "          document.querySelector('#df-9e75f91e-f8db-414d-9fa3-d5f076e15e60 button.colab-df-convert');\n",
              "        buttonEl.style.display =\n",
              "          google.colab.kernel.accessAllowed ? 'block' : 'none';\n",
              "\n",
              "        async function convertToInteractive(key) {\n",
              "          const element = document.querySelector('#df-9e75f91e-f8db-414d-9fa3-d5f076e15e60');\n",
              "          const dataTable =\n",
              "            await google.colab.kernel.invokeFunction('convertToInteractive',\n",
              "                                                     [key], {});\n",
              "          if (!dataTable) return;\n",
              "\n",
              "          const docLinkHtml = 'Like what you see? Visit the ' +\n",
              "            '<a target=\"_blank\" href=https://colab.research.google.com/notebooks/data_table.ipynb>data table notebook</a>'\n",
              "            + ' to learn more about interactive tables.';\n",
              "          element.innerHTML = '';\n",
              "          dataTable['output_type'] = 'display_data';\n",
              "          await google.colab.output.renderOutput(dataTable, element);\n",
              "          const docLink = document.createElement('div');\n",
              "          docLink.innerHTML = docLinkHtml;\n",
              "          element.appendChild(docLink);\n",
              "        }\n",
              "      </script>\n",
              "    </div>\n",
              "  </div>\n",
              "  "
            ]
          },
          "metadata": {},
          "execution_count": 3
        }
      ]
    },
    {
      "cell_type": "code",
      "source": [
        "print(df.shape, df.info())"
      ],
      "metadata": {
        "colab": {
          "base_uri": "https://localhost:8080/"
        },
        "id": "5v57EJO7Z8pJ",
        "outputId": "0566b420-2702-47f4-c791-156aa2edd9d5"
      },
      "execution_count": 6,
      "outputs": [
        {
          "output_type": "stream",
          "name": "stdout",
          "text": [
            "<class 'pandas.core.frame.DataFrame'>\n",
            "RangeIndex: 133 entries, 0 to 132\n",
            "Data columns (total 46 columns):\n",
            " #   Column                  Non-Null Count  Dtype  \n",
            "---  ------                  --------------  -----  \n",
            " 0   Unnamed: 0              133 non-null    int64  \n",
            " 1   jenis_usaha             133 non-null    object \n",
            " 2   Modal                   133 non-null    object \n",
            " 3   modal_minimum           133 non-null    float64\n",
            " 4   modal_maximum           133 non-null    float64\n",
            " 5   tingkat_persaingan      133 non-null    object \n",
            " 6   tingkat_persaingan_idx  133 non-null    int64  \n",
            " 7   jumlah_pegawai          133 non-null    object \n",
            " 8   pegawai_minimum         133 non-null    int64  \n",
            " 9   omset                   133 non-null    object \n",
            " 10  omset_minimum           133 non-null    float64\n",
            " 11  target_pasar            133 non-null    object \n",
            " 12  tp_b                    133 non-null    int64  \n",
            " 13  tp_m                    133 non-null    int64  \n",
            " 14  tp_a                    133 non-null    int64  \n",
            " 15  lokasi                  133 non-null    object \n",
            " 16  lokasi_idx              133 non-null    int64  \n",
            " 17  hewan_ternak            133 non-null    object \n",
            " 18  hewan_ternak_sub        133 non-null    object \n",
            " 19  hewan_ternak_idx        133 non-null    int64  \n",
            " 20  lokasi_geografis        133 non-null    object \n",
            " 21  lokasi_geografis_idx    133 non-null    int64  \n",
            " 22  mengerti_hewan          133 non-null    object \n",
            " 23  mengerti_hewan_idx      133 non-null    int64  \n",
            " 24  luas_lahan              133 non-null    object \n",
            " 25  lahan_minimum           133 non-null    float64\n",
            " 26  usaha_kuliner           133 non-null    object \n",
            " 27  tipe_usaha_kuliner      133 non-null    object \n",
            " 28  tipe_usaha_kuliner_idx  133 non-null    int64  \n",
            " 29  kemampuan_masak         133 non-null    object \n",
            " 30  kemampuan_masak_idx     133 non-null    int64  \n",
            " 31  barang_dropship         133 non-null    object \n",
            " 32  penyimpanan_barang      133 non-null    object \n",
            " 33  penyimpanan_barang_idx  133 non-null    int64  \n",
            " 34  biaya_internet          133 non-null    object \n",
            " 35  internet_minimum        133 non-null    int64  \n",
            " 36  sosial_media            133 non-null    object \n",
            " 37  sosial_media_idx        133 non-null    int64  \n",
            " 38  barang_toserba          133 non-null    object \n",
            " 39  toko_toserba            133 non-null    object \n",
            " 40  toko_toserba_idx        133 non-null    int64  \n",
            " 41  tipe_toko               133 non-null    object \n",
            " 42  tipe_toko_idx           133 non-null    int64  \n",
            " 43  usaha_lain              133 non-null    object \n",
            " 44  tipe_usaha_lain         133 non-null    object \n",
            " 45  tipe_usaha_lain_idx     133 non-null    int64  \n",
            "dtypes: float64(4), int64(18), object(24)\n",
            "memory usage: 47.9+ KB\n",
            "(133, 46) None\n"
          ]
        }
      ]
    },
    {
      "cell_type": "markdown",
      "source": [
        "DROP UNNECESSARY COLUMNS"
      ],
      "metadata": {
        "id": "ihBBlhjwm4Ze"
      }
    },
    {
      "cell_type": "code",
      "source": [
        "df = df.drop(columns=['Unnamed: 0','Modal','tingkat_persaingan','jumlah_pegawai','omset',\n",
        "                      'target_pasar','lokasi','hewan_ternak','hewan_ternak_sub','lokasi_geografis',\n",
        "                      'mengerti_hewan','luas_lahan','usaha_kuliner','tipe_usaha_kuliner','kemampuan_masak',\n",
        "                      'barang_dropship','penyimpanan_barang','biaya_internet','sosial_media','barang_toserba',\n",
        "                      'toko_toserba','tipe_toko','usaha_lain','tipe_usaha_lain'])"
      ],
      "metadata": {
        "id": "_C5xAGB6MpcU"
      },
      "execution_count": 7,
      "outputs": []
    },
    {
      "cell_type": "markdown",
      "source": [
        "LABELING AND MAPPING CLASSES"
      ],
      "metadata": {
        "id": "RrNP1tzynBfu"
      }
    },
    {
      "cell_type": "code",
      "source": [
        "label = \"jenis_usaha\"\n",
        "\n",
        "classes = df[label].unique().tolist()\n",
        "print(f\"Label classes: {classes}\")\n",
        "\n",
        "df[label] = df[label].map(classes.index)"
      ],
      "metadata": {
        "colab": {
          "base_uri": "https://localhost:8080/"
        },
        "id": "kl0p3dO0N1Pb",
        "outputId": "7a0160a8-6ac2-4f34-ebbb-13c1142dce11"
      },
      "execution_count": 8,
      "outputs": [
        {
          "output_type": "stream",
          "name": "stdout",
          "text": [
            "Label classes: ['Transportasi', 'Perternakan', 'Toserba/Toko Kelontong', 'Kuliner', 'Dropshipper', 'Barang Digital', 'Elektronik', 'Jasa Mengajar', 'Pakaian', 'Koleksi', 'Jasa Isi Ulang Air Minum', 'Perseroan Komanditer', 'Alat kesehatan', 'Toko Buah', 'Alat Kecantikan', 'Kosmetik', 'Penggilingan', 'Fotocopy']\n"
          ]
        }
      ]
    },
    {
      "cell_type": "markdown",
      "source": [
        "SPLIT THE DATASET INTO TRAINING AND TESTING"
      ],
      "metadata": {
        "id": "gAq58u4NnHUc"
      }
    },
    {
      "cell_type": "code",
      "source": [
        "training_data = df.sample(frac=0.8, random_state=25)\n",
        "testing_data = df.drop(training_data.index)\n",
        "\n",
        "print(f\"No. of training examples: {training_data.shape[0]}\")\n",
        "print(f\"No. of testing examples: {testing_data.shape[0]}\")"
      ],
      "metadata": {
        "colab": {
          "base_uri": "https://localhost:8080/"
        },
        "id": "azfCjEa0N9_d",
        "outputId": "6aacd558-8191-4d97-f04b-f156d114309f"
      },
      "execution_count": 10,
      "outputs": [
        {
          "output_type": "stream",
          "name": "stdout",
          "text": [
            "No. of training examples: 106\n",
            "No. of testing examples: 27\n"
          ]
        }
      ]
    },
    {
      "cell_type": "markdown",
      "source": [
        "CONVERT INTO TENSORFLOW DATASET"
      ],
      "metadata": {
        "id": "JF5sgBRrnRJF"
      }
    },
    {
      "cell_type": "code",
      "source": [
        "train_ds = tfdf.keras.pd_dataframe_to_tf_dataset(training_data, label=label)\n",
        "test_ds = tfdf.keras.pd_dataframe_to_tf_dataset(testing_data, label=label)"
      ],
      "metadata": {
        "colab": {
          "base_uri": "https://localhost:8080/"
        },
        "id": "NzFN7OG2Q2AV",
        "outputId": "c2c2dac8-bb62-4c8a-d758-d31ef9ffaf49"
      },
      "execution_count": 11,
      "outputs": [
        {
          "output_type": "stream",
          "name": "stderr",
          "text": [
            "/usr/local/lib/python3.7/dist-packages/tensorflow_decision_forests/keras/core.py:2542: FutureWarning: In a future version of pandas all arguments of DataFrame.drop except for the argument 'labels' will be keyword-only\n",
            "  features_dataframe = dataframe.drop(label, 1)\n"
          ]
        }
      ]
    },
    {
      "cell_type": "markdown",
      "source": [
        "TRAINING THE RANDOMFOREST MODEL WITH GRADIENTBOOSTEDTREESMODEL"
      ],
      "metadata": {
        "id": "1WFtD5ntnYOO"
      }
    },
    {
      "cell_type": "code",
      "source": [
        "model = tfdf.keras.GradientBoostedTreesModel(num_trees=1000)\n",
        "   \n",
        "model.compile(metrics=[\"accuracy\"])\n",
        "\n",
        "model.fit(x=train_ds, validation_data=test_ds)\n",
        "\n",
        "evaluation = model.evaluate(test_ds, return_dict=True)\n",
        "print(evaluation)\n",
        "\n",
        "for name, value in evaluation.items():\n",
        "  print(f\"{name}: {value:.4f}\")"
      ],
      "metadata": {
        "colab": {
          "base_uri": "https://localhost:8080/"
        },
        "id": "TX1jMK3ZRANt",
        "outputId": "7f9ee934-2880-402f-e15c-710a2e389555"
      },
      "execution_count": 12,
      "outputs": [
        {
          "output_type": "stream",
          "name": "stdout",
          "text": [
            "Use /tmp/tmpznml7e1a as temporary training directory\n",
            "Reading training dataset...\n",
            "Training dataset read in 0:00:05.203804. Found 106 examples.\n",
            "Reading validation dataset...\n",
            "Num validation examples: tf.Tensor(27, shape=(), dtype=int32)\n",
            "Validation dataset read in 0:00:00.435006. Found 27 examples.\n",
            "Training model...\n",
            "Model trained in 0:00:02.052593\n",
            "Compiling model...\n",
            "WARNING:tensorflow:AutoGraph could not transform <function simple_ml_inference_op_with_handle at 0x7f9137ec1290> and will run it as-is.\n",
            "Please report this to the TensorFlow team. When filing the bug, set the verbosity to 10 (on Linux, `export AUTOGRAPH_VERBOSITY=10`) and attach the full output.\n",
            "Cause: could not get source code\n",
            "To silence this warning, decorate the function with @tf.autograph.experimental.do_not_convert\n"
          ]
        },
        {
          "output_type": "stream",
          "name": "stderr",
          "text": [
            "WARNING:tensorflow:AutoGraph could not transform <function simple_ml_inference_op_with_handle at 0x7f9137ec1290> and will run it as-is.\n",
            "Please report this to the TensorFlow team. When filing the bug, set the verbosity to 10 (on Linux, `export AUTOGRAPH_VERBOSITY=10`) and attach the full output.\n",
            "Cause: could not get source code\n",
            "To silence this warning, decorate the function with @tf.autograph.experimental.do_not_convert\n"
          ]
        },
        {
          "output_type": "stream",
          "name": "stdout",
          "text": [
            "WARNING: AutoGraph could not transform <function simple_ml_inference_op_with_handle at 0x7f9137ec1290> and will run it as-is.\n",
            "Please report this to the TensorFlow team. When filing the bug, set the verbosity to 10 (on Linux, `export AUTOGRAPH_VERBOSITY=10`) and attach the full output.\n",
            "Cause: could not get source code\n",
            "To silence this warning, decorate the function with @tf.autograph.experimental.do_not_convert\n",
            "Model compiled.\n",
            "1/1 [==============================] - 0s 105ms/step - loss: 0.0000e+00 - accuracy: 0.9259\n",
            "{'loss': 0.0, 'accuracy': 0.9259259104728699}\n",
            "loss: 0.0000\n",
            "accuracy: 0.9259\n"
          ]
        }
      ]
    },
    {
      "cell_type": "markdown",
      "source": [
        "SAVE THE MODEL"
      ],
      "metadata": {
        "id": "e9Kk4z_1n6rG"
      }
    },
    {
      "cell_type": "code",
      "source": [
        "model.save(\"/content/model\")"
      ],
      "metadata": {
        "colab": {
          "base_uri": "https://localhost:8080/"
        },
        "id": "HbUyNtBR5WUG",
        "outputId": "841bf889-e226-4e7b-e41d-7ed42daf3637"
      },
      "execution_count": 13,
      "outputs": [
        {
          "output_type": "stream",
          "name": "stderr",
          "text": [
            "WARNING:absl:Found untraced functions such as call_get_leaves while saving (showing 1 of 1). These functions will not be directly callable after loading.\n"
          ]
        },
        {
          "output_type": "stream",
          "name": "stdout",
          "text": [
            "INFO:tensorflow:Assets written to: /content/model/assets\n"
          ]
        },
        {
          "output_type": "stream",
          "name": "stderr",
          "text": [
            "INFO:tensorflow:Assets written to: /content/model/assets\n"
          ]
        }
      ]
    },
    {
      "cell_type": "markdown",
      "source": [
        "LOAD MODEL"
      ],
      "metadata": {
        "id": "Qz13aXJMn-Pl"
      }
    },
    {
      "cell_type": "code",
      "source": [
        "new_model = tf.keras.models.load_model('/content/model')"
      ],
      "metadata": {
        "id": "zsAAr87i5f23"
      },
      "execution_count": 16,
      "outputs": []
    },
    {
      "cell_type": "code",
      "source": [
        "tfdf.model_plotter.plot_model_in_colab(new_model, tree_idx=0, max_depth=3)"
      ],
      "metadata": {
        "colab": {
          "base_uri": "https://localhost:8080/",
          "height": 206
        },
        "id": "OhcTeohO4Hqm",
        "outputId": "59429fd6-1056-4193-a318-7541b0f6e103"
      },
      "execution_count": 23,
      "outputs": [
        {
          "output_type": "execute_result",
          "data": {
            "text/plain": [
              "<IPython.core.display.HTML object>"
            ],
            "text/html": [
              "\n",
              "<script src=\"https://d3js.org/d3.v6.min.js\"></script>\n",
              "<div id=\"tree_plot_341dcbe192cc44fc983f17d1e9b9c320\"></div>\n",
              "<script>\n",
              "/*\n",
              " * Copyright 2021 Google LLC.\n",
              " * Licensed under the Apache License, Version 2.0 (the \"License\");\n",
              " * you may not use this file except in compliance with the License.\n",
              " * You may obtain a copy of the License at\n",
              " *\n",
              " *     https://www.apache.org/licenses/LICENSE-2.0\n",
              " *\n",
              " * Unless required by applicable law or agreed to in writing, software\n",
              " * distributed under the License is distributed on an \"AS IS\" BASIS,\n",
              " * WITHOUT WARRANTIES OR CONDITIONS OF ANY KIND, either express or implied.\n",
              " * See the License for the specific language governing permissions and\n",
              " * limitations under the License.\n",
              " */\n",
              "\n",
              "/**\n",
              " *  Plotting of decision trees generated by TF-DF.\n",
              " *\n",
              " *  A tree is a recursive structure of node objects.\n",
              " *  A node contains one or more of the following components:\n",
              " *\n",
              " *    - A value: Representing the output of the node. If the node is not a leaf,\n",
              " *      the value is only present for analysis i.e. it is not used for\n",
              " *      predictions.\n",
              " *\n",
              " *    - A condition : For non-leaf nodes, the condition (also known as split)\n",
              " *      defines a binary test to branch to the positive or negative child.\n",
              " *\n",
              " *    - An explanation: Generally a plot showing the relation between the label\n",
              " *      and the condition to give insights about the effect of the condition.\n",
              " *\n",
              " *    - Two children : For non-leaf nodes, the children nodes. The first\n",
              " *      children (i.e. \"node.children[0]\") is the negative children (drawn in\n",
              " *      red). The second children is the positive one (drawn in green).\n",
              " *\n",
              " */\n",
              "\n",
              "/**\n",
              " * Plots a single decision tree into a DOM element.\n",
              " * @param {!options} options Dictionary of configurations.\n",
              " * @param {!tree} raw_tree Recursive tree structure.\n",
              " * @param {string} canvas_id Id of the output dom element.\n",
              " */\n",
              "function display_tree(options, raw_tree, canvas_id) {\n",
              "  console.log(options);\n",
              "\n",
              "  // Determine the node placement.\n",
              "  const tree_struct = d3.tree().nodeSize(\n",
              "      [options.node_y_offset, options.node_x_offset])(d3.hierarchy(raw_tree));\n",
              "\n",
              "  // Boundaries of the node placement.\n",
              "  let x_min = Infinity;\n",
              "  let x_max = -x_min;\n",
              "  let y_min = Infinity;\n",
              "  let y_max = -x_min;\n",
              "\n",
              "  tree_struct.each(d => {\n",
              "    if (d.x > x_max) x_max = d.x;\n",
              "    if (d.x < x_min) x_min = d.x;\n",
              "    if (d.y > y_max) y_max = d.y;\n",
              "    if (d.y < y_min) y_min = d.y;\n",
              "  });\n",
              "\n",
              "  // Size of the plot.\n",
              "  const width = y_max - y_min + options.node_x_size + options.margin * 2;\n",
              "  const height = x_max - x_min + options.node_y_size + options.margin * 2 +\n",
              "      options.node_y_offset - options.node_y_size;\n",
              "\n",
              "  const plot = d3.select(canvas_id);\n",
              "\n",
              "  // Tool tip\n",
              "  options.tooltip = plot.append('div')\n",
              "                        .attr('width', 100)\n",
              "                        .attr('height', 100)\n",
              "                        .style('padding', '4px')\n",
              "                        .style('background', '#fff')\n",
              "                        .style('box-shadow', '4px 4px 0px rgba(0,0,0,0.1)')\n",
              "                        .style('border', '1px solid black')\n",
              "                        .style('font-family', 'sans-serif')\n",
              "                        .style('font-size', options.font_size)\n",
              "                        .style('position', 'absolute')\n",
              "                        .style('z-index', '10')\n",
              "                        .attr('pointer-events', 'none')\n",
              "                        .style('display', 'none');\n",
              "\n",
              "  // Create canvas\n",
              "  const svg = plot.append('svg').attr('width', width).attr('height', height);\n",
              "  const graph =\n",
              "      svg.style('overflow', 'visible')\n",
              "          .append('g')\n",
              "          .attr('font-family', 'sans-serif')\n",
              "          .attr('font-size', options.font_size)\n",
              "          .attr(\n",
              "              'transform',\n",
              "              () => `translate(${options.margin},${\n",
              "                  - x_min + options.node_y_offset / 2 + options.margin})`);\n",
              "\n",
              "  // Plot bounding box.\n",
              "  if (options.show_plot_bounding_box) {\n",
              "    svg.append('rect')\n",
              "        .attr('width', width)\n",
              "        .attr('height', height)\n",
              "        .attr('fill', 'none')\n",
              "        .attr('stroke-width', 1.0)\n",
              "        .attr('stroke', 'black');\n",
              "  }\n",
              "\n",
              "  // Draw the edges.\n",
              "  display_edges(options, graph, tree_struct);\n",
              "\n",
              "  // Draw the nodes.\n",
              "  display_nodes(options, graph, tree_struct);\n",
              "}\n",
              "\n",
              "/**\n",
              " * Draw the nodes of the tree.\n",
              " * @param {!options} options Dictionary of configurations.\n",
              " * @param {!graph} graph D3 search handle containing the graph.\n",
              " * @param {!tree_struct} tree_struct Structure of the tree (node placement,\n",
              " *     data, etc.).\n",
              " */\n",
              "function display_nodes(options, graph, tree_struct) {\n",
              "  const nodes = graph.append('g')\n",
              "                    .selectAll('g')\n",
              "                    .data(tree_struct.descendants())\n",
              "                    .join('g')\n",
              "                    .attr('transform', d => `translate(${d.y},${d.x})`);\n",
              "\n",
              "  nodes.append('rect')\n",
              "      .attr('x', 0.5)\n",
              "      .attr('y', 0.5)\n",
              "      .attr('width', options.node_x_size)\n",
              "      .attr('height', options.node_y_size)\n",
              "      .attr('stroke', 'lightgrey')\n",
              "      .attr('stroke-width', 1)\n",
              "      .attr('fill', 'white')\n",
              "      .attr('y', -options.node_y_size / 2);\n",
              "\n",
              "  // Brackets on the right of condition nodes without children.\n",
              "  non_leaf_node_without_children =\n",
              "      nodes.filter(node => node.data.condition != null && node.children == null)\n",
              "          .append('g')\n",
              "          .attr('transform', `translate(${options.node_x_size},0)`);\n",
              "\n",
              "  non_leaf_node_without_children.append('path')\n",
              "      .attr('d', 'M0,0 C 10,0 0,10 10,10')\n",
              "      .attr('fill', 'none')\n",
              "      .attr('stroke-width', 1.0)\n",
              "      .attr('stroke', '#F00');\n",
              "\n",
              "  non_leaf_node_without_children.append('path')\n",
              "      .attr('d', 'M0,0 C 10,0 0,-10 10,-10')\n",
              "      .attr('fill', 'none')\n",
              "      .attr('stroke-width', 1.0)\n",
              "      .attr('stroke', '#0F0');\n",
              "\n",
              "  const node_content = nodes.append('g').attr(\n",
              "      'transform',\n",
              "      `translate(0,${options.node_padding - options.node_y_size / 2})`);\n",
              "\n",
              "  node_content.append(node => create_node_element(options, node));\n",
              "}\n",
              "\n",
              "/**\n",
              " * Creates the D3 content for a single node.\n",
              " * @param {!options} options Dictionary of configurations.\n",
              " * @param {!node} node Node to draw.\n",
              " * @return {!d3} D3 content.\n",
              " */\n",
              "function create_node_element(options, node) {\n",
              "  // Output accumulator.\n",
              "  let output = {\n",
              "    // Content to draw.\n",
              "    content: d3.create('svg:g'),\n",
              "    // Vertical offset to the next element to draw.\n",
              "    vertical_offset: 0\n",
              "  };\n",
              "\n",
              "  // Conditions.\n",
              "  if (node.data.condition != null) {\n",
              "    display_condition(options, node.data.condition, output);\n",
              "  }\n",
              "\n",
              "  // Values.\n",
              "  if (node.data.value != null) {\n",
              "    display_value(options, node.data.value, output);\n",
              "  }\n",
              "\n",
              "  // Explanations.\n",
              "  if (node.data.explanation != null) {\n",
              "    display_explanation(options, node.data.explanation, output);\n",
              "  }\n",
              "\n",
              "  return output.content.node();\n",
              "}\n",
              "\n",
              "\n",
              "/**\n",
              " * Adds a single line of text inside of a node.\n",
              " * @param {!options} options Dictionary of configurations.\n",
              " * @param {string} text Text to display.\n",
              " * @param {!output} output Output display accumulator.\n",
              " */\n",
              "function display_node_text(options, text, output) {\n",
              "  output.content.append('text')\n",
              "      .attr('x', options.node_padding)\n",
              "      .attr('y', output.vertical_offset)\n",
              "      .attr('alignment-baseline', 'hanging')\n",
              "      .text(text);\n",
              "  output.vertical_offset += 10;\n",
              "}\n",
              "\n",
              "/**\n",
              " * Adds a single line of text inside of a node with a tooltip.\n",
              " * @param {!options} options Dictionary of configurations.\n",
              " * @param {string} text Text to display.\n",
              " * @param {string} tooltip Text in the Tooltip.\n",
              " * @param {!output} output Output display accumulator.\n",
              " */\n",
              "function display_node_text_with_tooltip(options, text, tooltip, output) {\n",
              "  const item = output.content.append('text')\n",
              "                   .attr('x', options.node_padding)\n",
              "                   .attr('alignment-baseline', 'hanging')\n",
              "                   .text(text);\n",
              "\n",
              "  add_tooltip(options, item, () => tooltip);\n",
              "  output.vertical_offset += 10;\n",
              "}\n",
              "\n",
              "/**\n",
              " * Adds a tooltip to a dom element.\n",
              " * @param {!options} options Dictionary of configurations.\n",
              " * @param {!dom} target Dom element to equip with a tooltip.\n",
              " * @param {!func} get_content Generates the html content of the tooltip.\n",
              " */\n",
              "function add_tooltip(options, target, get_content) {\n",
              "  function show(d) {\n",
              "    options.tooltip.style('display', 'block');\n",
              "    options.tooltip.html(get_content());\n",
              "  }\n",
              "\n",
              "  function hide(d) {\n",
              "    options.tooltip.style('display', 'none');\n",
              "  }\n",
              "\n",
              "  function move(d) {\n",
              "    options.tooltip.style('display', 'block');\n",
              "    options.tooltip.style('left', (d.pageX + 5) + 'px');\n",
              "    options.tooltip.style('top', d.pageY + 'px');\n",
              "  }\n",
              "\n",
              "  target.on('mouseover', show);\n",
              "  target.on('mouseout', hide);\n",
              "  target.on('mousemove', move);\n",
              "}\n",
              "\n",
              "/**\n",
              " * Adds a condition inside of a node.\n",
              " * @param {!options} options Dictionary of configurations.\n",
              " * @param {!condition} condition Condition to display.\n",
              " * @param {!output} output Output display accumulator.\n",
              " */\n",
              "function display_condition(options, condition, output) {\n",
              "  threshold_format = d3.format('r');\n",
              "\n",
              "  if (condition.type === 'IS_MISSING') {\n",
              "    display_node_text(options, `${condition.attribute} is missing`, output);\n",
              "    return;\n",
              "  }\n",
              "\n",
              "  if (condition.type === 'IS_TRUE') {\n",
              "    display_node_text(options, `${condition.attribute} is true`, output);\n",
              "    return;\n",
              "  }\n",
              "\n",
              "  if (condition.type === 'NUMERICAL_IS_HIGHER_THAN') {\n",
              "    format = d3.format('r');\n",
              "    display_node_text(\n",
              "        options,\n",
              "        `${condition.attribute} >= ${threshold_format(condition.threshold)}`,\n",
              "        output);\n",
              "    return;\n",
              "  }\n",
              "\n",
              "  if (condition.type === 'CATEGORICAL_IS_IN') {\n",
              "    display_node_text_with_tooltip(\n",
              "        options, `${condition.attribute} in [...]`,\n",
              "        `${condition.attribute} in [${condition.mask}]`, output);\n",
              "    return;\n",
              "  }\n",
              "\n",
              "  if (condition.type === 'CATEGORICAL_SET_CONTAINS') {\n",
              "    display_node_text_with_tooltip(\n",
              "        options, `${condition.attribute} intersect [...]`,\n",
              "        `${condition.attribute} intersect [${condition.mask}]`, output);\n",
              "    return;\n",
              "  }\n",
              "\n",
              "  if (condition.type === 'NUMERICAL_SPARSE_OBLIQUE') {\n",
              "    display_node_text_with_tooltip(\n",
              "        options, `Sparse oblique split...`,\n",
              "        `[${condition.attributes}]*[${condition.weights}]>=${\n",
              "            threshold_format(condition.threshold)}`,\n",
              "        output);\n",
              "    return;\n",
              "  }\n",
              "\n",
              "  display_node_text(\n",
              "      options, `Non supported condition ${condition.type}`, output);\n",
              "}\n",
              "\n",
              "/**\n",
              " * Adds a value inside of a node.\n",
              " * @param {!options} options Dictionary of configurations.\n",
              " * @param {!value} value Value to display.\n",
              " * @param {!output} output Output display accumulator.\n",
              " */\n",
              "function display_value(options, value, output) {\n",
              "  if (value.type === 'PROBABILITY') {\n",
              "    const left_margin = 0;\n",
              "    const right_margin = 50;\n",
              "    const plot_width = options.node_x_size - options.node_padding * 2 -\n",
              "        left_margin - right_margin;\n",
              "\n",
              "    let cusum = Array.from(d3.cumsum(value.distribution));\n",
              "    cusum.unshift(0);\n",
              "    const distribution_plot = output.content.append('g').attr(\n",
              "        'transform', `translate(0,${output.vertical_offset + 0.5})`);\n",
              "\n",
              "    distribution_plot.selectAll('rect')\n",
              "        .data(value.distribution)\n",
              "        .join('rect')\n",
              "        .attr('height', 10)\n",
              "        .attr(\n",
              "            'x',\n",
              "            (d, i) =>\n",
              "                (cusum[i] * plot_width + left_margin + options.node_padding))\n",
              "        .attr('width', (d, i) => d * plot_width)\n",
              "        .style('fill', (d, i) => d3.schemeSet1[i]);\n",
              "\n",
              "    const num_examples =\n",
              "        output.content.append('g')\n",
              "            .attr('transform', `translate(0,${output.vertical_offset})`)\n",
              "            .append('text')\n",
              "            .attr('x', options.node_x_size - options.node_padding)\n",
              "            .attr('alignment-baseline', 'hanging')\n",
              "            .attr('text-anchor', 'end')\n",
              "            .text(`(${value.num_examples})`);\n",
              "\n",
              "    const distribution_details = d3.create('ul');\n",
              "    distribution_details.selectAll('li')\n",
              "        .data(value.distribution)\n",
              "        .join('li')\n",
              "        .append('span')\n",
              "        .text(\n",
              "            (d, i) =>\n",
              "                'class ' + i + ': ' + d3.format('.3%')(value.distribution[i]));\n",
              "\n",
              "    add_tooltip(options, distribution_plot, () => distribution_details.html());\n",
              "    add_tooltip(options, num_examples, () => 'Number of examples');\n",
              "\n",
              "    output.vertical_offset += 10;\n",
              "    return;\n",
              "  }\n",
              "\n",
              "  if (value.type === 'REGRESSION') {\n",
              "    display_node_text(\n",
              "        options,\n",
              "        'value: ' + d3.format('r')(value.value) + ` (` +\n",
              "            d3.format('.6')(value.num_examples) + `)`,\n",
              "        output);\n",
              "    return;\n",
              "  }\n",
              "\n",
              "  display_node_text(options, `Non supported value ${value.type}`, output);\n",
              "}\n",
              "\n",
              "/**\n",
              " * Adds an explanation inside of a node.\n",
              " * @param {!options} options Dictionary of configurations.\n",
              " * @param {!explanation} explanation Explanation to display.\n",
              " * @param {!output} output Output display accumulator.\n",
              " */\n",
              "function display_explanation(options, explanation, output) {\n",
              "  // Margin before the explanation.\n",
              "  output.vertical_offset += 10;\n",
              "\n",
              "  display_node_text(\n",
              "      options, `Non supported explanation ${explanation.type}`, output);\n",
              "}\n",
              "\n",
              "\n",
              "/**\n",
              " * Draw the edges of the tree.\n",
              " * @param {!options} options Dictionary of configurations.\n",
              " * @param {!graph} graph D3 search handle containing the graph.\n",
              " * @param {!tree_struct} tree_struct Structure of the tree (node placement,\n",
              " *     data, etc.).\n",
              " */\n",
              "function display_edges(options, graph, tree_struct) {\n",
              "  // Draw an edge between a parent and a child node with a bezier.\n",
              "  function draw_single_edge(d) {\n",
              "    return 'M' + (d.source.y + options.node_x_size) + ',' + d.source.x + ' C' +\n",
              "        (d.source.y + options.node_x_size + options.edge_rounding) + ',' +\n",
              "        d.source.x + ' ' + (d.target.y - options.edge_rounding) + ',' +\n",
              "        d.target.x + ' ' + d.target.y + ',' + d.target.x;\n",
              "  }\n",
              "\n",
              "  graph.append('g')\n",
              "      .attr('fill', 'none')\n",
              "      .attr('stroke-width', 1.2)\n",
              "      .selectAll('path')\n",
              "      .data(tree_struct.links())\n",
              "      .join('path')\n",
              "      .attr('d', draw_single_edge)\n",
              "      .attr(\n",
              "          'stroke', d => (d.target === d.source.children[0]) ? '#0F0' : '#F00');\n",
              "}\n",
              "\n",
              "display_tree({\"margin\": 10, \"node_x_size\": 160, \"node_y_size\": 28, \"node_x_offset\": 180, \"node_y_offset\": 33, \"font_size\": 10, \"edge_rounding\": 20, \"node_padding\": 2, \"show_plot_bounding_box\": false}, {\"value\": {\"type\": \"REGRESSION\", \"value\": -0.08163265883922577, \"num_examples\": 98.0, \"standard_deviation\": 0.1004985475341344}, \"condition\": {\"type\": \"NUMERICAL_IS_HIGHER_THAN\", \"attribute\": \"omset_minimum\", \"threshold\": 42500000.0}, \"children\": [{\"value\": {\"type\": \"REGRESSION\", \"value\": 0.07999999821186066, \"num_examples\": 10.0, \"standard_deviation\": 0.2999999963122692}, \"condition\": {\"type\": \"NUMERICAL_IS_HIGHER_THAN\", \"attribute\": \"pegawai_minimum\", \"threshold\": 3.5}, \"children\": [{\"value\": {\"type\": \"REGRESSION\", \"value\": -0.10000000149011612, \"num_examples\": 5.0}}, {\"value\": {\"type\": \"REGRESSION\", \"value\": 0.25999996066093445, \"num_examples\": 5.0, \"standard_deviation\": 0.3999999958009999}}]}, {\"value\": {\"type\": \"REGRESSION\", \"value\": -0.10000000149011612, \"num_examples\": 88.0}, \"condition\": {\"type\": \"NUMERICAL_IS_HIGHER_THAN\", \"attribute\": \"lokasi_geografis_idx\", \"threshold\": 1.5}, \"children\": [{\"value\": {\"type\": \"REGRESSION\", \"value\": -0.10000000149011612, \"num_examples\": 12.0}}, {\"value\": {\"type\": \"REGRESSION\", \"value\": -0.10000000149011612, \"num_examples\": 76.0}}]}]}, \"#tree_plot_341dcbe192cc44fc983f17d1e9b9c320\")\n",
              "</script>\n"
            ]
          },
          "metadata": {},
          "execution_count": 23
        }
      ]
    },
    {
      "cell_type": "markdown",
      "source": [
        "IN TFDF FROM LOAD MODEL YOU MUST DECLARE AND CONVERT THE DATASET INTO TFDS"
      ],
      "metadata": {
        "id": "GnhFsC3bn_2V"
      }
    },
    {
      "cell_type": "markdown",
      "source": [
        "TESTING PREDICTION"
      ],
      "metadata": {
        "id": "67iTf1t0oJiN"
      }
    },
    {
      "cell_type": "code",
      "source": [
        "pred = new_model.predict(test_ds)\n",
        "np.argmax(pred, axis=1)"
      ],
      "metadata": {
        "colab": {
          "base_uri": "https://localhost:8080/"
        },
        "id": "jhu8TOpY5nAG",
        "outputId": "da9d3008-08c6-4ac7-9580-218dd0e95ca3"
      },
      "execution_count": 17,
      "outputs": [
        {
          "output_type": "stream",
          "name": "stdout",
          "text": [
            "1/1 [==============================] - 0s 81ms/step\n"
          ]
        },
        {
          "output_type": "execute_result",
          "data": {
            "text/plain": [
              "array([ 1,  3,  3, 12,  3, 13,  6,  2,  2,  2,  2,  2,  6,  3,  8, 15,  5,\n",
              "        5,  5,  3,  2,  1,  1,  1,  1,  1,  1])"
            ]
          },
          "metadata": {},
          "execution_count": 17
        }
      ]
    },
    {
      "cell_type": "code",
      "source": [
        "df_ds=tfdf.keras.pd_dataframe_to_tf_dataset(df, label=label)"
      ],
      "metadata": {
        "id": "DKfjZnYcNbg4",
        "colab": {
          "base_uri": "https://localhost:8080/"
        },
        "outputId": "62a39c1e-4c8f-4e30-bf24-48d1c4e4ce28"
      },
      "execution_count": 19,
      "outputs": [
        {
          "output_type": "stream",
          "name": "stderr",
          "text": [
            "/usr/local/lib/python3.7/dist-packages/tensorflow_decision_forests/keras/core.py:2542: FutureWarning: In a future version of pandas all arguments of DataFrame.drop except for the argument 'labels' will be keyword-only\n",
            "  features_dataframe = dataframe.drop(label, 1)\n"
          ]
        }
      ]
    },
    {
      "cell_type": "code",
      "source": [
        "prediction = new_model.predict(df_ds)\n",
        "\n",
        "armax = np.argmax(prediction, axis = 1)\n",
        "print(armax)"
      ],
      "metadata": {
        "colab": {
          "base_uri": "https://localhost:8080/"
        },
        "id": "ZInDrJrX6AM9",
        "outputId": "75ad641e-40b4-402e-88ae-b9cf764e09dd"
      },
      "execution_count": 20,
      "outputs": [
        {
          "output_type": "stream",
          "name": "stdout",
          "text": [
            "1/1 [==============================] - 0s 24ms/step\n",
            "[ 0  1  2  3  4  4  4  3  5  4  2  4  3  3  1  3  3  3  6  7  2  3 12  3\n",
            "  9  2  2  1  3  8  1  3 10 11 12  3  2  2 13 13  4  6  6  6  6  6  2  2\n",
            "  2  2  2  2  2  2  2  2  2  2  2  2  2  2  6  6  6  6  6  4  3  3  4  1\n",
            "  1  8  6  1  8  8  8 14  6  1 15 15 15  5  5  1  5  5  5  1  1  5  3  3\n",
            "  3  3  3  3  3  3  3  1  1  3  3  1  2  2  3  2  3  1  3 16  3  1  2 17\n",
            "  2  1  3  1  1  1  1  1  1  1  1  1  1]\n"
          ]
        }
      ]
    },
    {
      "cell_type": "code",
      "source": [
        "np.testing.assert_allclose(\n",
        "    model.predict(test_ds), new_model.predict(test_ds)\n",
        ")"
      ],
      "metadata": {
        "colab": {
          "base_uri": "https://localhost:8080/"
        },
        "id": "_MH7eetiFWn3",
        "outputId": "9cedf265-6f21-47a7-9855-7a5b12c45257"
      },
      "execution_count": 21,
      "outputs": [
        {
          "output_type": "stream",
          "name": "stdout",
          "text": [
            "1/1 [==============================] - 0s 65ms/step\n",
            "1/1 [==============================] - 0s 8ms/step\n"
          ]
        }
      ]
    },
    {
      "cell_type": "markdown",
      "source": [
        "UNFORTUNATELY IN TFDF WE MUST TRAIN THE LOADED MODEL AGAIN TO PREDICT THE CLASSES IF WE USE NEW INPUT DATA "
      ],
      "metadata": {
        "id": "LKCjzeulow9d"
      }
    },
    {
      "cell_type": "code",
      "source": [
        "new_model = tfdf.keras.GradientBoostedTreesModel()\n",
        "new_model.fit(x = train_ds)\n",
        "\n",
        "fitur = [25000000, 100000000, 1, 2, 50000000,0,1,1,1,0,0,0,0,0,0, 0,0,0,0,0,1]\n",
        "dfx=pd.DataFrame (columns=[\"modal_minimum\",\n",
        "                          \"modal_maximum\", \n",
        "                          \"tingkat_persaingan_idx\", \n",
        "                          \"pegawai_minimum\", \n",
        "                          \"omset_minimum\",\n",
        "                          \"tp_b\",\"tp_m\",\"tp_a\",\n",
        "                          \"lokasi_idx\",\n",
        "                          \"hewan_ternak_idx\",\n",
        "                          \"lokasi_geografis_idx\",\n",
        "                          \"mengerti_hewan_idx\",\n",
        "                          \"lahan_minimum\",\n",
        "                          \"tipe_usaha_kuliner_idx\",\n",
        "                          \"kemampuan_masak_idx\",\n",
        "                          \"penyimpanan_barang_idx\",\n",
        "                          \"internet_minimum\",\n",
        "                          \"sosial_media_idx\",\n",
        "                          \"toko_toserba_idx\",\n",
        "                          \"tipe_toko_idx\",\n",
        "                          \"tipe_usaha_lain_idx\"])\n",
        "dfx.loc[len(df)] = fitur\n",
        "df_ds1=tfdf.keras.pd_dataframe_to_tf_dataset(dfx)\n",
        "prediction = new_model.predict(df_ds1)\n",
        "indextion = np.argsort((-prediction), axis = 1)[0,:3]\n",
        "less_indextion = np.argsort((prediction), axis = 1)[0,:3]\n",
        "top1, top2, top3 = indextion\n",
        "less1, less2, less3 = less_indextion\n",
        "indextion0 = np.argsort((-prediction), axis = 1)[0]\n",
        "indextion1 = np.argmax(prediction, axis = 1)\n",
        "indextion2 = np.argmin(prediction)\n",
        "print(f\"top 3 prediksi adalah : {indextion}\")\n",
        "print(f\"keseluruhan prediksi adalah : {indextion0}\")\n",
        "print(f\"prediksi paling mendekati adalah : {indextion1}\")\n",
        "print(f\"prediksi paling tidak mendekati adalah : {indextion2}\")\n",
        "print(f\"label top 3 prediksi adalah : {classes[top1]}, {classes[top2]}, {classes[top3]}\")\n",
        "print(f\"label less 3 prediksi adalah : {classes[less1]}, {classes[less2]}, {classes[less3]}\")"
      ],
      "metadata": {
        "colab": {
          "base_uri": "https://localhost:8080/"
        },
        "id": "InUNO2-0Fnkt",
        "outputId": "2224354e-05d5-4ec5-effc-3f69abffe88a"
      },
      "execution_count": 24,
      "outputs": [
        {
          "output_type": "stream",
          "name": "stdout",
          "text": [
            "Use /tmp/tmpgqxnnml1 as temporary training directory\n",
            "Reading training dataset...\n",
            "Training dataset read in 0:00:00.326101. Found 106 examples.\n",
            "Training model...\n",
            "Model trained in 0:00:01.152734\n",
            "Compiling model...\n",
            "WARNING:tensorflow:5 out of the last 5 calls to <function CoreModel.make_predict_function.<locals>.predict_function_trained at 0x7f912c5a87a0> triggered tf.function retracing. Tracing is expensive and the excessive number of tracings could be due to (1) creating @tf.function repeatedly in a loop, (2) passing tensors with different shapes, (3) passing Python objects instead of tensors. For (1), please define your @tf.function outside of the loop. For (2), @tf.function has reduce_retracing=True option that can avoid unnecessary retracing. For (3), please refer to https://www.tensorflow.org/guide/function#controlling_retracing and https://www.tensorflow.org/api_docs/python/tf/function for  more details.\n"
          ]
        },
        {
          "output_type": "stream",
          "name": "stderr",
          "text": [
            "WARNING:tensorflow:5 out of the last 5 calls to <function CoreModel.make_predict_function.<locals>.predict_function_trained at 0x7f912c5a87a0> triggered tf.function retracing. Tracing is expensive and the excessive number of tracings could be due to (1) creating @tf.function repeatedly in a loop, (2) passing tensors with different shapes, (3) passing Python objects instead of tensors. For (1), please define your @tf.function outside of the loop. For (2), @tf.function has reduce_retracing=True option that can avoid unnecessary retracing. For (3), please refer to https://www.tensorflow.org/guide/function#controlling_retracing and https://www.tensorflow.org/api_docs/python/tf/function for  more details.\n"
          ]
        },
        {
          "output_type": "stream",
          "name": "stdout",
          "text": [
            "Model compiled.\n",
            "WARNING:tensorflow:6 out of the last 6 calls to <function CoreModel.make_predict_function.<locals>.predict_function_trained at 0x7f9129d15290> triggered tf.function retracing. Tracing is expensive and the excessive number of tracings could be due to (1) creating @tf.function repeatedly in a loop, (2) passing tensors with different shapes, (3) passing Python objects instead of tensors. For (1), please define your @tf.function outside of the loop. For (2), @tf.function has reduce_retracing=True option that can avoid unnecessary retracing. For (3), please refer to https://www.tensorflow.org/guide/function#controlling_retracing and https://www.tensorflow.org/api_docs/python/tf/function for  more details.\n"
          ]
        },
        {
          "output_type": "stream",
          "name": "stderr",
          "text": [
            "WARNING:tensorflow:6 out of the last 6 calls to <function CoreModel.make_predict_function.<locals>.predict_function_trained at 0x7f9129d15290> triggered tf.function retracing. Tracing is expensive and the excessive number of tracings could be due to (1) creating @tf.function repeatedly in a loop, (2) passing tensors with different shapes, (3) passing Python objects instead of tensors. For (1), please define your @tf.function outside of the loop. For (2), @tf.function has reduce_retracing=True option that can avoid unnecessary retracing. For (3), please refer to https://www.tensorflow.org/guide/function#controlling_retracing and https://www.tensorflow.org/api_docs/python/tf/function for  more details.\n"
          ]
        },
        {
          "output_type": "stream",
          "name": "stdout",
          "text": [
            "1/1 [==============================] - 0s 210ms/step\n",
            "top 3 prediksi adalah : [ 0  8 15]\n",
            "keseluruhan prediksi adalah : [ 0  8 15  2 10 14 13  6  3 12  7 17  4  1 16  9 11  5]\n",
            "prediksi paling mendekati adalah : [0]\n",
            "prediksi paling tidak mendekati adalah : 5\n",
            "label top 3 prediksi adalah : Transportasi, Pakaian, Kosmetik\n",
            "label less 3 prediksi adalah : Barang Digital, Perseroan Komanditer, Penggilingan\n"
          ]
        }
      ]
    },
    {
      "cell_type": "code",
      "source": [
        "fitur = [100000, 25000000, 1, 2, 10000000,1,1,0,0,0,0,0,0,1,1, 0,0,0,0,0,0]\n",
        "dfx=pd.DataFrame (columns=[\"modal_minimum\",\n",
        "                          \"modal_maximum\", \n",
        "                          \"tingkat_persaingan_idx\", \n",
        "                          \"pegawai_minimum\", \n",
        "                          \"omset_minimum\",\n",
        "                          \"tp_b\",\"tp_m\",\"tp_a\",\n",
        "                          \"lokasi_idx\",\n",
        "                          \"hewan_ternak_idx\",\n",
        "                          \"lokasi_geografis_idx\",\n",
        "                          \"mengerti_hewan_idx\",\n",
        "                          \"lahan_minimum\",\n",
        "                          \"tipe_usaha_kuliner_idx\",\n",
        "                          \"kemampuan_masak_idx\",\n",
        "                          \"penyimpanan_barang_idx\",\n",
        "                          \"internet_minimum\",\n",
        "                          \"sosial_media_idx\",\n",
        "                          \"toko_toserba_idx\",\n",
        "                          \"tipe_toko_idx\",\n",
        "                          \"tipe_usaha_lain_idx\"])\n",
        "dfx.loc[len(df)] = fitur\n",
        "df_ds1=tfdf.keras.pd_dataframe_to_tf_dataset(dfx)\n",
        "\n",
        "prediction = new_model.predict(df_ds1)\n",
        "indextion = np.argsort((-prediction), axis = 1)[0,:3]\n",
        "top1, top2, top3 = indextion\n",
        "indextion0 = np.argsort((-prediction), axis = 1)[0]\n",
        "indextion1 = np.argmax(prediction, axis = 1)\n",
        "indextion2 = np.argmin(prediction)\n",
        "print(f\"top 3 prediksi adalah : {indextion}\")\n",
        "print(f\"keseluruhan prediksi adalah : {indextion0}\")\n",
        "print(f\"prediksi paling mendekati adalah : {indextion1}\")\n",
        "print(f\"prediksi paling tidak mendekati adalah : {indextion2}\")\n",
        "print(f\"label top 3 prediksi adalah : {classes[top1]}, {classes[top2]}, {classes[top3]}\")"
      ],
      "metadata": {
        "id": "g5UWUxv0UdCt",
        "colab": {
          "base_uri": "https://localhost:8080/"
        },
        "outputId": "560f4651-11b0-4078-e0ad-c4b9a1e7d03b"
      },
      "execution_count": 25,
      "outputs": [
        {
          "output_type": "stream",
          "name": "stdout",
          "text": [
            "1/1 [==============================] - 0s 49ms/step\n",
            "top 3 prediksi adalah : [3 5 2]\n",
            "keseluruhan prediksi adalah : [ 3  5  2  8  1  6 17 14  0 15  9 16  4 10 11 13 12  7]\n",
            "prediksi paling mendekati adalah : [3]\n",
            "prediksi paling tidak mendekati adalah : 7\n",
            "label top 3 prediksi adalah : Kuliner, Barang Digital, Toserba/Toko Kelontong\n"
          ]
        }
      ]
    },
    {
      "cell_type": "code",
      "source": [
        "!zip -r /content/TFDF_model.zip /content/model\n",
        "from google.colab import files\n",
        "files.download(\"/content/TFDF_model.zip\")"
      ],
      "metadata": {
        "colab": {
          "base_uri": "https://localhost:8080/",
          "height": 225
        },
        "id": "T3P1OK6WpQNc",
        "outputId": "7ec2e8ac-7165-4c5b-f033-17edf1de99d4"
      },
      "execution_count": 26,
      "outputs": [
        {
          "output_type": "stream",
          "name": "stdout",
          "text": [
            "  adding: content/model/ (stored 0%)\n",
            "  adding: content/model/variables/ (stored 0%)\n",
            "  adding: content/model/variables/variables.data-00000-of-00001 (deflated 58%)\n",
            "  adding: content/model/variables/variables.index (deflated 45%)\n",
            "  adding: content/model/keras_metadata.pb (deflated 89%)\n",
            "  adding: content/model/saved_model.pb (deflated 91%)\n",
            "  adding: content/model/assets/ (stored 0%)\n",
            "  adding: content/model/assets/0486d20288af4910header.pb (deflated 39%)\n",
            "  adding: content/model/assets/0486d20288af4910data_spec.pb (deflated 35%)\n",
            "  adding: content/model/assets/0486d20288af4910done (stored 0%)\n",
            "  adding: content/model/assets/0486d20288af4910nodes-00000-of-00001 (deflated 65%)\n",
            "  adding: content/model/assets/0486d20288af4910gradient_boosted_trees_header.pb (deflated 40%)\n"
          ]
        },
        {
          "output_type": "display_data",
          "data": {
            "text/plain": [
              "<IPython.core.display.Javascript object>"
            ],
            "application/javascript": [
              "\n",
              "    async function download(id, filename, size) {\n",
              "      if (!google.colab.kernel.accessAllowed) {\n",
              "        return;\n",
              "      }\n",
              "      const div = document.createElement('div');\n",
              "      const label = document.createElement('label');\n",
              "      label.textContent = `Downloading \"${filename}\": `;\n",
              "      div.appendChild(label);\n",
              "      const progress = document.createElement('progress');\n",
              "      progress.max = size;\n",
              "      div.appendChild(progress);\n",
              "      document.body.appendChild(div);\n",
              "\n",
              "      const buffers = [];\n",
              "      let downloaded = 0;\n",
              "\n",
              "      const channel = await google.colab.kernel.comms.open(id);\n",
              "      // Send a message to notify the kernel that we're ready.\n",
              "      channel.send({})\n",
              "\n",
              "      for await (const message of channel.messages) {\n",
              "        // Send a message to notify the kernel that we're ready.\n",
              "        channel.send({})\n",
              "        if (message.buffers) {\n",
              "          for (const buffer of message.buffers) {\n",
              "            buffers.push(buffer);\n",
              "            downloaded += buffer.byteLength;\n",
              "            progress.value = downloaded;\n",
              "          }\n",
              "        }\n",
              "      }\n",
              "      const blob = new Blob(buffers, {type: 'application/binary'});\n",
              "      const a = document.createElement('a');\n",
              "      a.href = window.URL.createObjectURL(blob);\n",
              "      a.download = filename;\n",
              "      div.appendChild(a);\n",
              "      a.click();\n",
              "      div.remove();\n",
              "    }\n",
              "  "
            ]
          },
          "metadata": {}
        },
        {
          "output_type": "display_data",
          "data": {
            "text/plain": [
              "<IPython.core.display.Javascript object>"
            ],
            "application/javascript": [
              "download(\"download_9fd2ce9a-f622-4ec9-84a1-56c2cc0c1ac1\", \"TFDF_model.zip\", 237625)"
            ]
          },
          "metadata": {}
        }
      ]
    }
  ]
}