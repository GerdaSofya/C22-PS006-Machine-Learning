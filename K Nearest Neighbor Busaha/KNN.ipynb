{
  "nbformat": 4,
  "nbformat_minor": 0,
  "metadata": {
    "colab": {
      "name": "KNN.ipynb",
      "provenance": []
    },
    "kernelspec": {
      "name": "python3",
      "display_name": "Python 3"
    },
    "language_info": {
      "name": "python"
    }
  },
  "cells": [
    {
      "cell_type": "markdown",
      "source": [
        "# **Load Module**"
      ],
      "metadata": {
        "id": "MRhnHiutaOvA"
      }
    },
    {
      "cell_type": "code",
      "source": [
        "import pandas as pd \n",
        "import numpy as np\n",
        "import sklearn \n",
        "df = pd.read_csv('https://raw.githubusercontent.com/donatkukus/data/main/df31.csv')"
      ],
      "metadata": {
        "id": "7ZemOHJ3neW3"
      },
      "execution_count": 393,
      "outputs": []
    },
    {
      "cell_type": "code",
      "source": [
        "sklearn.__version__"
      ],
      "metadata": {
        "colab": {
          "base_uri": "https://localhost:8080/",
          "height": 35
        },
        "id": "9zhpfPxG1ftJ",
        "outputId": "400d4ae5-38b6-4292-84f0-a2991cd0830f"
      },
      "execution_count": 394,
      "outputs": [
        {
          "output_type": "execute_result",
          "data": {
            "text/plain": [
              "'1.0.2'"
            ],
            "application/vnd.google.colaboratory.intrinsic+json": {
              "type": "string"
            }
          },
          "metadata": {},
          "execution_count": 394
        }
      ]
    },
    {
      "cell_type": "markdown",
      "source": [
        "# **Drop Unusable Label**"
      ],
      "metadata": {
        "id": "FX2SF4pRaXob"
      }
    },
    {
      "cell_type": "code",
      "source": [
        "# df = df[df.jenis_usaha != ['Transportasi','Toko Buah','Penggilingan','Alat Kecantikan','Koleksi','Alat kesehatan','Perseroan Komanditer','Jasa Isi Ulang Air Minum','Jasa Mengajar','Fotocopy']]\n",
        "\n",
        "\n",
        "drop_label =  ['Transportasi','Toko Buah','Penggilingan','Alat Kecantikan','Koleksi','Alat kesehatan','Perseroan Komanditer','Jasa Isi Ulang Air Minum','Jasa Mengajar','Fotocopy']\n",
        "for drop in drop_label:\n",
        "  df = df[df.jenis_usaha != drop]"
      ],
      "metadata": {
        "id": "q_B1wNssnxNS"
      },
      "execution_count": 395,
      "outputs": []
    },
    {
      "cell_type": "code",
      "source": [
        "df['jenis_usaha'].value_counts()"
      ],
      "metadata": {
        "id": "GQ13kTqXnsxs",
        "colab": {
          "base_uri": "https://localhost:8080/"
        },
        "outputId": "90dab6cd-b910-428c-ba4a-68dad4de3045"
      },
      "execution_count": 396,
      "outputs": [
        {
          "output_type": "execute_result",
          "data": {
            "text/plain": [
              "Kuliner                   30\n",
              "Toserba/Toko Kelontong    29\n",
              "Perternakan               27\n",
              "Elektronik                11\n",
              "Dropshipper                8\n",
              "Barang Digital             7\n",
              "Pakaian                    7\n",
              "Kosmetik                   4\n",
              "Name: jenis_usaha, dtype: int64"
            ]
          },
          "metadata": {},
          "execution_count": 396
        }
      ]
    },
    {
      "cell_type": "code",
      "source": [
        "df.head()"
      ],
      "metadata": {
        "colab": {
          "base_uri": "https://localhost:8080/",
          "height": 404
        },
        "id": "Oq71mhCooBrz",
        "outputId": "3be47011-5252-43cc-b942-b8b96938c8ba"
      },
      "execution_count": 397,
      "outputs": [
        {
          "output_type": "execute_result",
          "data": {
            "text/plain": [
              "   Unnamed: 0             jenis_usaha        Modal  modal_minimum  \\\n",
              "1           1             Perternakan    10 - 25jt     10000000.0   \n",
              "2           2  Toserba/Toko Kelontong  1jt - 10 jt      1000000.0   \n",
              "3           3                 Kuliner  1jt - 10 jt      1000000.0   \n",
              "4           4             Dropshipper  1jt - 10 jt      1000000.0   \n",
              "5           5             Dropshipper  1jt - 10 jt      1000000.0   \n",
              "\n",
              "   modal_maximum tingkat_persaingan  tingkat_persaingan_idx  \\\n",
              "1     25000000.0             Sedang                       1   \n",
              "2     10000000.0             Sedang                       1   \n",
              "3     10000000.0             Sedang                       1   \n",
              "4     10000000.0             Rendah                       0   \n",
              "5     10000000.0             Tinggi                       2   \n",
              "\n",
              "           jumlah_pegawai  pegawai_minimum       omset  ...  sosial_media  \\\n",
              "1  1 orang (Anda sendiri)                1  10-50 Juta  ...       no_info   \n",
              "2  1 orang (Anda sendiri)                1   < 10 Juta  ...       no_info   \n",
              "3  1 orang (Anda sendiri)                1   < 10 Juta  ...       no_info   \n",
              "4  1 orang (Anda sendiri)                1   < 10 Juta  ...            WA   \n",
              "5  1 orang (Anda sendiri)                1   < 10 Juta  ...            IG   \n",
              "\n",
              "  sosial_media_idx  barang_toserba  toko_toserba  toko_toserba_idx tipe_toko  \\\n",
              "1                0         no_info       no_info                 0   no_info   \n",
              "2                0         Sembako          True                 1      Ruko   \n",
              "3                0         no_info       no_info                 0   no_info   \n",
              "4                1         no_info       no_info                 0   no_info   \n",
              "5                2         no_info       no_info                 0   no_info   \n",
              "\n",
              "   tipe_toko_idx usaha_lain tipe_usaha_lain  tipe_usaha_lain_idx  \n",
              "1              0    no_info         no_info                    0  \n",
              "2              1    no_info         no_info                    0  \n",
              "3              0    no_info         no_info                    0  \n",
              "4              0    no_info         no_info                    0  \n",
              "5              0    no_info         no_info                    0  \n",
              "\n",
              "[5 rows x 46 columns]"
            ],
            "text/html": [
              "\n",
              "  <div id=\"df-7c3fe94c-e50c-4143-9b98-957d35c93b32\">\n",
              "    <div class=\"colab-df-container\">\n",
              "      <div>\n",
              "<style scoped>\n",
              "    .dataframe tbody tr th:only-of-type {\n",
              "        vertical-align: middle;\n",
              "    }\n",
              "\n",
              "    .dataframe tbody tr th {\n",
              "        vertical-align: top;\n",
              "    }\n",
              "\n",
              "    .dataframe thead th {\n",
              "        text-align: right;\n",
              "    }\n",
              "</style>\n",
              "<table border=\"1\" class=\"dataframe\">\n",
              "  <thead>\n",
              "    <tr style=\"text-align: right;\">\n",
              "      <th></th>\n",
              "      <th>Unnamed: 0</th>\n",
              "      <th>jenis_usaha</th>\n",
              "      <th>Modal</th>\n",
              "      <th>modal_minimum</th>\n",
              "      <th>modal_maximum</th>\n",
              "      <th>tingkat_persaingan</th>\n",
              "      <th>tingkat_persaingan_idx</th>\n",
              "      <th>jumlah_pegawai</th>\n",
              "      <th>pegawai_minimum</th>\n",
              "      <th>omset</th>\n",
              "      <th>...</th>\n",
              "      <th>sosial_media</th>\n",
              "      <th>sosial_media_idx</th>\n",
              "      <th>barang_toserba</th>\n",
              "      <th>toko_toserba</th>\n",
              "      <th>toko_toserba_idx</th>\n",
              "      <th>tipe_toko</th>\n",
              "      <th>tipe_toko_idx</th>\n",
              "      <th>usaha_lain</th>\n",
              "      <th>tipe_usaha_lain</th>\n",
              "      <th>tipe_usaha_lain_idx</th>\n",
              "    </tr>\n",
              "  </thead>\n",
              "  <tbody>\n",
              "    <tr>\n",
              "      <th>1</th>\n",
              "      <td>1</td>\n",
              "      <td>Perternakan</td>\n",
              "      <td>10 - 25jt</td>\n",
              "      <td>10000000.0</td>\n",
              "      <td>25000000.0</td>\n",
              "      <td>Sedang</td>\n",
              "      <td>1</td>\n",
              "      <td>1 orang (Anda sendiri)</td>\n",
              "      <td>1</td>\n",
              "      <td>10-50 Juta</td>\n",
              "      <td>...</td>\n",
              "      <td>no_info</td>\n",
              "      <td>0</td>\n",
              "      <td>no_info</td>\n",
              "      <td>no_info</td>\n",
              "      <td>0</td>\n",
              "      <td>no_info</td>\n",
              "      <td>0</td>\n",
              "      <td>no_info</td>\n",
              "      <td>no_info</td>\n",
              "      <td>0</td>\n",
              "    </tr>\n",
              "    <tr>\n",
              "      <th>2</th>\n",
              "      <td>2</td>\n",
              "      <td>Toserba/Toko Kelontong</td>\n",
              "      <td>1jt - 10 jt</td>\n",
              "      <td>1000000.0</td>\n",
              "      <td>10000000.0</td>\n",
              "      <td>Sedang</td>\n",
              "      <td>1</td>\n",
              "      <td>1 orang (Anda sendiri)</td>\n",
              "      <td>1</td>\n",
              "      <td>&lt; 10 Juta</td>\n",
              "      <td>...</td>\n",
              "      <td>no_info</td>\n",
              "      <td>0</td>\n",
              "      <td>Sembako</td>\n",
              "      <td>True</td>\n",
              "      <td>1</td>\n",
              "      <td>Ruko</td>\n",
              "      <td>1</td>\n",
              "      <td>no_info</td>\n",
              "      <td>no_info</td>\n",
              "      <td>0</td>\n",
              "    </tr>\n",
              "    <tr>\n",
              "      <th>3</th>\n",
              "      <td>3</td>\n",
              "      <td>Kuliner</td>\n",
              "      <td>1jt - 10 jt</td>\n",
              "      <td>1000000.0</td>\n",
              "      <td>10000000.0</td>\n",
              "      <td>Sedang</td>\n",
              "      <td>1</td>\n",
              "      <td>1 orang (Anda sendiri)</td>\n",
              "      <td>1</td>\n",
              "      <td>&lt; 10 Juta</td>\n",
              "      <td>...</td>\n",
              "      <td>no_info</td>\n",
              "      <td>0</td>\n",
              "      <td>no_info</td>\n",
              "      <td>no_info</td>\n",
              "      <td>0</td>\n",
              "      <td>no_info</td>\n",
              "      <td>0</td>\n",
              "      <td>no_info</td>\n",
              "      <td>no_info</td>\n",
              "      <td>0</td>\n",
              "    </tr>\n",
              "    <tr>\n",
              "      <th>4</th>\n",
              "      <td>4</td>\n",
              "      <td>Dropshipper</td>\n",
              "      <td>1jt - 10 jt</td>\n",
              "      <td>1000000.0</td>\n",
              "      <td>10000000.0</td>\n",
              "      <td>Rendah</td>\n",
              "      <td>0</td>\n",
              "      <td>1 orang (Anda sendiri)</td>\n",
              "      <td>1</td>\n",
              "      <td>&lt; 10 Juta</td>\n",
              "      <td>...</td>\n",
              "      <td>WA</td>\n",
              "      <td>1</td>\n",
              "      <td>no_info</td>\n",
              "      <td>no_info</td>\n",
              "      <td>0</td>\n",
              "      <td>no_info</td>\n",
              "      <td>0</td>\n",
              "      <td>no_info</td>\n",
              "      <td>no_info</td>\n",
              "      <td>0</td>\n",
              "    </tr>\n",
              "    <tr>\n",
              "      <th>5</th>\n",
              "      <td>5</td>\n",
              "      <td>Dropshipper</td>\n",
              "      <td>1jt - 10 jt</td>\n",
              "      <td>1000000.0</td>\n",
              "      <td>10000000.0</td>\n",
              "      <td>Tinggi</td>\n",
              "      <td>2</td>\n",
              "      <td>1 orang (Anda sendiri)</td>\n",
              "      <td>1</td>\n",
              "      <td>&lt; 10 Juta</td>\n",
              "      <td>...</td>\n",
              "      <td>IG</td>\n",
              "      <td>2</td>\n",
              "      <td>no_info</td>\n",
              "      <td>no_info</td>\n",
              "      <td>0</td>\n",
              "      <td>no_info</td>\n",
              "      <td>0</td>\n",
              "      <td>no_info</td>\n",
              "      <td>no_info</td>\n",
              "      <td>0</td>\n",
              "    </tr>\n",
              "  </tbody>\n",
              "</table>\n",
              "<p>5 rows × 46 columns</p>\n",
              "</div>\n",
              "      <button class=\"colab-df-convert\" onclick=\"convertToInteractive('df-7c3fe94c-e50c-4143-9b98-957d35c93b32')\"\n",
              "              title=\"Convert this dataframe to an interactive table.\"\n",
              "              style=\"display:none;\">\n",
              "        \n",
              "  <svg xmlns=\"http://www.w3.org/2000/svg\" height=\"24px\"viewBox=\"0 0 24 24\"\n",
              "       width=\"24px\">\n",
              "    <path d=\"M0 0h24v24H0V0z\" fill=\"none\"/>\n",
              "    <path d=\"M18.56 5.44l.94 2.06.94-2.06 2.06-.94-2.06-.94-.94-2.06-.94 2.06-2.06.94zm-11 1L8.5 8.5l.94-2.06 2.06-.94-2.06-.94L8.5 2.5l-.94 2.06-2.06.94zm10 10l.94 2.06.94-2.06 2.06-.94-2.06-.94-.94-2.06-.94 2.06-2.06.94z\"/><path d=\"M17.41 7.96l-1.37-1.37c-.4-.4-.92-.59-1.43-.59-.52 0-1.04.2-1.43.59L10.3 9.45l-7.72 7.72c-.78.78-.78 2.05 0 2.83L4 21.41c.39.39.9.59 1.41.59.51 0 1.02-.2 1.41-.59l7.78-7.78 2.81-2.81c.8-.78.8-2.07 0-2.86zM5.41 20L4 18.59l7.72-7.72 1.47 1.35L5.41 20z\"/>\n",
              "  </svg>\n",
              "      </button>\n",
              "      \n",
              "  <style>\n",
              "    .colab-df-container {\n",
              "      display:flex;\n",
              "      flex-wrap:wrap;\n",
              "      gap: 12px;\n",
              "    }\n",
              "\n",
              "    .colab-df-convert {\n",
              "      background-color: #E8F0FE;\n",
              "      border: none;\n",
              "      border-radius: 50%;\n",
              "      cursor: pointer;\n",
              "      display: none;\n",
              "      fill: #1967D2;\n",
              "      height: 32px;\n",
              "      padding: 0 0 0 0;\n",
              "      width: 32px;\n",
              "    }\n",
              "\n",
              "    .colab-df-convert:hover {\n",
              "      background-color: #E2EBFA;\n",
              "      box-shadow: 0px 1px 2px rgba(60, 64, 67, 0.3), 0px 1px 3px 1px rgba(60, 64, 67, 0.15);\n",
              "      fill: #174EA6;\n",
              "    }\n",
              "\n",
              "    [theme=dark] .colab-df-convert {\n",
              "      background-color: #3B4455;\n",
              "      fill: #D2E3FC;\n",
              "    }\n",
              "\n",
              "    [theme=dark] .colab-df-convert:hover {\n",
              "      background-color: #434B5C;\n",
              "      box-shadow: 0px 1px 3px 1px rgba(0, 0, 0, 0.15);\n",
              "      filter: drop-shadow(0px 1px 2px rgba(0, 0, 0, 0.3));\n",
              "      fill: #FFFFFF;\n",
              "    }\n",
              "  </style>\n",
              "\n",
              "      <script>\n",
              "        const buttonEl =\n",
              "          document.querySelector('#df-7c3fe94c-e50c-4143-9b98-957d35c93b32 button.colab-df-convert');\n",
              "        buttonEl.style.display =\n",
              "          google.colab.kernel.accessAllowed ? 'block' : 'none';\n",
              "\n",
              "        async function convertToInteractive(key) {\n",
              "          const element = document.querySelector('#df-7c3fe94c-e50c-4143-9b98-957d35c93b32');\n",
              "          const dataTable =\n",
              "            await google.colab.kernel.invokeFunction('convertToInteractive',\n",
              "                                                     [key], {});\n",
              "          if (!dataTable) return;\n",
              "\n",
              "          const docLinkHtml = 'Like what you see? Visit the ' +\n",
              "            '<a target=\"_blank\" href=https://colab.research.google.com/notebooks/data_table.ipynb>data table notebook</a>'\n",
              "            + ' to learn more about interactive tables.';\n",
              "          element.innerHTML = '';\n",
              "          dataTable['output_type'] = 'display_data';\n",
              "          await google.colab.output.renderOutput(dataTable, element);\n",
              "          const docLink = document.createElement('div');\n",
              "          docLink.innerHTML = docLinkHtml;\n",
              "          element.appendChild(docLink);\n",
              "        }\n",
              "      </script>\n",
              "    </div>\n",
              "  </div>\n",
              "  "
            ]
          },
          "metadata": {},
          "execution_count": 397
        }
      ]
    },
    {
      "cell_type": "code",
      "source": [
        "#Drop unusable columns\n",
        "df = df.drop(columns=['Unnamed: 0','Modal','tingkat_persaingan','jumlah_pegawai','omset',\n",
        "                      'target_pasar','lokasi','hewan_ternak','hewan_ternak_sub','lokasi_geografis',\n",
        "                      'mengerti_hewan','luas_lahan','usaha_kuliner','tipe_usaha_kuliner','kemampuan_masak',\n",
        "                      'barang_dropship','penyimpanan_barang','biaya_internet','sosial_media','barang_toserba',\n",
        "                      'toko_toserba','tipe_toko','usaha_lain','tipe_usaha_lain'])"
      ],
      "metadata": {
        "id": "b1FCJFkP2oee"
      },
      "execution_count": 398,
      "outputs": []
    },
    {
      "cell_type": "code",
      "source": [
        "df"
      ],
      "metadata": {
        "id": "GmnF4CeO3R_h",
        "colab": {
          "base_uri": "https://localhost:8080/",
          "height": 505
        },
        "outputId": "f932fcd5-f527-4fb1-f674-1ee47c91a842"
      },
      "execution_count": 399,
      "outputs": [
        {
          "output_type": "execute_result",
          "data": {
            "text/plain": [
              "                jenis_usaha  modal_minimum  modal_maximum  \\\n",
              "1               Perternakan     10000000.0     25000000.0   \n",
              "2    Toserba/Toko Kelontong      1000000.0     10000000.0   \n",
              "3                   Kuliner      1000000.0     10000000.0   \n",
              "4               Dropshipper      1000000.0     10000000.0   \n",
              "5               Dropshipper      1000000.0     10000000.0   \n",
              "..                      ...            ...            ...   \n",
              "128             Perternakan     10000000.0     25000000.0   \n",
              "129             Perternakan     10000000.0     25000000.0   \n",
              "130             Perternakan      1000000.0     10000000.0   \n",
              "131             Perternakan     10000000.0     25000000.0   \n",
              "132             Perternakan      1000000.0     10000000.0   \n",
              "\n",
              "     tingkat_persaingan_idx  pegawai_minimum  omset_minimum  tp_b  tp_m  tp_a  \\\n",
              "1                         1                1     25000000.0     1     1     1   \n",
              "2                         1                1      1000000.0     1     1     0   \n",
              "3                         1                1      1000000.0     0     1     0   \n",
              "4                         0                1      1000000.0     1     0     0   \n",
              "5                         2                1      1000000.0     1     1     0   \n",
              "..                      ...              ...            ...   ...   ...   ...   \n",
              "128                       1                2     25000000.0     1     1     1   \n",
              "129                       1                2     25000000.0     1     1     1   \n",
              "130                       1                1      1000000.0     1     1     1   \n",
              "131                       1                1      1000000.0     1     1     1   \n",
              "132                       1                1      1000000.0     1     1     1   \n",
              "\n",
              "     lokasi_idx  ...  mengerti_hewan_idx  lahan_minimum  \\\n",
              "1             1  ...                   1         1000.0   \n",
              "2             1  ...                   0            0.0   \n",
              "3             1  ...                   0            0.0   \n",
              "4             0  ...                   0            0.0   \n",
              "5             0  ...                   0            0.0   \n",
              "..          ...  ...                 ...            ...   \n",
              "128           1  ...                   2         1000.0   \n",
              "129           1  ...                   1         1000.0   \n",
              "130           1  ...                   1         1000.0   \n",
              "131           1  ...                   1         1000.0   \n",
              "132           1  ...                   2         1000.0   \n",
              "\n",
              "     tipe_usaha_kuliner_idx  kemampuan_masak_idx  penyimpanan_barang_idx  \\\n",
              "1                         0                    0                       0   \n",
              "2                         0                    0                       0   \n",
              "3                         1                    1                       0   \n",
              "4                         0                    0                       1   \n",
              "5                         0                    0                       1   \n",
              "..                      ...                  ...                     ...   \n",
              "128                       0                    0                       0   \n",
              "129                       0                    0                       0   \n",
              "130                       0                    0                       0   \n",
              "131                       0                    0                       0   \n",
              "132                       0                    0                       0   \n",
              "\n",
              "     internet_minimum  sosial_media_idx  toko_toserba_idx  tipe_toko_idx  \\\n",
              "1                   0                 0                 0              0   \n",
              "2                   0                 0                 1              1   \n",
              "3                   0                 0                 0              0   \n",
              "4              100000                 1                 0              0   \n",
              "5              300000                 2                 0              0   \n",
              "..                ...               ...               ...            ...   \n",
              "128                 0                 0                 0              0   \n",
              "129                 0                 0                 0              0   \n",
              "130                 0                 0                 0              0   \n",
              "131                 0                 0                 0              0   \n",
              "132                 0                 0                 0              0   \n",
              "\n",
              "     tipe_usaha_lain_idx  \n",
              "1                      0  \n",
              "2                      0  \n",
              "3                      0  \n",
              "4                      0  \n",
              "5                      0  \n",
              "..                   ...  \n",
              "128                    0  \n",
              "129                    0  \n",
              "130                    0  \n",
              "131                    0  \n",
              "132                    0  \n",
              "\n",
              "[123 rows x 22 columns]"
            ],
            "text/html": [
              "\n",
              "  <div id=\"df-314ce514-e699-4736-a945-6d841cde107e\">\n",
              "    <div class=\"colab-df-container\">\n",
              "      <div>\n",
              "<style scoped>\n",
              "    .dataframe tbody tr th:only-of-type {\n",
              "        vertical-align: middle;\n",
              "    }\n",
              "\n",
              "    .dataframe tbody tr th {\n",
              "        vertical-align: top;\n",
              "    }\n",
              "\n",
              "    .dataframe thead th {\n",
              "        text-align: right;\n",
              "    }\n",
              "</style>\n",
              "<table border=\"1\" class=\"dataframe\">\n",
              "  <thead>\n",
              "    <tr style=\"text-align: right;\">\n",
              "      <th></th>\n",
              "      <th>jenis_usaha</th>\n",
              "      <th>modal_minimum</th>\n",
              "      <th>modal_maximum</th>\n",
              "      <th>tingkat_persaingan_idx</th>\n",
              "      <th>pegawai_minimum</th>\n",
              "      <th>omset_minimum</th>\n",
              "      <th>tp_b</th>\n",
              "      <th>tp_m</th>\n",
              "      <th>tp_a</th>\n",
              "      <th>lokasi_idx</th>\n",
              "      <th>...</th>\n",
              "      <th>mengerti_hewan_idx</th>\n",
              "      <th>lahan_minimum</th>\n",
              "      <th>tipe_usaha_kuliner_idx</th>\n",
              "      <th>kemampuan_masak_idx</th>\n",
              "      <th>penyimpanan_barang_idx</th>\n",
              "      <th>internet_minimum</th>\n",
              "      <th>sosial_media_idx</th>\n",
              "      <th>toko_toserba_idx</th>\n",
              "      <th>tipe_toko_idx</th>\n",
              "      <th>tipe_usaha_lain_idx</th>\n",
              "    </tr>\n",
              "  </thead>\n",
              "  <tbody>\n",
              "    <tr>\n",
              "      <th>1</th>\n",
              "      <td>Perternakan</td>\n",
              "      <td>10000000.0</td>\n",
              "      <td>25000000.0</td>\n",
              "      <td>1</td>\n",
              "      <td>1</td>\n",
              "      <td>25000000.0</td>\n",
              "      <td>1</td>\n",
              "      <td>1</td>\n",
              "      <td>1</td>\n",
              "      <td>1</td>\n",
              "      <td>...</td>\n",
              "      <td>1</td>\n",
              "      <td>1000.0</td>\n",
              "      <td>0</td>\n",
              "      <td>0</td>\n",
              "      <td>0</td>\n",
              "      <td>0</td>\n",
              "      <td>0</td>\n",
              "      <td>0</td>\n",
              "      <td>0</td>\n",
              "      <td>0</td>\n",
              "    </tr>\n",
              "    <tr>\n",
              "      <th>2</th>\n",
              "      <td>Toserba/Toko Kelontong</td>\n",
              "      <td>1000000.0</td>\n",
              "      <td>10000000.0</td>\n",
              "      <td>1</td>\n",
              "      <td>1</td>\n",
              "      <td>1000000.0</td>\n",
              "      <td>1</td>\n",
              "      <td>1</td>\n",
              "      <td>0</td>\n",
              "      <td>1</td>\n",
              "      <td>...</td>\n",
              "      <td>0</td>\n",
              "      <td>0.0</td>\n",
              "      <td>0</td>\n",
              "      <td>0</td>\n",
              "      <td>0</td>\n",
              "      <td>0</td>\n",
              "      <td>0</td>\n",
              "      <td>1</td>\n",
              "      <td>1</td>\n",
              "      <td>0</td>\n",
              "    </tr>\n",
              "    <tr>\n",
              "      <th>3</th>\n",
              "      <td>Kuliner</td>\n",
              "      <td>1000000.0</td>\n",
              "      <td>10000000.0</td>\n",
              "      <td>1</td>\n",
              "      <td>1</td>\n",
              "      <td>1000000.0</td>\n",
              "      <td>0</td>\n",
              "      <td>1</td>\n",
              "      <td>0</td>\n",
              "      <td>1</td>\n",
              "      <td>...</td>\n",
              "      <td>0</td>\n",
              "      <td>0.0</td>\n",
              "      <td>1</td>\n",
              "      <td>1</td>\n",
              "      <td>0</td>\n",
              "      <td>0</td>\n",
              "      <td>0</td>\n",
              "      <td>0</td>\n",
              "      <td>0</td>\n",
              "      <td>0</td>\n",
              "    </tr>\n",
              "    <tr>\n",
              "      <th>4</th>\n",
              "      <td>Dropshipper</td>\n",
              "      <td>1000000.0</td>\n",
              "      <td>10000000.0</td>\n",
              "      <td>0</td>\n",
              "      <td>1</td>\n",
              "      <td>1000000.0</td>\n",
              "      <td>1</td>\n",
              "      <td>0</td>\n",
              "      <td>0</td>\n",
              "      <td>0</td>\n",
              "      <td>...</td>\n",
              "      <td>0</td>\n",
              "      <td>0.0</td>\n",
              "      <td>0</td>\n",
              "      <td>0</td>\n",
              "      <td>1</td>\n",
              "      <td>100000</td>\n",
              "      <td>1</td>\n",
              "      <td>0</td>\n",
              "      <td>0</td>\n",
              "      <td>0</td>\n",
              "    </tr>\n",
              "    <tr>\n",
              "      <th>5</th>\n",
              "      <td>Dropshipper</td>\n",
              "      <td>1000000.0</td>\n",
              "      <td>10000000.0</td>\n",
              "      <td>2</td>\n",
              "      <td>1</td>\n",
              "      <td>1000000.0</td>\n",
              "      <td>1</td>\n",
              "      <td>1</td>\n",
              "      <td>0</td>\n",
              "      <td>0</td>\n",
              "      <td>...</td>\n",
              "      <td>0</td>\n",
              "      <td>0.0</td>\n",
              "      <td>0</td>\n",
              "      <td>0</td>\n",
              "      <td>1</td>\n",
              "      <td>300000</td>\n",
              "      <td>2</td>\n",
              "      <td>0</td>\n",
              "      <td>0</td>\n",
              "      <td>0</td>\n",
              "    </tr>\n",
              "    <tr>\n",
              "      <th>...</th>\n",
              "      <td>...</td>\n",
              "      <td>...</td>\n",
              "      <td>...</td>\n",
              "      <td>...</td>\n",
              "      <td>...</td>\n",
              "      <td>...</td>\n",
              "      <td>...</td>\n",
              "      <td>...</td>\n",
              "      <td>...</td>\n",
              "      <td>...</td>\n",
              "      <td>...</td>\n",
              "      <td>...</td>\n",
              "      <td>...</td>\n",
              "      <td>...</td>\n",
              "      <td>...</td>\n",
              "      <td>...</td>\n",
              "      <td>...</td>\n",
              "      <td>...</td>\n",
              "      <td>...</td>\n",
              "      <td>...</td>\n",
              "      <td>...</td>\n",
              "    </tr>\n",
              "    <tr>\n",
              "      <th>128</th>\n",
              "      <td>Perternakan</td>\n",
              "      <td>10000000.0</td>\n",
              "      <td>25000000.0</td>\n",
              "      <td>1</td>\n",
              "      <td>2</td>\n",
              "      <td>25000000.0</td>\n",
              "      <td>1</td>\n",
              "      <td>1</td>\n",
              "      <td>1</td>\n",
              "      <td>1</td>\n",
              "      <td>...</td>\n",
              "      <td>2</td>\n",
              "      <td>1000.0</td>\n",
              "      <td>0</td>\n",
              "      <td>0</td>\n",
              "      <td>0</td>\n",
              "      <td>0</td>\n",
              "      <td>0</td>\n",
              "      <td>0</td>\n",
              "      <td>0</td>\n",
              "      <td>0</td>\n",
              "    </tr>\n",
              "    <tr>\n",
              "      <th>129</th>\n",
              "      <td>Perternakan</td>\n",
              "      <td>10000000.0</td>\n",
              "      <td>25000000.0</td>\n",
              "      <td>1</td>\n",
              "      <td>2</td>\n",
              "      <td>25000000.0</td>\n",
              "      <td>1</td>\n",
              "      <td>1</td>\n",
              "      <td>1</td>\n",
              "      <td>1</td>\n",
              "      <td>...</td>\n",
              "      <td>1</td>\n",
              "      <td>1000.0</td>\n",
              "      <td>0</td>\n",
              "      <td>0</td>\n",
              "      <td>0</td>\n",
              "      <td>0</td>\n",
              "      <td>0</td>\n",
              "      <td>0</td>\n",
              "      <td>0</td>\n",
              "      <td>0</td>\n",
              "    </tr>\n",
              "    <tr>\n",
              "      <th>130</th>\n",
              "      <td>Perternakan</td>\n",
              "      <td>1000000.0</td>\n",
              "      <td>10000000.0</td>\n",
              "      <td>1</td>\n",
              "      <td>1</td>\n",
              "      <td>1000000.0</td>\n",
              "      <td>1</td>\n",
              "      <td>1</td>\n",
              "      <td>1</td>\n",
              "      <td>1</td>\n",
              "      <td>...</td>\n",
              "      <td>1</td>\n",
              "      <td>1000.0</td>\n",
              "      <td>0</td>\n",
              "      <td>0</td>\n",
              "      <td>0</td>\n",
              "      <td>0</td>\n",
              "      <td>0</td>\n",
              "      <td>0</td>\n",
              "      <td>0</td>\n",
              "      <td>0</td>\n",
              "    </tr>\n",
              "    <tr>\n",
              "      <th>131</th>\n",
              "      <td>Perternakan</td>\n",
              "      <td>10000000.0</td>\n",
              "      <td>25000000.0</td>\n",
              "      <td>1</td>\n",
              "      <td>1</td>\n",
              "      <td>1000000.0</td>\n",
              "      <td>1</td>\n",
              "      <td>1</td>\n",
              "      <td>1</td>\n",
              "      <td>1</td>\n",
              "      <td>...</td>\n",
              "      <td>1</td>\n",
              "      <td>1000.0</td>\n",
              "      <td>0</td>\n",
              "      <td>0</td>\n",
              "      <td>0</td>\n",
              "      <td>0</td>\n",
              "      <td>0</td>\n",
              "      <td>0</td>\n",
              "      <td>0</td>\n",
              "      <td>0</td>\n",
              "    </tr>\n",
              "    <tr>\n",
              "      <th>132</th>\n",
              "      <td>Perternakan</td>\n",
              "      <td>1000000.0</td>\n",
              "      <td>10000000.0</td>\n",
              "      <td>1</td>\n",
              "      <td>1</td>\n",
              "      <td>1000000.0</td>\n",
              "      <td>1</td>\n",
              "      <td>1</td>\n",
              "      <td>1</td>\n",
              "      <td>1</td>\n",
              "      <td>...</td>\n",
              "      <td>2</td>\n",
              "      <td>1000.0</td>\n",
              "      <td>0</td>\n",
              "      <td>0</td>\n",
              "      <td>0</td>\n",
              "      <td>0</td>\n",
              "      <td>0</td>\n",
              "      <td>0</td>\n",
              "      <td>0</td>\n",
              "      <td>0</td>\n",
              "    </tr>\n",
              "  </tbody>\n",
              "</table>\n",
              "<p>123 rows × 22 columns</p>\n",
              "</div>\n",
              "      <button class=\"colab-df-convert\" onclick=\"convertToInteractive('df-314ce514-e699-4736-a945-6d841cde107e')\"\n",
              "              title=\"Convert this dataframe to an interactive table.\"\n",
              "              style=\"display:none;\">\n",
              "        \n",
              "  <svg xmlns=\"http://www.w3.org/2000/svg\" height=\"24px\"viewBox=\"0 0 24 24\"\n",
              "       width=\"24px\">\n",
              "    <path d=\"M0 0h24v24H0V0z\" fill=\"none\"/>\n",
              "    <path d=\"M18.56 5.44l.94 2.06.94-2.06 2.06-.94-2.06-.94-.94-2.06-.94 2.06-2.06.94zm-11 1L8.5 8.5l.94-2.06 2.06-.94-2.06-.94L8.5 2.5l-.94 2.06-2.06.94zm10 10l.94 2.06.94-2.06 2.06-.94-2.06-.94-.94-2.06-.94 2.06-2.06.94z\"/><path d=\"M17.41 7.96l-1.37-1.37c-.4-.4-.92-.59-1.43-.59-.52 0-1.04.2-1.43.59L10.3 9.45l-7.72 7.72c-.78.78-.78 2.05 0 2.83L4 21.41c.39.39.9.59 1.41.59.51 0 1.02-.2 1.41-.59l7.78-7.78 2.81-2.81c.8-.78.8-2.07 0-2.86zM5.41 20L4 18.59l7.72-7.72 1.47 1.35L5.41 20z\"/>\n",
              "  </svg>\n",
              "      </button>\n",
              "      \n",
              "  <style>\n",
              "    .colab-df-container {\n",
              "      display:flex;\n",
              "      flex-wrap:wrap;\n",
              "      gap: 12px;\n",
              "    }\n",
              "\n",
              "    .colab-df-convert {\n",
              "      background-color: #E8F0FE;\n",
              "      border: none;\n",
              "      border-radius: 50%;\n",
              "      cursor: pointer;\n",
              "      display: none;\n",
              "      fill: #1967D2;\n",
              "      height: 32px;\n",
              "      padding: 0 0 0 0;\n",
              "      width: 32px;\n",
              "    }\n",
              "\n",
              "    .colab-df-convert:hover {\n",
              "      background-color: #E2EBFA;\n",
              "      box-shadow: 0px 1px 2px rgba(60, 64, 67, 0.3), 0px 1px 3px 1px rgba(60, 64, 67, 0.15);\n",
              "      fill: #174EA6;\n",
              "    }\n",
              "\n",
              "    [theme=dark] .colab-df-convert {\n",
              "      background-color: #3B4455;\n",
              "      fill: #D2E3FC;\n",
              "    }\n",
              "\n",
              "    [theme=dark] .colab-df-convert:hover {\n",
              "      background-color: #434B5C;\n",
              "      box-shadow: 0px 1px 3px 1px rgba(0, 0, 0, 0.15);\n",
              "      filter: drop-shadow(0px 1px 2px rgba(0, 0, 0, 0.3));\n",
              "      fill: #FFFFFF;\n",
              "    }\n",
              "  </style>\n",
              "\n",
              "      <script>\n",
              "        const buttonEl =\n",
              "          document.querySelector('#df-314ce514-e699-4736-a945-6d841cde107e button.colab-df-convert');\n",
              "        buttonEl.style.display =\n",
              "          google.colab.kernel.accessAllowed ? 'block' : 'none';\n",
              "\n",
              "        async function convertToInteractive(key) {\n",
              "          const element = document.querySelector('#df-314ce514-e699-4736-a945-6d841cde107e');\n",
              "          const dataTable =\n",
              "            await google.colab.kernel.invokeFunction('convertToInteractive',\n",
              "                                                     [key], {});\n",
              "          if (!dataTable) return;\n",
              "\n",
              "          const docLinkHtml = 'Like what you see? Visit the ' +\n",
              "            '<a target=\"_blank\" href=https://colab.research.google.com/notebooks/data_table.ipynb>data table notebook</a>'\n",
              "            + ' to learn more about interactive tables.';\n",
              "          element.innerHTML = '';\n",
              "          dataTable['output_type'] = 'display_data';\n",
              "          await google.colab.output.renderOutput(dataTable, element);\n",
              "          const docLink = document.createElement('div');\n",
              "          docLink.innerHTML = docLinkHtml;\n",
              "          element.appendChild(docLink);\n",
              "        }\n",
              "      </script>\n",
              "    </div>\n",
              "  </div>\n",
              "  "
            ]
          },
          "metadata": {},
          "execution_count": 399
        }
      ]
    },
    {
      "cell_type": "markdown",
      "source": [
        "# **LABEL ENCODING**"
      ],
      "metadata": {
        "id": "pYEjBDPHVVXQ"
      }
    },
    {
      "cell_type": "code",
      "source": [
        "from sklearn import preprocessing\n",
        "\n",
        "\n",
        "\n",
        "#Encode 'jenis_usaha' class\n",
        "encoder = preprocessing.LabelEncoder()\n",
        "encoder.fit(df.jenis_usaha)\n",
        "df['jenis_usaha'] = encoder.transform(df.jenis_usaha)\n",
        "\n",
        "#Make a mapping of label encoder\n",
        "\n",
        "classes = dict(zip(encoder.transform(encoder.classes_), encoder.classes_  ))"
      ],
      "metadata": {
        "id": "7FraAU_WdQl2"
      },
      "execution_count": 400,
      "outputs": []
    },
    {
      "cell_type": "code",
      "source": [
        "classes"
      ],
      "metadata": {
        "colab": {
          "base_uri": "https://localhost:8080/"
        },
        "id": "v1pdtKY-6dSm",
        "outputId": "aa83e5e0-503e-4c25-ba49-37e78a343a0b"
      },
      "execution_count": 401,
      "outputs": [
        {
          "output_type": "execute_result",
          "data": {
            "text/plain": [
              "{0: 'Barang Digital',\n",
              " 1: 'Dropshipper',\n",
              " 2: 'Elektronik',\n",
              " 3: 'Kosmetik',\n",
              " 4: 'Kuliner',\n",
              " 5: 'Pakaian',\n",
              " 6: 'Perternakan',\n",
              " 7: 'Toserba/Toko Kelontong'}"
            ]
          },
          "metadata": {},
          "execution_count": 401
        }
      ]
    },
    {
      "cell_type": "code",
      "source": [
        "label = df['jenis_usaha']\n",
        "label = label.to_frame(name = 'jenis_usaha')\n"
      ],
      "metadata": {
        "id": "QnxnQtmhWU0j"
      },
      "execution_count": 402,
      "outputs": []
    },
    {
      "cell_type": "code",
      "source": [
        "#Drop encoded labels from the main dataframe\n",
        "df = df.drop('jenis_usaha', axis = 1)\n",
        "\n"
      ],
      "metadata": {
        "id": "CzA5iAhmWrG5"
      },
      "execution_count": 403,
      "outputs": []
    },
    {
      "cell_type": "code",
      "source": [
        "df.head()"
      ],
      "metadata": {
        "colab": {
          "base_uri": "https://localhost:8080/",
          "height": 300
        },
        "id": "bZCVK7ZdXVOE",
        "outputId": "29dbcff0-6750-4097-9e92-2ba9a693494a"
      },
      "execution_count": 404,
      "outputs": [
        {
          "output_type": "execute_result",
          "data": {
            "text/plain": [
              "   modal_minimum  modal_maximum  tingkat_persaingan_idx  pegawai_minimum  \\\n",
              "1     10000000.0     25000000.0                       1                1   \n",
              "2      1000000.0     10000000.0                       1                1   \n",
              "3      1000000.0     10000000.0                       1                1   \n",
              "4      1000000.0     10000000.0                       0                1   \n",
              "5      1000000.0     10000000.0                       2                1   \n",
              "\n",
              "   omset_minimum  tp_b  tp_m  tp_a  lokasi_idx  hewan_ternak_idx  ...  \\\n",
              "1     25000000.0     1     1     1           1                 1  ...   \n",
              "2      1000000.0     1     1     0           1                 0  ...   \n",
              "3      1000000.0     0     1     0           1                 0  ...   \n",
              "4      1000000.0     1     0     0           0                 0  ...   \n",
              "5      1000000.0     1     1     0           0                 0  ...   \n",
              "\n",
              "   mengerti_hewan_idx  lahan_minimum  tipe_usaha_kuliner_idx  \\\n",
              "1                   1         1000.0                       0   \n",
              "2                   0            0.0                       0   \n",
              "3                   0            0.0                       1   \n",
              "4                   0            0.0                       0   \n",
              "5                   0            0.0                       0   \n",
              "\n",
              "   kemampuan_masak_idx  penyimpanan_barang_idx  internet_minimum  \\\n",
              "1                    0                       0                 0   \n",
              "2                    0                       0                 0   \n",
              "3                    1                       0                 0   \n",
              "4                    0                       1            100000   \n",
              "5                    0                       1            300000   \n",
              "\n",
              "   sosial_media_idx  toko_toserba_idx  tipe_toko_idx  tipe_usaha_lain_idx  \n",
              "1                 0                 0              0                    0  \n",
              "2                 0                 1              1                    0  \n",
              "3                 0                 0              0                    0  \n",
              "4                 1                 0              0                    0  \n",
              "5                 2                 0              0                    0  \n",
              "\n",
              "[5 rows x 21 columns]"
            ],
            "text/html": [
              "\n",
              "  <div id=\"df-ba1d5be6-02a4-431c-90ca-feffbf8734d4\">\n",
              "    <div class=\"colab-df-container\">\n",
              "      <div>\n",
              "<style scoped>\n",
              "    .dataframe tbody tr th:only-of-type {\n",
              "        vertical-align: middle;\n",
              "    }\n",
              "\n",
              "    .dataframe tbody tr th {\n",
              "        vertical-align: top;\n",
              "    }\n",
              "\n",
              "    .dataframe thead th {\n",
              "        text-align: right;\n",
              "    }\n",
              "</style>\n",
              "<table border=\"1\" class=\"dataframe\">\n",
              "  <thead>\n",
              "    <tr style=\"text-align: right;\">\n",
              "      <th></th>\n",
              "      <th>modal_minimum</th>\n",
              "      <th>modal_maximum</th>\n",
              "      <th>tingkat_persaingan_idx</th>\n",
              "      <th>pegawai_minimum</th>\n",
              "      <th>omset_minimum</th>\n",
              "      <th>tp_b</th>\n",
              "      <th>tp_m</th>\n",
              "      <th>tp_a</th>\n",
              "      <th>lokasi_idx</th>\n",
              "      <th>hewan_ternak_idx</th>\n",
              "      <th>...</th>\n",
              "      <th>mengerti_hewan_idx</th>\n",
              "      <th>lahan_minimum</th>\n",
              "      <th>tipe_usaha_kuliner_idx</th>\n",
              "      <th>kemampuan_masak_idx</th>\n",
              "      <th>penyimpanan_barang_idx</th>\n",
              "      <th>internet_minimum</th>\n",
              "      <th>sosial_media_idx</th>\n",
              "      <th>toko_toserba_idx</th>\n",
              "      <th>tipe_toko_idx</th>\n",
              "      <th>tipe_usaha_lain_idx</th>\n",
              "    </tr>\n",
              "  </thead>\n",
              "  <tbody>\n",
              "    <tr>\n",
              "      <th>1</th>\n",
              "      <td>10000000.0</td>\n",
              "      <td>25000000.0</td>\n",
              "      <td>1</td>\n",
              "      <td>1</td>\n",
              "      <td>25000000.0</td>\n",
              "      <td>1</td>\n",
              "      <td>1</td>\n",
              "      <td>1</td>\n",
              "      <td>1</td>\n",
              "      <td>1</td>\n",
              "      <td>...</td>\n",
              "      <td>1</td>\n",
              "      <td>1000.0</td>\n",
              "      <td>0</td>\n",
              "      <td>0</td>\n",
              "      <td>0</td>\n",
              "      <td>0</td>\n",
              "      <td>0</td>\n",
              "      <td>0</td>\n",
              "      <td>0</td>\n",
              "      <td>0</td>\n",
              "    </tr>\n",
              "    <tr>\n",
              "      <th>2</th>\n",
              "      <td>1000000.0</td>\n",
              "      <td>10000000.0</td>\n",
              "      <td>1</td>\n",
              "      <td>1</td>\n",
              "      <td>1000000.0</td>\n",
              "      <td>1</td>\n",
              "      <td>1</td>\n",
              "      <td>0</td>\n",
              "      <td>1</td>\n",
              "      <td>0</td>\n",
              "      <td>...</td>\n",
              "      <td>0</td>\n",
              "      <td>0.0</td>\n",
              "      <td>0</td>\n",
              "      <td>0</td>\n",
              "      <td>0</td>\n",
              "      <td>0</td>\n",
              "      <td>0</td>\n",
              "      <td>1</td>\n",
              "      <td>1</td>\n",
              "      <td>0</td>\n",
              "    </tr>\n",
              "    <tr>\n",
              "      <th>3</th>\n",
              "      <td>1000000.0</td>\n",
              "      <td>10000000.0</td>\n",
              "      <td>1</td>\n",
              "      <td>1</td>\n",
              "      <td>1000000.0</td>\n",
              "      <td>0</td>\n",
              "      <td>1</td>\n",
              "      <td>0</td>\n",
              "      <td>1</td>\n",
              "      <td>0</td>\n",
              "      <td>...</td>\n",
              "      <td>0</td>\n",
              "      <td>0.0</td>\n",
              "      <td>1</td>\n",
              "      <td>1</td>\n",
              "      <td>0</td>\n",
              "      <td>0</td>\n",
              "      <td>0</td>\n",
              "      <td>0</td>\n",
              "      <td>0</td>\n",
              "      <td>0</td>\n",
              "    </tr>\n",
              "    <tr>\n",
              "      <th>4</th>\n",
              "      <td>1000000.0</td>\n",
              "      <td>10000000.0</td>\n",
              "      <td>0</td>\n",
              "      <td>1</td>\n",
              "      <td>1000000.0</td>\n",
              "      <td>1</td>\n",
              "      <td>0</td>\n",
              "      <td>0</td>\n",
              "      <td>0</td>\n",
              "      <td>0</td>\n",
              "      <td>...</td>\n",
              "      <td>0</td>\n",
              "      <td>0.0</td>\n",
              "      <td>0</td>\n",
              "      <td>0</td>\n",
              "      <td>1</td>\n",
              "      <td>100000</td>\n",
              "      <td>1</td>\n",
              "      <td>0</td>\n",
              "      <td>0</td>\n",
              "      <td>0</td>\n",
              "    </tr>\n",
              "    <tr>\n",
              "      <th>5</th>\n",
              "      <td>1000000.0</td>\n",
              "      <td>10000000.0</td>\n",
              "      <td>2</td>\n",
              "      <td>1</td>\n",
              "      <td>1000000.0</td>\n",
              "      <td>1</td>\n",
              "      <td>1</td>\n",
              "      <td>0</td>\n",
              "      <td>0</td>\n",
              "      <td>0</td>\n",
              "      <td>...</td>\n",
              "      <td>0</td>\n",
              "      <td>0.0</td>\n",
              "      <td>0</td>\n",
              "      <td>0</td>\n",
              "      <td>1</td>\n",
              "      <td>300000</td>\n",
              "      <td>2</td>\n",
              "      <td>0</td>\n",
              "      <td>0</td>\n",
              "      <td>0</td>\n",
              "    </tr>\n",
              "  </tbody>\n",
              "</table>\n",
              "<p>5 rows × 21 columns</p>\n",
              "</div>\n",
              "      <button class=\"colab-df-convert\" onclick=\"convertToInteractive('df-ba1d5be6-02a4-431c-90ca-feffbf8734d4')\"\n",
              "              title=\"Convert this dataframe to an interactive table.\"\n",
              "              style=\"display:none;\">\n",
              "        \n",
              "  <svg xmlns=\"http://www.w3.org/2000/svg\" height=\"24px\"viewBox=\"0 0 24 24\"\n",
              "       width=\"24px\">\n",
              "    <path d=\"M0 0h24v24H0V0z\" fill=\"none\"/>\n",
              "    <path d=\"M18.56 5.44l.94 2.06.94-2.06 2.06-.94-2.06-.94-.94-2.06-.94 2.06-2.06.94zm-11 1L8.5 8.5l.94-2.06 2.06-.94-2.06-.94L8.5 2.5l-.94 2.06-2.06.94zm10 10l.94 2.06.94-2.06 2.06-.94-2.06-.94-.94-2.06-.94 2.06-2.06.94z\"/><path d=\"M17.41 7.96l-1.37-1.37c-.4-.4-.92-.59-1.43-.59-.52 0-1.04.2-1.43.59L10.3 9.45l-7.72 7.72c-.78.78-.78 2.05 0 2.83L4 21.41c.39.39.9.59 1.41.59.51 0 1.02-.2 1.41-.59l7.78-7.78 2.81-2.81c.8-.78.8-2.07 0-2.86zM5.41 20L4 18.59l7.72-7.72 1.47 1.35L5.41 20z\"/>\n",
              "  </svg>\n",
              "      </button>\n",
              "      \n",
              "  <style>\n",
              "    .colab-df-container {\n",
              "      display:flex;\n",
              "      flex-wrap:wrap;\n",
              "      gap: 12px;\n",
              "    }\n",
              "\n",
              "    .colab-df-convert {\n",
              "      background-color: #E8F0FE;\n",
              "      border: none;\n",
              "      border-radius: 50%;\n",
              "      cursor: pointer;\n",
              "      display: none;\n",
              "      fill: #1967D2;\n",
              "      height: 32px;\n",
              "      padding: 0 0 0 0;\n",
              "      width: 32px;\n",
              "    }\n",
              "\n",
              "    .colab-df-convert:hover {\n",
              "      background-color: #E2EBFA;\n",
              "      box-shadow: 0px 1px 2px rgba(60, 64, 67, 0.3), 0px 1px 3px 1px rgba(60, 64, 67, 0.15);\n",
              "      fill: #174EA6;\n",
              "    }\n",
              "\n",
              "    [theme=dark] .colab-df-convert {\n",
              "      background-color: #3B4455;\n",
              "      fill: #D2E3FC;\n",
              "    }\n",
              "\n",
              "    [theme=dark] .colab-df-convert:hover {\n",
              "      background-color: #434B5C;\n",
              "      box-shadow: 0px 1px 3px 1px rgba(0, 0, 0, 0.15);\n",
              "      filter: drop-shadow(0px 1px 2px rgba(0, 0, 0, 0.3));\n",
              "      fill: #FFFFFF;\n",
              "    }\n",
              "  </style>\n",
              "\n",
              "      <script>\n",
              "        const buttonEl =\n",
              "          document.querySelector('#df-ba1d5be6-02a4-431c-90ca-feffbf8734d4 button.colab-df-convert');\n",
              "        buttonEl.style.display =\n",
              "          google.colab.kernel.accessAllowed ? 'block' : 'none';\n",
              "\n",
              "        async function convertToInteractive(key) {\n",
              "          const element = document.querySelector('#df-ba1d5be6-02a4-431c-90ca-feffbf8734d4');\n",
              "          const dataTable =\n",
              "            await google.colab.kernel.invokeFunction('convertToInteractive',\n",
              "                                                     [key], {});\n",
              "          if (!dataTable) return;\n",
              "\n",
              "          const docLinkHtml = 'Like what you see? Visit the ' +\n",
              "            '<a target=\"_blank\" href=https://colab.research.google.com/notebooks/data_table.ipynb>data table notebook</a>'\n",
              "            + ' to learn more about interactive tables.';\n",
              "          element.innerHTML = '';\n",
              "          dataTable['output_type'] = 'display_data';\n",
              "          await google.colab.output.renderOutput(dataTable, element);\n",
              "          const docLink = document.createElement('div');\n",
              "          docLink.innerHTML = docLinkHtml;\n",
              "          element.appendChild(docLink);\n",
              "        }\n",
              "      </script>\n",
              "    </div>\n",
              "  </div>\n",
              "  "
            ]
          },
          "metadata": {},
          "execution_count": 404
        }
      ]
    },
    {
      "cell_type": "markdown",
      "source": [
        "# **Normalize Large Value**"
      ],
      "metadata": {
        "id": "pjg58JdHV7a2"
      }
    },
    {
      "cell_type": "code",
      "source": [
        "def normalize(df):\n",
        "  df = (df-df.min())/(df.max()-df.min())\n",
        "  return df"
      ],
      "metadata": {
        "id": "wgGW24naWAkM"
      },
      "execution_count": 405,
      "outputs": []
    },
    {
      "cell_type": "code",
      "source": [
        "df['modal_maximum'] = normalize(df['modal_maximum'])"
      ],
      "metadata": {
        "id": "I3arHyCFYINt"
      },
      "execution_count": 406,
      "outputs": []
    },
    {
      "cell_type": "code",
      "source": [
        "df['modal_minimum'] = normalize(df['modal_minimum'])"
      ],
      "metadata": {
        "id": "aXeTCtVcYhY8"
      },
      "execution_count": 407,
      "outputs": []
    },
    {
      "cell_type": "code",
      "source": [
        "df['omset_minimum'] = normalize(df['omset_minimum'])"
      ],
      "metadata": {
        "id": "a2ZmJ4pwY0K2"
      },
      "execution_count": 408,
      "outputs": []
    },
    {
      "cell_type": "code",
      "source": [
        "df.head()"
      ],
      "metadata": {
        "colab": {
          "base_uri": "https://localhost:8080/",
          "height": 300
        },
        "id": "vNupIpMaYQuO",
        "outputId": "e23b2389-e0ce-40af-fdeb-174e1d83b287"
      },
      "execution_count": 409,
      "outputs": [
        {
          "output_type": "execute_result",
          "data": {
            "text/plain": [
              "   modal_minimum  modal_maximum  tingkat_persaingan_idx  pegawai_minimum  \\\n",
              "1       0.387755       0.242424                       1                1   \n",
              "2       0.020408       0.090909                       1                1   \n",
              "3       0.020408       0.090909                       1                1   \n",
              "4       0.020408       0.090909                       0                1   \n",
              "5       0.020408       0.090909                       2                1   \n",
              "\n",
              "   omset_minimum  tp_b  tp_m  tp_a  lokasi_idx  hewan_ternak_idx  ...  \\\n",
              "1       0.489796     1     1     1           1                 1  ...   \n",
              "2       0.000000     1     1     0           1                 0  ...   \n",
              "3       0.000000     0     1     0           1                 0  ...   \n",
              "4       0.000000     1     0     0           0                 0  ...   \n",
              "5       0.000000     1     1     0           0                 0  ...   \n",
              "\n",
              "   mengerti_hewan_idx  lahan_minimum  tipe_usaha_kuliner_idx  \\\n",
              "1                   1         1000.0                       0   \n",
              "2                   0            0.0                       0   \n",
              "3                   0            0.0                       1   \n",
              "4                   0            0.0                       0   \n",
              "5                   0            0.0                       0   \n",
              "\n",
              "   kemampuan_masak_idx  penyimpanan_barang_idx  internet_minimum  \\\n",
              "1                    0                       0                 0   \n",
              "2                    0                       0                 0   \n",
              "3                    1                       0                 0   \n",
              "4                    0                       1            100000   \n",
              "5                    0                       1            300000   \n",
              "\n",
              "   sosial_media_idx  toko_toserba_idx  tipe_toko_idx  tipe_usaha_lain_idx  \n",
              "1                 0                 0              0                    0  \n",
              "2                 0                 1              1                    0  \n",
              "3                 0                 0              0                    0  \n",
              "4                 1                 0              0                    0  \n",
              "5                 2                 0              0                    0  \n",
              "\n",
              "[5 rows x 21 columns]"
            ],
            "text/html": [
              "\n",
              "  <div id=\"df-23412926-c427-4a18-a849-6f457b912c43\">\n",
              "    <div class=\"colab-df-container\">\n",
              "      <div>\n",
              "<style scoped>\n",
              "    .dataframe tbody tr th:only-of-type {\n",
              "        vertical-align: middle;\n",
              "    }\n",
              "\n",
              "    .dataframe tbody tr th {\n",
              "        vertical-align: top;\n",
              "    }\n",
              "\n",
              "    .dataframe thead th {\n",
              "        text-align: right;\n",
              "    }\n",
              "</style>\n",
              "<table border=\"1\" class=\"dataframe\">\n",
              "  <thead>\n",
              "    <tr style=\"text-align: right;\">\n",
              "      <th></th>\n",
              "      <th>modal_minimum</th>\n",
              "      <th>modal_maximum</th>\n",
              "      <th>tingkat_persaingan_idx</th>\n",
              "      <th>pegawai_minimum</th>\n",
              "      <th>omset_minimum</th>\n",
              "      <th>tp_b</th>\n",
              "      <th>tp_m</th>\n",
              "      <th>tp_a</th>\n",
              "      <th>lokasi_idx</th>\n",
              "      <th>hewan_ternak_idx</th>\n",
              "      <th>...</th>\n",
              "      <th>mengerti_hewan_idx</th>\n",
              "      <th>lahan_minimum</th>\n",
              "      <th>tipe_usaha_kuliner_idx</th>\n",
              "      <th>kemampuan_masak_idx</th>\n",
              "      <th>penyimpanan_barang_idx</th>\n",
              "      <th>internet_minimum</th>\n",
              "      <th>sosial_media_idx</th>\n",
              "      <th>toko_toserba_idx</th>\n",
              "      <th>tipe_toko_idx</th>\n",
              "      <th>tipe_usaha_lain_idx</th>\n",
              "    </tr>\n",
              "  </thead>\n",
              "  <tbody>\n",
              "    <tr>\n",
              "      <th>1</th>\n",
              "      <td>0.387755</td>\n",
              "      <td>0.242424</td>\n",
              "      <td>1</td>\n",
              "      <td>1</td>\n",
              "      <td>0.489796</td>\n",
              "      <td>1</td>\n",
              "      <td>1</td>\n",
              "      <td>1</td>\n",
              "      <td>1</td>\n",
              "      <td>1</td>\n",
              "      <td>...</td>\n",
              "      <td>1</td>\n",
              "      <td>1000.0</td>\n",
              "      <td>0</td>\n",
              "      <td>0</td>\n",
              "      <td>0</td>\n",
              "      <td>0</td>\n",
              "      <td>0</td>\n",
              "      <td>0</td>\n",
              "      <td>0</td>\n",
              "      <td>0</td>\n",
              "    </tr>\n",
              "    <tr>\n",
              "      <th>2</th>\n",
              "      <td>0.020408</td>\n",
              "      <td>0.090909</td>\n",
              "      <td>1</td>\n",
              "      <td>1</td>\n",
              "      <td>0.000000</td>\n",
              "      <td>1</td>\n",
              "      <td>1</td>\n",
              "      <td>0</td>\n",
              "      <td>1</td>\n",
              "      <td>0</td>\n",
              "      <td>...</td>\n",
              "      <td>0</td>\n",
              "      <td>0.0</td>\n",
              "      <td>0</td>\n",
              "      <td>0</td>\n",
              "      <td>0</td>\n",
              "      <td>0</td>\n",
              "      <td>0</td>\n",
              "      <td>1</td>\n",
              "      <td>1</td>\n",
              "      <td>0</td>\n",
              "    </tr>\n",
              "    <tr>\n",
              "      <th>3</th>\n",
              "      <td>0.020408</td>\n",
              "      <td>0.090909</td>\n",
              "      <td>1</td>\n",
              "      <td>1</td>\n",
              "      <td>0.000000</td>\n",
              "      <td>0</td>\n",
              "      <td>1</td>\n",
              "      <td>0</td>\n",
              "      <td>1</td>\n",
              "      <td>0</td>\n",
              "      <td>...</td>\n",
              "      <td>0</td>\n",
              "      <td>0.0</td>\n",
              "      <td>1</td>\n",
              "      <td>1</td>\n",
              "      <td>0</td>\n",
              "      <td>0</td>\n",
              "      <td>0</td>\n",
              "      <td>0</td>\n",
              "      <td>0</td>\n",
              "      <td>0</td>\n",
              "    </tr>\n",
              "    <tr>\n",
              "      <th>4</th>\n",
              "      <td>0.020408</td>\n",
              "      <td>0.090909</td>\n",
              "      <td>0</td>\n",
              "      <td>1</td>\n",
              "      <td>0.000000</td>\n",
              "      <td>1</td>\n",
              "      <td>0</td>\n",
              "      <td>0</td>\n",
              "      <td>0</td>\n",
              "      <td>0</td>\n",
              "      <td>...</td>\n",
              "      <td>0</td>\n",
              "      <td>0.0</td>\n",
              "      <td>0</td>\n",
              "      <td>0</td>\n",
              "      <td>1</td>\n",
              "      <td>100000</td>\n",
              "      <td>1</td>\n",
              "      <td>0</td>\n",
              "      <td>0</td>\n",
              "      <td>0</td>\n",
              "    </tr>\n",
              "    <tr>\n",
              "      <th>5</th>\n",
              "      <td>0.020408</td>\n",
              "      <td>0.090909</td>\n",
              "      <td>2</td>\n",
              "      <td>1</td>\n",
              "      <td>0.000000</td>\n",
              "      <td>1</td>\n",
              "      <td>1</td>\n",
              "      <td>0</td>\n",
              "      <td>0</td>\n",
              "      <td>0</td>\n",
              "      <td>...</td>\n",
              "      <td>0</td>\n",
              "      <td>0.0</td>\n",
              "      <td>0</td>\n",
              "      <td>0</td>\n",
              "      <td>1</td>\n",
              "      <td>300000</td>\n",
              "      <td>2</td>\n",
              "      <td>0</td>\n",
              "      <td>0</td>\n",
              "      <td>0</td>\n",
              "    </tr>\n",
              "  </tbody>\n",
              "</table>\n",
              "<p>5 rows × 21 columns</p>\n",
              "</div>\n",
              "      <button class=\"colab-df-convert\" onclick=\"convertToInteractive('df-23412926-c427-4a18-a849-6f457b912c43')\"\n",
              "              title=\"Convert this dataframe to an interactive table.\"\n",
              "              style=\"display:none;\">\n",
              "        \n",
              "  <svg xmlns=\"http://www.w3.org/2000/svg\" height=\"24px\"viewBox=\"0 0 24 24\"\n",
              "       width=\"24px\">\n",
              "    <path d=\"M0 0h24v24H0V0z\" fill=\"none\"/>\n",
              "    <path d=\"M18.56 5.44l.94 2.06.94-2.06 2.06-.94-2.06-.94-.94-2.06-.94 2.06-2.06.94zm-11 1L8.5 8.5l.94-2.06 2.06-.94-2.06-.94L8.5 2.5l-.94 2.06-2.06.94zm10 10l.94 2.06.94-2.06 2.06-.94-2.06-.94-.94-2.06-.94 2.06-2.06.94z\"/><path d=\"M17.41 7.96l-1.37-1.37c-.4-.4-.92-.59-1.43-.59-.52 0-1.04.2-1.43.59L10.3 9.45l-7.72 7.72c-.78.78-.78 2.05 0 2.83L4 21.41c.39.39.9.59 1.41.59.51 0 1.02-.2 1.41-.59l7.78-7.78 2.81-2.81c.8-.78.8-2.07 0-2.86zM5.41 20L4 18.59l7.72-7.72 1.47 1.35L5.41 20z\"/>\n",
              "  </svg>\n",
              "      </button>\n",
              "      \n",
              "  <style>\n",
              "    .colab-df-container {\n",
              "      display:flex;\n",
              "      flex-wrap:wrap;\n",
              "      gap: 12px;\n",
              "    }\n",
              "\n",
              "    .colab-df-convert {\n",
              "      background-color: #E8F0FE;\n",
              "      border: none;\n",
              "      border-radius: 50%;\n",
              "      cursor: pointer;\n",
              "      display: none;\n",
              "      fill: #1967D2;\n",
              "      height: 32px;\n",
              "      padding: 0 0 0 0;\n",
              "      width: 32px;\n",
              "    }\n",
              "\n",
              "    .colab-df-convert:hover {\n",
              "      background-color: #E2EBFA;\n",
              "      box-shadow: 0px 1px 2px rgba(60, 64, 67, 0.3), 0px 1px 3px 1px rgba(60, 64, 67, 0.15);\n",
              "      fill: #174EA6;\n",
              "    }\n",
              "\n",
              "    [theme=dark] .colab-df-convert {\n",
              "      background-color: #3B4455;\n",
              "      fill: #D2E3FC;\n",
              "    }\n",
              "\n",
              "    [theme=dark] .colab-df-convert:hover {\n",
              "      background-color: #434B5C;\n",
              "      box-shadow: 0px 1px 3px 1px rgba(0, 0, 0, 0.15);\n",
              "      filter: drop-shadow(0px 1px 2px rgba(0, 0, 0, 0.3));\n",
              "      fill: #FFFFFF;\n",
              "    }\n",
              "  </style>\n",
              "\n",
              "      <script>\n",
              "        const buttonEl =\n",
              "          document.querySelector('#df-23412926-c427-4a18-a849-6f457b912c43 button.colab-df-convert');\n",
              "        buttonEl.style.display =\n",
              "          google.colab.kernel.accessAllowed ? 'block' : 'none';\n",
              "\n",
              "        async function convertToInteractive(key) {\n",
              "          const element = document.querySelector('#df-23412926-c427-4a18-a849-6f457b912c43');\n",
              "          const dataTable =\n",
              "            await google.colab.kernel.invokeFunction('convertToInteractive',\n",
              "                                                     [key], {});\n",
              "          if (!dataTable) return;\n",
              "\n",
              "          const docLinkHtml = 'Like what you see? Visit the ' +\n",
              "            '<a target=\"_blank\" href=https://colab.research.google.com/notebooks/data_table.ipynb>data table notebook</a>'\n",
              "            + ' to learn more about interactive tables.';\n",
              "          element.innerHTML = '';\n",
              "          dataTable['output_type'] = 'display_data';\n",
              "          await google.colab.output.renderOutput(dataTable, element);\n",
              "          const docLink = document.createElement('div');\n",
              "          docLink.innerHTML = docLinkHtml;\n",
              "          element.appendChild(docLink);\n",
              "        }\n",
              "      </script>\n",
              "    </div>\n",
              "  </div>\n",
              "  "
            ]
          },
          "metadata": {},
          "execution_count": 409
        }
      ]
    },
    {
      "cell_type": "markdown",
      "source": [
        "# **Split Train and Test data**"
      ],
      "metadata": {
        "id": "mo3HGAlj8bro"
      }
    },
    {
      "cell_type": "code",
      "source": [
        "#Split train - test\n",
        "from sklearn.model_selection import train_test_split\n",
        "data = df.to_numpy()\n",
        "label = label.to_numpy()\n",
        "\n",
        "\n",
        "\n",
        "data_train, data_test, label_train, label_test = train_test_split(data, label, test_size = 0.2, random_state = 42)\n"
      ],
      "metadata": {
        "id": "WkZB13QydaQY"
      },
      "execution_count": 410,
      "outputs": []
    },
    {
      "cell_type": "code",
      "source": [
        "print(data_train.shape)\n",
        "print(data_test.shape)"
      ],
      "metadata": {
        "colab": {
          "base_uri": "https://localhost:8080/"
        },
        "id": "uoFWbMKiQEUX",
        "outputId": "e48c1270-2122-4f24-c3cf-0b41397ff0d9"
      },
      "execution_count": 411,
      "outputs": [
        {
          "output_type": "stream",
          "name": "stdout",
          "text": [
            "(98, 21)\n",
            "(25, 21)\n"
          ]
        }
      ]
    },
    {
      "cell_type": "code",
      "source": [
        "label_train = label_train.flatten()\n",
        "label_test = label_test.flatten()\n",
        "print(label_train.shape)\n",
        "print(label_test.shape)"
      ],
      "metadata": {
        "colab": {
          "base_uri": "https://localhost:8080/"
        },
        "id": "oBlheq5tQIBT",
        "outputId": "ab8d977a-71e3-44d9-fdcc-1a13878460f1"
      },
      "execution_count": 412,
      "outputs": [
        {
          "output_type": "stream",
          "name": "stdout",
          "text": [
            "(98,)\n",
            "(25,)\n"
          ]
        }
      ]
    },
    {
      "cell_type": "markdown",
      "source": [
        "# **KNN**"
      ],
      "metadata": {
        "id": "rYq9aeIQaw2L"
      }
    },
    {
      "cell_type": "code",
      "source": [
        "from sklearn.model_selection import train_test_split\n",
        "from sklearn.neighbors import KNeighborsClassifier\n",
        "import matplotlib.pyplot as plt "
      ],
      "metadata": {
        "id": "kt0SS1e2aza4"
      },
      "execution_count": 413,
      "outputs": []
    },
    {
      "cell_type": "code",
      "source": [
        "model = KNeighborsClassifier(n_neighbors=2)\n"
      ],
      "metadata": {
        "id": "fBIKakd9dsqf"
      },
      "execution_count": 414,
      "outputs": []
    },
    {
      "cell_type": "code",
      "source": [
        "model.fit(data_train, label_train)"
      ],
      "metadata": {
        "colab": {
          "base_uri": "https://localhost:8080/"
        },
        "id": "j686qY88Qpkp",
        "outputId": "b88f7984-8105-47b3-a41b-94f900eb1789"
      },
      "execution_count": 415,
      "outputs": [
        {
          "output_type": "execute_result",
          "data": {
            "text/plain": [
              "KNeighborsClassifier(n_neighbors=2)"
            ]
          },
          "metadata": {},
          "execution_count": 415
        }
      ]
    },
    {
      "cell_type": "code",
      "source": [
        "predict = model.predict(data_test)"
      ],
      "metadata": {
        "id": "vRxp1TCdTSbX"
      },
      "execution_count": 416,
      "outputs": []
    },
    {
      "cell_type": "code",
      "source": [
        "print(\"Prediction : \",predict)\n",
        "print(\"Actual label : \",label_test)"
      ],
      "metadata": {
        "colab": {
          "base_uri": "https://localhost:8080/"
        },
        "id": "g6zYd2lxThTB",
        "outputId": "0942e6c5-cbac-498a-aac5-9b7b8052d0fe"
      },
      "execution_count": 417,
      "outputs": [
        {
          "output_type": "stream",
          "name": "stdout",
          "text": [
            "Prediction :  [7 7 7 4 1 7 4 7 0 2 7 3 1 4 4 4 0 2 6 6 0 7 0 6 6]\n",
            "Actual label :  [7 7 7 4 1 7 4 7 7 2 7 3 1 4 4 4 0 2 6 6 5 7 5 6 6]\n"
          ]
        }
      ]
    },
    {
      "cell_type": "code",
      "source": [
        "from sklearn import metrics\n",
        "\n",
        "print(\"accuracy : \", metrics.accuracy_score(predict, label_test))"
      ],
      "metadata": {
        "colab": {
          "base_uri": "https://localhost:8080/"
        },
        "id": "4_0bp_XUTb1i",
        "outputId": "a9a69628-37eb-4a4d-cc9c-f0e0951849da"
      },
      "execution_count": 418,
      "outputs": [
        {
          "output_type": "stream",
          "name": "stdout",
          "text": [
            "accuracy :  0.88\n"
          ]
        }
      ]
    },
    {
      "cell_type": "markdown",
      "source": [
        "# Visualize KNN model through every K possible "
      ],
      "metadata": {
        "id": "IqNNPS9A-XNT"
      }
    },
    {
      "cell_type": "code",
      "source": [
        "# K will be in between 1 to 8 since we have 8 class\n",
        "K = range(1,9)\n",
        "\n",
        "\n",
        "accuracies_list = []\n",
        "\n",
        "for k in K:\n",
        "  model2 = KNeighborsClassifier(n_neighbors=k)\n",
        "  model2.fit(data_train, label_train)\n",
        "  predictions = model2.predict(data_test)\n",
        "  accuracies_list.append(metrics.accuracy_score(predictions, label_test))"
      ],
      "metadata": {
        "id": "ewIeerTO-dFP"
      },
      "execution_count": 419,
      "outputs": []
    },
    {
      "cell_type": "code",
      "source": [
        "plt.plot(K,accuracies_list)\n",
        "plt.xlabel('K value')\n",
        "plt.ylabel('Accuracy')"
      ],
      "metadata": {
        "colab": {
          "base_uri": "https://localhost:8080/",
          "height": 296
        },
        "id": "fS-LkHVo_0e-",
        "outputId": "99742c40-9ade-4471-a800-1dad75c432b9"
      },
      "execution_count": 420,
      "outputs": [
        {
          "output_type": "execute_result",
          "data": {
            "text/plain": [
              "Text(0, 0.5, 'Accuracy')"
            ]
          },
          "metadata": {},
          "execution_count": 420
        },
        {
          "output_type": "display_data",
          "data": {
            "text/plain": [
              "<Figure size 432x288 with 1 Axes>"
            ],
            "image/png": "[encoded data removed]"
          },
          "metadata": {
            "needs_background": "light"
          }
        }
      ]
    },
    {
      "cell_type": "markdown",
      "source": [
        "# Prediction"
      ],
      "metadata": {
        "id": "sGPcdRpWAUC4"
      }
    },
    {
      "cell_type": "code",
      "source": [
        "#Prediction for peternakan\n",
        "predict = model.predict(df.iloc[[0]].to_numpy())\n",
        "classes[predict[0]]"
      ],
      "metadata": {
        "colab": {
          "base_uri": "https://localhost:8080/",
          "height": 35
        },
        "id": "2Ud38T9DAXEw",
        "outputId": "2aeb4c78-e3cd-490a-e45a-7b991b79c74d"
      },
      "execution_count": 421,
      "outputs": [
        {
          "output_type": "execute_result",
          "data": {
            "text/plain": [
              "'Perternakan'"
            ],
            "application/vnd.google.colaboratory.intrinsic+json": {
              "type": "string"
            }
          },
          "metadata": {},
          "execution_count": 421
        }
      ]
    },
    {
      "cell_type": "code",
      "source": [
        "#Prediction for kuliner\n",
        "predict = model.predict(df.iloc[[2]].to_numpy())\n",
        "classes[predict[0]]"
      ],
      "metadata": {
        "colab": {
          "base_uri": "https://localhost:8080/",
          "height": 35
        },
        "id": "SSCndnE6AY6C",
        "outputId": "510ed46d-b29c-4e52-f382-230cd90806dd"
      },
      "execution_count": 422,
      "outputs": [
        {
          "output_type": "execute_result",
          "data": {
            "text/plain": [
              "'Kuliner'"
            ],
            "application/vnd.google.colaboratory.intrinsic+json": {
              "type": "string"
            }
          },
          "metadata": {},
          "execution_count": 422
        }
      ]
    },
    {
      "cell_type": "code",
      "source": [
        "#Prediction for toserba\n",
        "predict = model.predict(df.iloc[[1]].to_numpy())\n",
        "classes[predict[0]]"
      ],
      "metadata": {
        "colab": {
          "base_uri": "https://localhost:8080/",
          "height": 35
        },
        "id": "L0rlhBDqAbC3",
        "outputId": "f2ff3915-88ed-41d6-df5e-ff4b380e46b3"
      },
      "execution_count": 423,
      "outputs": [
        {
          "output_type": "execute_result",
          "data": {
            "text/plain": [
              "'Toserba/Toko Kelontong'"
            ],
            "application/vnd.google.colaboratory.intrinsic+json": {
              "type": "string"
            }
          },
          "metadata": {},
          "execution_count": 423
        }
      ]
    },
    {
      "cell_type": "markdown",
      "source": [
        "# **Saving KNN model**"
      ],
      "metadata": {
        "id": "FYvS--PeDVLJ"
      }
    },
    {
      "cell_type": "code",
      "source": [
        "import joblib\n",
        "\n",
        "joblib.dump(model, 'ModelKnn.pkl')"
      ],
      "metadata": {
        "colab": {
          "base_uri": "https://localhost:8080/"
        },
        "id": "42wQDhEBDaSI",
        "outputId": "b5c16ec6-f2b1-48cb-99da-a94d71656da0"
      },
      "execution_count": 424,
      "outputs": [
        {
          "output_type": "execute_result",
          "data": {
            "text/plain": [
              "['ModelKnn.pkl']"
            ]
          },
          "metadata": {},
          "execution_count": 424
        }
      ]
    },
    {
      "cell_type": "code",
      "source": [
        "model_loaded = joblib.load('ModelKnn.pkl')\n",
        "\n",
        "\n",
        "classes[model_loaded.predict(df.iloc[[1]].to_numpy())[0]]"
      ],
      "metadata": {
        "colab": {
          "base_uri": "https://localhost:8080/",
          "height": 35
        },
        "id": "Z0F4bJb5Dveg",
        "outputId": "c9949dec-39d1-4601-f427-b76c658b68f3"
      },
      "execution_count": 425,
      "outputs": [
        {
          "output_type": "execute_result",
          "data": {
            "text/plain": [
              "'Toserba/Toko Kelontong'"
            ],
            "application/vnd.google.colaboratory.intrinsic+json": {
              "type": "string"
            }
          },
          "metadata": {},
          "execution_count": 425
        }
      ]
    }
  ]
}